{
 "cells": [
  {
   "cell_type": "markdown",
   "metadata": {},
   "source": [
    "Интернет-магазин «В один клик», предлагающий широкий ассортимент товаров от косметики до продуктов питания, сталкивается с падением активности покупателей. Привлечение новых клиентов уже не дает предыдущих результатов, поэтому фокус смещается на удержание и увеличение активности существующих клиентов через персонализированные предложения. В качестве стажера в отделе цифровых технологий, мне поручено разработать данное решение, основываясь на анализе данных и бизнес-моделировании, чтобы повысить покупательскую активность постоянных клиентов."
   ]
  },
  {
   "cell_type": "markdown",
   "metadata": {
    "id": "H6cQIZr3ElW1"
   },
   "source": [
    "\n",
    "# Содержание\n",
    "1. [Введение](#Введение)\n",
    "    1. [Краткое описание проекта](#краткое_описание)\n",
    "    2. [Цели и задачи исследования](#цели)\n",
    "2. [Загрузка данных](#подготовка_данных)\n",
    "    1. [Загрузка данных](#загрузка_данных)\n",
    "    2. [Предобработка данных](#предобработка_данных)\n",
    "    3. [Промежуточные выводы этапа предобработки и объединения данных¶](#Промежуточные_выводы0)\n",
    "3. [Исследовательский анализ данных](#анализ)\n",
    "    1. [Промежуточные выводы раздела](#Промежуточные_выводы1)\n",
    "4. [Объединение таблиц](#объединение)\n",
    "    1. [Промежуточные выводы раздела](#Промежуточные_выводы2)\n",
    "5. [Корреляционный анализ](#корреляция)\n",
    "    1. [Промежуточные выводы раздела](#Промежуточные_выводы3)\n",
    "6. [Использование пайплайнов](#пайплайн)\n",
    "    1. [Использовать ColumnTransformer](#ColumnTransformer)\n",
    "    2. [Обучить четыре модели](#Четыре)\n",
    "    3. [Лучшая модель](#Лучшая)\n",
    "    4. [Промежуточные выводы раздела](#Промежуточные_выводы4)\n",
    "7. [Анализ важности признаков](#Анализ)\n",
    "    1. [Оценить важность признаков для лучшей модели](#Оценка)\n",
    "    2. [Выводы раздела](#Промежуточные_выводы5)\n",
    "8. [Сегментация покупателей](#Сегментация)\n",
    "    1. [Выполнить сегментацию покупателей](#Сегмент)\n",
    "    2. [Группа покупателей и предложение](#Группа)\n",
    "    3. [Выводы раздела](#Промежуточные_выводы6)\n",
    "9. [Общий вывод](#Вывод)\n",
    "    \n",
    "    \n",
    "    "
   ]
  },
  {
   "cell_type": "markdown",
   "metadata": {},
   "source": [
    "<div  style=\"border-radius: 10px; box-shadow: 2px 2px 2px; border: 1px solid; padding: 10px \">\n",
    "\n",
    "\n",
    "# Проект - \"Обучение с учителем\"\n",
    "    \n",
    "<a id=\"Введение\"></a>\n",
    "### Введение    \n",
    "    \n",
    "<a id=\"краткое_описание\"></a>\n",
    "### Краткое описание проекта    \n",
    "        \n",
    "Интернет-магазин «В один клик» охватывает широкий спектр товаров, включая товары для детей, домашние товары, мелкую бытовую технику, косметику и даже продукты питания. В последнем отчетном периоде наблюдается снижение активности покупателей, что ставит под вопрос эффективность методов привлечения новых клиентов, поскольку большинство целевой аудитории уже знакомо с магазином.\n",
    "\n",
    "Учитывая эту ситуацию, руководство компании решило переориентировать стратегию на удержание и повышение активности существующих клиентов. Основной инструмент — персонализированные предложения, которые позволят повысить лояльность и увеличить частоту покупок.\n",
    "\n",
    "Задача отдела цифровых технологий заключается в разработке решения, которое максимально эффективно реализует эту стратегию.\n",
    "    \n",
    "<a id=\"цели\"></a>\n",
    "### Цели и задачи исследования       \n",
    "\n",
    "<b>Цель проекта</b> — создать две прогнозные модели для отбора бурёнок в поголовье.\n",
    "\n",
    "Этапы выполнения проекта:\n",
    "    \n",
    "<b>Шаг №1. Загрузка данных</b>\n",
    "\n",
    "1.1 Загрузить данные. Файлы market_file.csv, market_money.csv, market_time.csv, money.csv доступны по ссылкам в описании данных или через пути к ним:\n",
    "- /datasets/market_file.csv\n",
    "- /datasets/market_money.csv\n",
    "- /datasets/market_time.csv\n",
    "- /datasets/money.csv\n",
    "\n",
    "Обратите внимание: в некоторых файлах разделитель значений — точка с запятой, а разделитель десятичных значений — запятая.  \n",
    "    \n",
    "1.2 Проверить, что данные в таблицах соответствуют описанию.\n",
    "\n",
    "<b>Шаг №2. Предобработка данных</b>\n",
    "\n",
    "- Проверка данных на наличие пропусков и дубликатов\n",
    "- Названия столбцов можно оставить кириллическими.\n",
    "\n",
    "<b>Шаг №3. Исследовательский анализ данных</b>\n",
    "\n",
    "Отобрать клиентов с покупательской активностью не менее трёх месяцев, то есть таких, которые что-либо покупали в этот период. Оформить выводы по результатам шага.\n",
    "\n",
    "<b>Шаг №4. Объединение таблиц</b>\n",
    "\n",
    "4.1 Объединить таблицы market_file.csv, market_money.csv, market_time.csv. Данные о прибыли из файла money.csv при моделировании вам не понадобятся. \n",
    "    \n",
    "4.2 Учесть, что данные о выручке и времени на сайте находятся в одном столбце для всех периодов. В итоговой таблице сделайте отдельный столбец для каждого периода.\n",
    "\n",
    "<b>Шаг №5. Корреляционный анализ</b>\n",
    "\n",
    "Провести корреляционный анализ признаков в количественной шкале в итоговой таблице для моделирования. Сделать выводы о мультиколлинеарности и при необходимости устранить её.\n",
    "\n",
    "<b>Шаг №6. Использование пайплайнов</b>\n",
    "\n",
    "Применить все изученные модели. Для этого использовать пайплайны.\n",
    "\n",
    "6.1 Во время подготовки данных использовать ColumnTransformer. Количественные и категориальные признаки обработайть в пайплайне раздельно. Для кодирования категориальных признаков использовать как минимум два кодировщика, для масштабирования количественных — как минимум два скейлера.\n",
    "Напоминаем, что для каждой модели можно подготовить данные с разным кодированием и масштабированием.\n",
    "\n",
    "6.2 Обучить четыре модели: KNeighborsClassifier(), DecisionTreeClassifier(), LogisticRegression() и  SVC(). Для каждой из них подобрать как минимум один гиперпараметр. Выберать подходящую для задачи метрику, аргументировать свой выбор. Использовать эту метрику при подборе гиперпараметров.\n",
    "\n",
    "6.3 Выбрать лучшую модель, используя заданную метрику. Для этого применить одну из стратегий:\n",
    "- использовать пайплайны и инструменты подбора гиперпараметров для каждой модели отдельно, чтобы выбрать лучшую модель самостоятельно;\n",
    "- использовать один общий пайплайн для всех моделей и инструмент подбора гиперпараметров, который вернёт вам лучшую модель.\n",
    "\n",
    "<b>Шаг №7. Анализ важности признаков</b>\n",
    "\n",
    "7.1 Оценить важность признаков для лучшей модели и построить график важности с помощью метода SHAP. \n",
    "\n",
    "7.2 Сделать выводы о значимости признаков:\n",
    "- какие признаки мало значимы для модели;\n",
    "- какие признаки сильнее всего влияют на целевой признак;\n",
    "- как можно использовать эти наблюдения при моделировании и принятии бизнес-решений.\n",
    "    \n",
    "<b>Шаг №8. Сегментация покупателей</b>\n",
    "\n",
    "8.1 Выполнить сегментацию покупателей. Использовать результаты моделирования и данные о прибыльности покупателей.\n",
    "\n",
    "8.2 Выбрать группу покупателей и предложение, как увеличить её покупательскую активность: \n",
    "- Провести графическое и аналитическое исследование группы покупателей.\n",
    "- Сделайте предложения по работе с сегментом для увеличения покупательской активности.\n",
    "\n",
    "8.3 Выводы о сегментах:\n",
    "- какой сегмент взят для дополнительного исследования,\n",
    "- какие предложения сделаны и почему.\n",
    "    \n",
    "<b>Шаг №9. Общий вывод</b>\n",
    "    \n",
    "- Описание задачи;\n",
    "- Описание исходных данных и проведённой предобработки;\n",
    "- Описание того, что сделано для поиска лучшей модели;\n",
    "- Указание лучшей модели;\n",
    "- Выводы и дополнительные предложения для выбранного сегмента покупателей.    \n",
    "    "
   ]
  },
  {
   "cell_type": "markdown",
   "metadata": {},
   "source": [
    "<a id=\"подготовка_данных\"></a>\n",
    "\n",
    "# Шаг №1. Загрузка данных"
   ]
  },
  {
   "cell_type": "markdown",
   "metadata": {},
   "source": [
    "<div  style=\"border-radius: 10px; box-shadow: 2px 2px 2px; border: 1px solid; padding: 10px \">\n",
    "\n",
    "1.1 Загрузить данные. Файлы market_file.csv, market_money.csv, market_time.csv, money.csv доступны по ссылкам в описании данных или через пути к ним:\n",
    "\n",
    "/datasets/market_file.csv\n",
    "/datasets/market_money.csv\n",
    "/datasets/market_time.csv\n",
    "/datasets/money.csv \n",
    "   \n",
    "Обратите внимание: в некоторых файлах разделитель значений — точка с запятой, а разделитель десятичных значений — запятая.\n",
    "\n",
    "1.2 Проверить, что данные в таблицах соответствуют описанию."
   ]
  },
  {
   "cell_type": "markdown",
   "metadata": {},
   "source": [
    "<div  style=\"border-radius: 10px; box-shadow: 2px 2px 2px; border: 1px solid; padding: 10px \">\n",
    "<a id=\"загрузка_данных\"></a>\n",
    "\n",
    "Загрузка всех требуемых библиотек\n",
    "    \n",
    "С целью обеспечения удобства для других разработчиков или коллег, которые будут просматривать или использовать код. Сгруппируем все необходимые импорты. Это обеспечивает четкое понимание того, какие библиотеки и инструменты будут использоваться в нашем проекте.\n",
    "    Импортируем необходимые библиотеки (pandas, matplotlib, seaborn и т.д.) и функции."
   ]
  },
  {
   "cell_type": "code",
   "execution_count": 1,
   "metadata": {},
   "outputs": [],
   "source": [
    "#pip uninstall scikit-learn imbalanced-learn"
   ]
  },
  {
   "cell_type": "code",
   "execution_count": 2,
   "metadata": {},
   "outputs": [
    {
     "name": "stdout",
     "output_type": "stream",
     "text": [
      "Note: you may need to restart the kernel to use updated packages.\n"
     ]
    }
   ],
   "source": [
    "pip install shap -q"
   ]
  },
  {
   "cell_type": "code",
   "execution_count": 3,
   "metadata": {},
   "outputs": [
    {
     "name": "stdout",
     "output_type": "stream",
     "text": [
      "Note: you may need to restart the kernel to use updated packages.\n"
     ]
    }
   ],
   "source": [
    "pip install imbalanced-learn -q"
   ]
  },
  {
   "cell_type": "code",
   "execution_count": 4,
   "metadata": {
    "scrolled": true
   },
   "outputs": [],
   "source": [
    "#pip install scikit-learn"
   ]
  },
  {
   "cell_type": "code",
   "execution_count": 5,
   "metadata": {},
   "outputs": [],
   "source": [
    "# Стандартные библиотеки\n",
    "import warnings\n",
    "from io import StringIO\n",
    "\n",
    "# Библиотеки сторонних разработчиков\n",
    "import shap\n",
    "import matplotlib.pyplot as plt\n",
    "import numpy as np\n",
    "import pandas as pd\n",
    "import seaborn as sns\n",
    "from sklearn.compose import ColumnTransformer\n",
    "from sklearn.impute import SimpleImputer\n",
    "from sklearn.linear_model import LinearRegression, LogisticRegression\n",
    "from sklearn.neighbors import KNeighborsClassifier\n",
    "from sklearn.tree import DecisionTreeClassifier\n",
    "from sklearn.svm import SVC\n",
    "from sklearn.metrics import (accuracy_score, confusion_matrix, mean_absolute_error,\n",
    "                             roc_auc_score)\n",
    "from sklearn.model_selection import GridSearchCV, train_test_split, RandomizedSearchCV\n",
    "from sklearn.pipeline import Pipeline\n",
    "from sklearn.preprocessing import OneHotEncoder, OrdinalEncoder, StandardScaler, MinMaxScaler, RobustScaler\n",
    "from statsmodels.stats.outliers_influence import variance_inflation_factor\n",
    "from imblearn.over_sampling import RandomOverSampler\n",
    "from sklearn.cluster import KMeans\n",
    "\n",
    "# Постоянные\n",
    "RANDOM_STATE = 42\n",
    "TEST_SIZE = 0.25"
   ]
  },
  {
   "cell_type": "markdown",
   "metadata": {},
   "source": [
    "<div  style=\"border-radius: 10px; box-shadow: 2px 2px 2px; border: 1px solid; padding: 10px \">\n",
    "    \n",
    "Загрузка данных и вывод 5 первых строк со всех датафреймов."
   ]
  },
  {
   "cell_type": "code",
   "execution_count": 6,
   "metadata": {},
   "outputs": [
    {
     "name": "stdout",
     "output_type": "stream",
     "text": [
      "Информация о датафрейме market:\n",
      "\n",
      "<class 'pandas.core.frame.DataFrame'>\n",
      "RangeIndex: 1300 entries, 0 to 1299\n",
      "Data columns (total 13 columns):\n",
      " #   Column                               Non-Null Count  Dtype \n",
      "---  ------                               --------------  ----- \n",
      " 0   id                                   1300 non-null   int64 \n",
      " 1   Покупательская активность            1300 non-null   object\n",
      " 2   Тип сервиса                          1300 non-null   object\n",
      " 3   Разрешить сообщать                   1300 non-null   object\n",
      " 4   Маркет_актив_6_мес                   1300 non-null   object\n",
      " 5   Маркет_актив_тек_мес                 1300 non-null   int64 \n",
      " 6   Длительность                         1300 non-null   int64 \n",
      " 7   Акционные_покупки                    1300 non-null   object\n",
      " 8   Популярная_категория                 1300 non-null   object\n",
      " 9   Средний_просмотр_категорий_за_визит  1300 non-null   int64 \n",
      " 10  Неоплаченные_продукты_штук_квартал   1300 non-null   int64 \n",
      " 11  Ошибка_сервиса                       1300 non-null   int64 \n",
      " 12  Страниц_за_визит                     1300 non-null   int64 \n",
      "dtypes: int64(7), object(6)\n",
      "memory usage: 132.2+ KB\n"
     ]
    },
    {
     "data": {
      "text/html": [
       "<div>\n",
       "<style scoped>\n",
       "    .dataframe tbody tr th:only-of-type {\n",
       "        vertical-align: middle;\n",
       "    }\n",
       "\n",
       "    .dataframe tbody tr th {\n",
       "        vertical-align: top;\n",
       "    }\n",
       "\n",
       "    .dataframe thead th {\n",
       "        text-align: right;\n",
       "    }\n",
       "</style>\n",
       "<table border=\"1\" class=\"dataframe\">\n",
       "  <thead>\n",
       "    <tr style=\"text-align: right;\">\n",
       "      <th></th>\n",
       "      <th>id</th>\n",
       "      <th>Покупательская активность</th>\n",
       "      <th>Тип сервиса</th>\n",
       "      <th>Разрешить сообщать</th>\n",
       "      <th>Маркет_актив_6_мес</th>\n",
       "      <th>Маркет_актив_тек_мес</th>\n",
       "      <th>Длительность</th>\n",
       "      <th>Акционные_покупки</th>\n",
       "      <th>Популярная_категория</th>\n",
       "      <th>Средний_просмотр_категорий_за_визит</th>\n",
       "      <th>Неоплаченные_продукты_штук_квартал</th>\n",
       "      <th>Ошибка_сервиса</th>\n",
       "      <th>Страниц_за_визит</th>\n",
       "    </tr>\n",
       "  </thead>\n",
       "  <tbody>\n",
       "    <tr>\n",
       "      <th>0</th>\n",
       "      <td>215348</td>\n",
       "      <td>Снизилась</td>\n",
       "      <td>премиум</td>\n",
       "      <td>да</td>\n",
       "      <td>3.4</td>\n",
       "      <td>5</td>\n",
       "      <td>121</td>\n",
       "      <td>0.0</td>\n",
       "      <td>Товары для детей</td>\n",
       "      <td>6</td>\n",
       "      <td>2</td>\n",
       "      <td>1</td>\n",
       "      <td>5</td>\n",
       "    </tr>\n",
       "    <tr>\n",
       "      <th>1</th>\n",
       "      <td>215349</td>\n",
       "      <td>Снизилась</td>\n",
       "      <td>премиум</td>\n",
       "      <td>да</td>\n",
       "      <td>4.4</td>\n",
       "      <td>4</td>\n",
       "      <td>819</td>\n",
       "      <td>0.75</td>\n",
       "      <td>Товары для детей</td>\n",
       "      <td>4</td>\n",
       "      <td>4</td>\n",
       "      <td>2</td>\n",
       "      <td>5</td>\n",
       "    </tr>\n",
       "    <tr>\n",
       "      <th>2</th>\n",
       "      <td>215350</td>\n",
       "      <td>Снизилась</td>\n",
       "      <td>стандартт</td>\n",
       "      <td>нет</td>\n",
       "      <td>4.9</td>\n",
       "      <td>3</td>\n",
       "      <td>539</td>\n",
       "      <td>0.14</td>\n",
       "      <td>Домашний текстиль</td>\n",
       "      <td>5</td>\n",
       "      <td>2</td>\n",
       "      <td>1</td>\n",
       "      <td>5</td>\n",
       "    </tr>\n",
       "    <tr>\n",
       "      <th>3</th>\n",
       "      <td>215351</td>\n",
       "      <td>Снизилась</td>\n",
       "      <td>стандартт</td>\n",
       "      <td>да</td>\n",
       "      <td>3.2</td>\n",
       "      <td>5</td>\n",
       "      <td>896</td>\n",
       "      <td>0.99</td>\n",
       "      <td>Товары для детей</td>\n",
       "      <td>5</td>\n",
       "      <td>0</td>\n",
       "      <td>6</td>\n",
       "      <td>4</td>\n",
       "    </tr>\n",
       "    <tr>\n",
       "      <th>4</th>\n",
       "      <td>215352</td>\n",
       "      <td>Снизилась</td>\n",
       "      <td>стандартт</td>\n",
       "      <td>нет</td>\n",
       "      <td>5.1</td>\n",
       "      <td>3</td>\n",
       "      <td>1064</td>\n",
       "      <td>0.94</td>\n",
       "      <td>Товары для детей</td>\n",
       "      <td>3</td>\n",
       "      <td>2</td>\n",
       "      <td>3</td>\n",
       "      <td>2</td>\n",
       "    </tr>\n",
       "  </tbody>\n",
       "</table>\n",
       "</div>"
      ],
      "text/plain": [
       "       id Покупательская активность Тип сервиса Разрешить сообщать  \\\n",
       "0  215348                 Снизилась     премиум                 да   \n",
       "1  215349                 Снизилась     премиум                 да   \n",
       "2  215350                 Снизилась   стандартт                нет   \n",
       "3  215351                 Снизилась   стандартт                 да   \n",
       "4  215352                 Снизилась   стандартт                нет   \n",
       "\n",
       "  Маркет_актив_6_мес  Маркет_актив_тек_мес  Длительность Акционные_покупки  \\\n",
       "0                3.4                     5           121               0.0   \n",
       "1                4.4                     4           819              0.75   \n",
       "2                4.9                     3           539              0.14   \n",
       "3                3.2                     5           896              0.99   \n",
       "4                5.1                     3          1064              0.94   \n",
       "\n",
       "  Популярная_категория  Средний_просмотр_категорий_за_визит  \\\n",
       "0     Товары для детей                                    6   \n",
       "1     Товары для детей                                    4   \n",
       "2    Домашний текстиль                                    5   \n",
       "3     Товары для детей                                    5   \n",
       "4     Товары для детей                                    3   \n",
       "\n",
       "   Неоплаченные_продукты_штук_квартал  Ошибка_сервиса  Страниц_за_визит  \n",
       "0                                   2               1                 5  \n",
       "1                                   4               2                 5  \n",
       "2                                   2               1                 5  \n",
       "3                                   0               6                 4  \n",
       "4                                   2               3                 2  "
      ]
     },
     "metadata": {},
     "output_type": "display_data"
    },
    {
     "name": "stdout",
     "output_type": "stream",
     "text": [
      "Информация о датафрейме market_money:\n",
      "\n",
      "<class 'pandas.core.frame.DataFrame'>\n",
      "RangeIndex: 3900 entries, 0 to 3899\n",
      "Data columns (total 3 columns):\n",
      " #   Column   Non-Null Count  Dtype \n",
      "---  ------   --------------  ----- \n",
      " 0   id       3900 non-null   int64 \n",
      " 1   Период   3900 non-null   object\n",
      " 2   Выручка  3900 non-null   object\n",
      "dtypes: int64(1), object(2)\n",
      "memory usage: 91.5+ KB\n"
     ]
    },
    {
     "data": {
      "text/html": [
       "<div>\n",
       "<style scoped>\n",
       "    .dataframe tbody tr th:only-of-type {\n",
       "        vertical-align: middle;\n",
       "    }\n",
       "\n",
       "    .dataframe tbody tr th {\n",
       "        vertical-align: top;\n",
       "    }\n",
       "\n",
       "    .dataframe thead th {\n",
       "        text-align: right;\n",
       "    }\n",
       "</style>\n",
       "<table border=\"1\" class=\"dataframe\">\n",
       "  <thead>\n",
       "    <tr style=\"text-align: right;\">\n",
       "      <th></th>\n",
       "      <th>id</th>\n",
       "      <th>Период</th>\n",
       "      <th>Выручка</th>\n",
       "    </tr>\n",
       "  </thead>\n",
       "  <tbody>\n",
       "    <tr>\n",
       "      <th>0</th>\n",
       "      <td>215348</td>\n",
       "      <td>препредыдущий_месяц</td>\n",
       "      <td>0.0</td>\n",
       "    </tr>\n",
       "    <tr>\n",
       "      <th>1</th>\n",
       "      <td>215348</td>\n",
       "      <td>текущий_месяц</td>\n",
       "      <td>3293.1</td>\n",
       "    </tr>\n",
       "    <tr>\n",
       "      <th>2</th>\n",
       "      <td>215348</td>\n",
       "      <td>предыдущий_месяц</td>\n",
       "      <td>0.0</td>\n",
       "    </tr>\n",
       "    <tr>\n",
       "      <th>3</th>\n",
       "      <td>215349</td>\n",
       "      <td>препредыдущий_месяц</td>\n",
       "      <td>4472.0</td>\n",
       "    </tr>\n",
       "    <tr>\n",
       "      <th>4</th>\n",
       "      <td>215349</td>\n",
       "      <td>текущий_месяц</td>\n",
       "      <td>4971.6</td>\n",
       "    </tr>\n",
       "  </tbody>\n",
       "</table>\n",
       "</div>"
      ],
      "text/plain": [
       "       id               Период Выручка\n",
       "0  215348  препредыдущий_месяц     0.0\n",
       "1  215348        текущий_месяц  3293.1\n",
       "2  215348     предыдущий_месяц     0.0\n",
       "3  215349  препредыдущий_месяц  4472.0\n",
       "4  215349        текущий_месяц  4971.6"
      ]
     },
     "metadata": {},
     "output_type": "display_data"
    },
    {
     "name": "stdout",
     "output_type": "stream",
     "text": [
      "Информация о датафрейме time:\n",
      "\n",
      "<class 'pandas.core.frame.DataFrame'>\n",
      "RangeIndex: 2600 entries, 0 to 2599\n",
      "Data columns (total 3 columns):\n",
      " #   Column  Non-Null Count  Dtype \n",
      "---  ------  --------------  ----- \n",
      " 0   id      2600 non-null   int64 \n",
      " 1   Период  2600 non-null   object\n",
      " 2   минут   2600 non-null   int64 \n",
      "dtypes: int64(2), object(1)\n",
      "memory usage: 61.1+ KB\n"
     ]
    },
    {
     "data": {
      "text/html": [
       "<div>\n",
       "<style scoped>\n",
       "    .dataframe tbody tr th:only-of-type {\n",
       "        vertical-align: middle;\n",
       "    }\n",
       "\n",
       "    .dataframe tbody tr th {\n",
       "        vertical-align: top;\n",
       "    }\n",
       "\n",
       "    .dataframe thead th {\n",
       "        text-align: right;\n",
       "    }\n",
       "</style>\n",
       "<table border=\"1\" class=\"dataframe\">\n",
       "  <thead>\n",
       "    <tr style=\"text-align: right;\">\n",
       "      <th></th>\n",
       "      <th>id</th>\n",
       "      <th>Период</th>\n",
       "      <th>минут</th>\n",
       "    </tr>\n",
       "  </thead>\n",
       "  <tbody>\n",
       "    <tr>\n",
       "      <th>0</th>\n",
       "      <td>215348</td>\n",
       "      <td>текущий_месяц</td>\n",
       "      <td>14</td>\n",
       "    </tr>\n",
       "    <tr>\n",
       "      <th>1</th>\n",
       "      <td>215348</td>\n",
       "      <td>предыдцщий_месяц</td>\n",
       "      <td>13</td>\n",
       "    </tr>\n",
       "    <tr>\n",
       "      <th>2</th>\n",
       "      <td>215349</td>\n",
       "      <td>текущий_месяц</td>\n",
       "      <td>10</td>\n",
       "    </tr>\n",
       "    <tr>\n",
       "      <th>3</th>\n",
       "      <td>215349</td>\n",
       "      <td>предыдцщий_месяц</td>\n",
       "      <td>12</td>\n",
       "    </tr>\n",
       "    <tr>\n",
       "      <th>4</th>\n",
       "      <td>215350</td>\n",
       "      <td>текущий_месяц</td>\n",
       "      <td>13</td>\n",
       "    </tr>\n",
       "  </tbody>\n",
       "</table>\n",
       "</div>"
      ],
      "text/plain": [
       "       id            Период  минут\n",
       "0  215348     текущий_месяц     14\n",
       "1  215348  предыдцщий_месяц     13\n",
       "2  215349     текущий_месяц     10\n",
       "3  215349  предыдцщий_месяц     12\n",
       "4  215350     текущий_месяц     13"
      ]
     },
     "metadata": {},
     "output_type": "display_data"
    },
    {
     "name": "stdout",
     "output_type": "stream",
     "text": [
      "Информация о датафрейме money:\n",
      "\n",
      "<class 'pandas.core.frame.DataFrame'>\n",
      "RangeIndex: 1300 entries, 0 to 1299\n",
      "Data columns (total 2 columns):\n",
      " #   Column   Non-Null Count  Dtype  \n",
      "---  ------   --------------  -----  \n",
      " 0   id       1300 non-null   int64  \n",
      " 1   Прибыль  1300 non-null   float64\n",
      "dtypes: float64(1), int64(1)\n",
      "memory usage: 20.4 KB\n"
     ]
    },
    {
     "data": {
      "text/html": [
       "<div>\n",
       "<style scoped>\n",
       "    .dataframe tbody tr th:only-of-type {\n",
       "        vertical-align: middle;\n",
       "    }\n",
       "\n",
       "    .dataframe tbody tr th {\n",
       "        vertical-align: top;\n",
       "    }\n",
       "\n",
       "    .dataframe thead th {\n",
       "        text-align: right;\n",
       "    }\n",
       "</style>\n",
       "<table border=\"1\" class=\"dataframe\">\n",
       "  <thead>\n",
       "    <tr style=\"text-align: right;\">\n",
       "      <th></th>\n",
       "      <th>id</th>\n",
       "      <th>Прибыль</th>\n",
       "    </tr>\n",
       "  </thead>\n",
       "  <tbody>\n",
       "    <tr>\n",
       "      <th>0</th>\n",
       "      <td>215348</td>\n",
       "      <td>0.98</td>\n",
       "    </tr>\n",
       "    <tr>\n",
       "      <th>1</th>\n",
       "      <td>215349</td>\n",
       "      <td>4.16</td>\n",
       "    </tr>\n",
       "    <tr>\n",
       "      <th>2</th>\n",
       "      <td>215350</td>\n",
       "      <td>3.13</td>\n",
       "    </tr>\n",
       "    <tr>\n",
       "      <th>3</th>\n",
       "      <td>215351</td>\n",
       "      <td>4.87</td>\n",
       "    </tr>\n",
       "    <tr>\n",
       "      <th>4</th>\n",
       "      <td>215352</td>\n",
       "      <td>4.21</td>\n",
       "    </tr>\n",
       "  </tbody>\n",
       "</table>\n",
       "</div>"
      ],
      "text/plain": [
       "       id  Прибыль\n",
       "0  215348     0.98\n",
       "1  215349     4.16\n",
       "2  215350     3.13\n",
       "3  215351     4.87\n",
       "4  215352     4.21"
      ]
     },
     "execution_count": 6,
     "metadata": {},
     "output_type": "execute_result"
    }
   ],
   "source": [
    "market = pd.read_csv('/datasets/market_file.csv', sep=',', decimal=';')\n",
    "market_money = pd.read_csv('/datasets/market_money.csv', sep=',', decimal=';')\n",
    "time = pd.read_csv('/datasets/market_time.csv', sep=',', decimal=';')\n",
    "money = pd.read_csv('/datasets/money.csv', sep=';', decimal=',')\n",
    "\n",
    "print(\"Информация о датафрейме market:\\n\")\n",
    "market.info()\n",
    "\n",
    "display(market.head(5))\n",
    "\n",
    "print(\"Информация о датафрейме market_money:\\n\")\n",
    "\n",
    "market_money.info()\n",
    "\n",
    "display(market_money.head(5))\n",
    "\n",
    "print(\"Информация о датафрейме time:\\n\")\n",
    "\n",
    "time.info()\n",
    "\n",
    "display(time.head(5))\n",
    "\n",
    "print(\"Информация о датафрейме money:\\n\")\n",
    "\n",
    "money.info()\n",
    "\n",
    "money.head(5)\n",
    "\n",
    "# Вывод 5 первых строк"
   ]
  },
  {
   "cell_type": "markdown",
   "metadata": {},
   "source": [
    "<div  style=\"border-radius: 10px; box-shadow: 2px 2px 2px; border: 1px solid; padding: 10px \">\n",
    "\n",
    "\n",
    "На основе предоставленных данных, можно сделать несколько основных наблюдений и выводов о поведении и характеристиках клиентов интернет-магазина:\n",
    "\n",
    "Анализ данных датафрейма market:\n",
    "    \n",
    "Структура данных: Датафрейм содержит информацию о 1300 клиентах с детализацией по покупательской активности, типу сервиса, настройкам рассылки, маркетинговой активности и другим параметрам.\n",
    "Покупательская активность: Значительная часть данных показывает снижение активности, что требует дополнительного анализа причин и разработки стратегий повышения активности.\n",
    "    \n",
    "Типы сервиса: \n",
    "    \n",
    "Разделение на \"премиум\" и \"стандарт\" может влиять на длительность взаимодействия и покупательскую активность, что видно из различий в параметрах длительности и ошибок сервиса.\n",
    "    \n",
    "Анализ данных датафрейма market_money:\n",
    "\n",
    "Выручка: Варьируется в зависимости от периода, с данными о текущем, предыдущем и препредыдущем месяцах. Некоторые клиенты показывают значительный рост выручки в текущем месяце, что может быть связано с успешными маркетинговыми акциями.\n",
    "    \n",
    "Анализ данных датафрейма time:\n",
    "    \n",
    "Время на сайте: Время, проведенное пользователями на сайте в разные периоды, может коррелировать с покупательской активностью и выручкой. Клиенты, проводящие больше времени на сайте, потенциально могут совершать больше покупок.\n",
    "    \n",
    "Анализ данных датафрейма money:\n",
    "    \n",
    "Прибыль: Каждому клиенту соответствует значение прибыли, что позволяет оценивать финансовую успешность отношений с каждым клиентом. Изучение корреляции между прибылью и другими метриками может помочь определить наиболее важные факторы успеха.\n",
    "    \n",
    "Вывод:\n",
    "    \n",
    "Данные соответствуют описанию. Переходим к следующему разделу, предобработке данных."
   ]
  },
  {
   "cell_type": "markdown",
   "metadata": {},
   "source": [
    "<a id=\"предобработка_данных\"></a>\n",
    "\n",
    "# Шаг №2. Предобработка данных"
   ]
  },
  {
   "cell_type": "markdown",
   "metadata": {},
   "source": [
    "<div  style=\"border-radius: 10px; box-shadow: 2px 2px 2px; border: 1px solid; padding: 10px \">\n",
    "\n",
    "- Проверка данных на наличие пропусков и дубликатов\n",
    "    \n",
    "- Названия столбцов можно оставить кириллическими."
   ]
  },
  {
   "cell_type": "markdown",
   "metadata": {},
   "source": [
    "<div  style=\"border-radius: 10px; box-shadow: 2px 2px 2px; border: 1px solid; padding: 10px \">\n",
    "\n",
    "В данном разделе проведем проверку данных на наличие пропусков и дубликатов, а также проверку корректности типов данных у каждого признака."
   ]
  },
  {
   "cell_type": "code",
   "execution_count": 7,
   "metadata": {},
   "outputs": [
    {
     "data": {
      "text/plain": [
       "'Количество пропусков в Датафрейме'"
      ]
     },
     "metadata": {},
     "output_type": "display_data"
    },
    {
     "data": {
      "text/plain": [
       "'market'"
      ]
     },
     "metadata": {},
     "output_type": "display_data"
    },
    {
     "data": {
      "text/plain": [
       "id                                     0\n",
       "Покупательская активность              0\n",
       "Тип сервиса                            0\n",
       "Разрешить сообщать                     0\n",
       "Маркет_актив_6_мес                     0\n",
       "Маркет_актив_тек_мес                   0\n",
       "Длительность                           0\n",
       "Акционные_покупки                      0\n",
       "Популярная_категория                   0\n",
       "Средний_просмотр_категорий_за_визит    0\n",
       "Неоплаченные_продукты_штук_квартал     0\n",
       "Ошибка_сервиса                         0\n",
       "Страниц_за_визит                       0\n",
       "dtype: int64"
      ]
     },
     "metadata": {},
     "output_type": "display_data"
    },
    {
     "data": {
      "text/plain": [
       "'market_money'"
      ]
     },
     "metadata": {},
     "output_type": "display_data"
    },
    {
     "data": {
      "text/plain": [
       "id         0\n",
       "Период     0\n",
       "Выручка    0\n",
       "dtype: int64"
      ]
     },
     "metadata": {},
     "output_type": "display_data"
    },
    {
     "data": {
      "text/plain": [
       "'time'"
      ]
     },
     "metadata": {},
     "output_type": "display_data"
    },
    {
     "data": {
      "text/plain": [
       "id        0\n",
       "Период    0\n",
       "минут     0\n",
       "dtype: int64"
      ]
     },
     "metadata": {},
     "output_type": "display_data"
    },
    {
     "data": {
      "text/plain": [
       "'money'"
      ]
     },
     "metadata": {},
     "output_type": "display_data"
    },
    {
     "data": {
      "text/plain": [
       "id         0\n",
       "Прибыль    0\n",
       "dtype: int64"
      ]
     },
     "metadata": {},
     "output_type": "display_data"
    },
    {
     "name": "stdout",
     "output_type": "stream",
     "text": [
      "\n",
      "\n"
     ]
    },
    {
     "data": {
      "text/plain": [
       "'Кол-во явных дубликатов в датафрейме'"
      ]
     },
     "metadata": {},
     "output_type": "display_data"
    },
    {
     "data": {
      "text/plain": [
       "'market'"
      ]
     },
     "metadata": {},
     "output_type": "display_data"
    },
    {
     "data": {
      "text/plain": [
       "0"
      ]
     },
     "metadata": {},
     "output_type": "display_data"
    },
    {
     "data": {
      "text/plain": [
       "'market_money'"
      ]
     },
     "metadata": {},
     "output_type": "display_data"
    },
    {
     "data": {
      "text/plain": [
       "0"
      ]
     },
     "metadata": {},
     "output_type": "display_data"
    },
    {
     "data": {
      "text/plain": [
       "'time'"
      ]
     },
     "metadata": {},
     "output_type": "display_data"
    },
    {
     "data": {
      "text/plain": [
       "0"
      ]
     },
     "metadata": {},
     "output_type": "display_data"
    },
    {
     "data": {
      "text/plain": [
       "'money'"
      ]
     },
     "metadata": {},
     "output_type": "display_data"
    },
    {
     "data": {
      "text/plain": [
       "0"
      ]
     },
     "metadata": {},
     "output_type": "display_data"
    },
    {
     "name": "stdout",
     "output_type": "stream",
     "text": [
      "\n",
      "Полные дубликаты:\n",
      "датафрейм market id                                     0.0\n",
      "Покупательская активность              0.0\n",
      "Тип сервиса                            0.0\n",
      "Разрешить сообщать                     0.0\n",
      "Маркет_актив_6_мес                     0.0\n",
      "Маркет_актив_тек_мес                   0.0\n",
      "Длительность                           0.0\n",
      "Акционные_покупки                      0.0\n",
      "Популярная_категория                   0.0\n",
      "Средний_просмотр_категорий_за_визит    0.0\n",
      "Неоплаченные_продукты_штук_квартал     0.0\n",
      "Ошибка_сервиса                         0.0\n",
      "Страниц_за_визит                       0.0\n",
      "dtype: float64\n",
      "\n",
      "Кол-во полных дубликатов датафрейм market_money id         0.0\n",
      "Период     0.0\n",
      "Выручка    0.0\n",
      "dtype: float64\n",
      "\n",
      "Кол-во полных дубликатов датафрейм time id        0.0\n",
      "Период    0.0\n",
      "минут     0.0\n",
      "dtype: float64\n",
      "\n",
      "Кол-во полных дубликатов датафрейм money id         0.0\n",
      "Прибыль    0.0\n",
      "dtype: float64\n"
     ]
    }
   ],
   "source": [
    "# подсчёт суммы пропусков в данных\n",
    "\n",
    "display(\"Количество пропусков в Датафрейме\", \"market\", market.isna().sum(), \n",
    "      \"market_money\", market_money.isna().sum(), \"time\", time.isna().sum(), \"money\", money.isna().sum())\n",
    "\n",
    "print()\n",
    "\n",
    "# подсчёт явных дубликатов\n",
    "\n",
    "print()\n",
    "\n",
    "display(\"Кол-во явных дубликатов в датафрейме\", \"market\", market.duplicated().sum(), \n",
    "        \"market_money\", market_money.duplicated().sum(), \"time\", time.duplicated().sum(),\n",
    "        \"money\", money.duplicated().sum()\n",
    "       )\n",
    "\n",
    "# Поиск полных дубликатов\n",
    "#full_duplicates = market[market.duplicated(keep=False)]\n",
    "\n",
    "print(\"\\nПолные дубликаты:\")\n",
    "print(\"датафрейм market\", market[market.duplicated(keep=False)].sum())\n",
    "print()\n",
    "print(\"Кол-во полных дубликатов датафрейм market_money\", market_money[market_money.duplicated(keep=False)].sum())\n",
    "print()\n",
    "print(\"Кол-во полных дубликатов датафрейм time\", time[time.duplicated(keep=False)].sum())\n",
    "print()\n",
    "print(\"Кол-во полных дубликатов датафрейм money\", money[money.duplicated(keep=False)].sum())\n",
    "\n",
    "display()\n",
    "\n",
    "\n",
    "#print(\"Кол-во полных дубликатов\", market[market.duplicated(keep=False)].sum())"
   ]
  },
  {
   "cell_type": "markdown",
   "metadata": {},
   "source": [
    "<div  style=\"border-radius: 10px; box-shadow: 2px 2px 2px; border: 1px solid; padding: 10px \">\n",
    "\n",
    "- Проверка данных на наличие неявных дубликатов"
   ]
  },
  {
   "cell_type": "code",
   "execution_count": 8,
   "metadata": {},
   "outputs": [
    {
     "name": "stdout",
     "output_type": "stream",
     "text": [
      "['премиум' 'стандартт' 'стандарт']\n",
      "\n",
      "['да' 'нет']\n",
      "['Товары для детей' 'Домашний текстиль' 'Косметика и аксесуары'\n",
      " 'Техника для красоты и здоровья' 'Кухонная посуда'\n",
      " 'Мелкая бытовая техника и электроника']\n",
      "\n",
      "['текущий_месяц' 'предыдцщий_месяц']\n",
      "['препредыдущий_месяц' 'текущий_месяц' 'предыдущий_месяц']\n",
      "\n",
      "['текущий_месяц' 'предыдцщий_месяц']\n"
     ]
    }
   ],
   "source": [
    "print(market['Тип сервиса'].unique())\n",
    "\n",
    "print()\n",
    "\n",
    "print(market['Разрешить сообщать'].unique())\n",
    "\n",
    "\n",
    "print(market['Популярная_категория'].unique())\n",
    "\n",
    "print()\n",
    "\n",
    "print(time['Период'].unique())\n",
    "\n",
    "print(market_money['Период'].unique())\n",
    "\n",
    "print()\n",
    "\n",
    "print(time['Период'].unique())\n"
   ]
  },
  {
   "cell_type": "markdown",
   "metadata": {},
   "source": [
    "<div  style=\"border-radius: 10px; box-shadow: 2px 2px 2px; border: 1px solid; padding: 10px \">\n",
    "\n",
    "- Обнаружены неявные дубликаты в датафрейме market, это тип сервиса 'стандартт' 'стандарт'. Произведем замену 'стандартт' 'стандарт'\n",
    "\n",
    "- Обнаружены неявные дубликаты в датафрейме time, это период 'предыдцщий_месяц'. Произведем замену 'предыдцщий_месяц' на 'предыдущий_месяц'.\n",
    "    "
   ]
  },
  {
   "cell_type": "code",
   "execution_count": 9,
   "metadata": {},
   "outputs": [
    {
     "name": "stdout",
     "output_type": "stream",
     "text": [
      "['премиум' 'стандарт']\n",
      "['текущий_месяц' 'предыдущий_месяц']\n"
     ]
    }
   ],
   "source": [
    "# Замена значения 'стандартт' на 'стандарт' и 'предыдцщий_месяц' на 'предыдущий_месяц'\n",
    "market['Тип сервиса'] = market['Тип сервиса'].replace('стандартт', 'стандарт')\n",
    "\n",
    "time['Период'] = time['Период'].replace('предыдцщий_месяц', 'предыдущий_месяц')\n",
    "\n",
    "\n",
    "print(market['Тип сервиса'].unique())\n",
    "\n",
    "print(time['Период'].unique())\n"
   ]
  },
  {
   "cell_type": "code",
   "execution_count": 10,
   "metadata": {},
   "outputs": [],
   "source": [
    "# Преобразуем столбец 'Выручка' в числовой формат\n",
    "market_money['Выручка'] = pd.to_numeric(market_money['Выручка'], errors='coerce')"
   ]
  },
  {
   "cell_type": "markdown",
   "metadata": {},
   "source": [
    "<div  style=\"border-radius: 10px; box-shadow: 2px 2px 2px; border: 1px solid; padding: 10px \">\n",
    "    \n",
    "<a id=\"Промежуточные_выводы0\"></a>    \n",
    "    \n",
    "\n",
    "<b>Промежуточные выводы раздела</b>\n",
    "    \n",
    "    \n",
    "В данном разделе провели проверку данных на наличие пропусков и дубликатов. Пропусков и полных дубликатов обнаружено не было. Были обнаружены категориальные признаки \"стандартт\" и \"стандарт\", который привели к единому формату \"стандарт\", а также 'предыдцщий_месяц' который привели к единому формату \"предыдущий_месяц\".\n",
    "    \n",
    "Типы данных также привели в соответствие с логикой данных.\n",
    "    \n",
    "Переходим к исследовательскому разделу данных."
   ]
  },
  {
   "cell_type": "markdown",
   "metadata": {},
   "source": [
    "<a id=\"анализ\"></a>\n",
    "\n",
    "# Шаг №3. Исследовательский анализ данных"
   ]
  },
  {
   "cell_type": "markdown",
   "metadata": {},
   "source": [
    "<div  style=\"border-radius: 10px; box-shadow: 2px 2px 2px; border: 1px solid; padding: 10px \">\n",
    "\n",
    "Задачей этого раздела является Отобрать клиентов с покупательской активностью не менее трёх месяцев, то есть таких, которые что-либо покупали в этот период."
   ]
  },
  {
   "cell_type": "markdown",
   "metadata": {
    "tags": []
   },
   "source": [
    "<div  style=\"border-radius: 10px; box-shadow: 2px 2px 2px; border: 1px solid; padding: 10px \">\n",
    "    \n",
    "Ниже основные шаги, которые мы должны выполнить в рамках EDA:\n",
    "\n",
    "1. Основные статистики и распределения\n",
    "\n",
    "- Описательная статистика: Минимум, максимум, среднее, медиана, стандартное отклонение.\n",
    "- Гистограммы: Для анализа распределения количественных переменных.\n",
    "- Коробчатые диаграммы (box plots): Для визуализации распределений и выявления выбросов.\n",
    "\n",
    "2. Анализ категориальных данных\n",
    "\n",
    "- Счетчики и столбчатые диаграммы: Для анализа категориальных переменных.\n",
    "\n",
    "3. Корреляционный анализ\n",
    "\n",
    "- Тепловая карта корреляций: Для изучения взаимосвязей между количественными переменными.\n",
    "\n",
    "4. Проверка наличия пропусков и дубликатов\n",
    "\n",
    "- Карты пропущенных значений: Для визуального представления пропущенных данных.\n",
    "- Проверка дубликатов: Определение и обработка дублирующихся записей.\n",
    "\n",
    "5. Подготовка данных\n",
    "\n",
    "- Обработка пропусков: Заполнение или удаление.\n",
    "- Кодирование категориальных переменных: Преобразование в числовой формат, если необходимо.    "
   ]
  },
  {
   "cell_type": "markdown",
   "metadata": {},
   "source": [
    "<div  style=\"border-radius: 10px; box-shadow: 2px 2px 2px; border: 1px solid; padding: 10px \">\n",
    "    \n",
    "1. Основные статистики и распределения"
   ]
  },
  {
   "cell_type": "code",
   "execution_count": null,
   "metadata": {},
   "outputs": [],
   "source": [
    "# Описательная статистика для количественных переменных\n",
    "print(\"\\nОписательная статистика:\")\n",
    "display(market.drop('id', axis=1).describe())\n",
    "display(market_money.drop('id', axis=1).describe())\n",
    "display(time.drop('id', axis=1).describe())\n",
    "display(money.drop('id', axis=1).describe())\n",
    "\n",
    "# Гистограммы для всех количественных переменных\n",
    "market.drop('id', axis=1).hist(figsize=(10, 8), bins=20)\n",
    "plt.tight_layout()\n",
    "plt.show()\n",
    "\n",
    "# Гистограммы для всех количественных переменных\n",
    "market_money.drop('id', axis=1).hist(figsize=(10, 8), bins=20)\n",
    "plt.tight_layout()\n",
    "plt.show()\n",
    "\n",
    "# Гистограммы для всех количественных переменных\n",
    "time.drop('id', axis=1).hist(figsize=(10, 8), bins=20)\n",
    "plt.tight_layout()\n",
    "plt.show()\n",
    "\n",
    "# Гистограммы для всех количественных переменных\n",
    "money.drop('id', axis=1).hist(figsize=(10, 8), bins=20)\n",
    "plt.tight_layout()\n",
    "plt.show()"
   ]
  },
  {
   "cell_type": "markdown",
   "metadata": {},
   "source": [
    "<div  style=\"border-radius: 10px; box-shadow: 2px 2px 2px; border: 1px solid; padding: 10px \">\n",
    "    \n",
    "2. Основные статистики и распределения"
   ]
  },
  {
   "cell_type": "code",
   "execution_count": null,
   "metadata": {},
   "outputs": [],
   "source": [
    "# Анализ категориальных переменных\n",
    "categorical_columns = market.select_dtypes(include=[object]).columns\n",
    "for column in categorical_columns:\n",
    "    print(f'\\nРаспределение по категории {column}:')\n",
    "    print(market[column].value_counts())\n",
    "    plt.figure(figsize=(10, 4))\n",
    "    sns.countplot(x=column, data=market)\n",
    "    plt.title(f'Распределение {column}')\n",
    "    plt.xticks(rotation=45)\n",
    "    plt.show()"
   ]
  },
  {
   "cell_type": "markdown",
   "metadata": {},
   "source": [
    "<div  style=\"border-radius: 10px; box-shadow: 2px 2px 2px; border: 1px solid; padding: 10px \">\n",
    "    \n",
    "3. Корреляционный анализ"
   ]
  },
  {
   "cell_type": "code",
   "execution_count": null,
   "metadata": {},
   "outputs": [],
   "source": [
    "# Тепловая карта корреляций\n",
    "plt.figure(figsize=(10, 8))\n",
    "sns.heatmap(market.drop('id', axis=1).corr(), annot=True, fmt=\".2f\", cmap='coolwarm')\n",
    "plt.title('Корреляционная матрица')\n",
    "plt.show()"
   ]
  },
  {
   "cell_type": "markdown",
   "metadata": {},
   "source": [
    "<div  style=\"border-radius: 10px; box-shadow: 2px 2px 2px; border: 1px solid; padding: 10px \">\n",
    "\n",
    "Проверку на пропуски и дубликаты(явные и неявные) делали уже ранее.\n",
    "    \n",
    "На этом EDA-анализ считаю выполненным."
   ]
  },
  {
   "cell_type": "code",
   "execution_count": 11,
   "metadata": {},
   "outputs": [
    {
     "data": {
      "text/html": [
       "<div>\n",
       "<style scoped>\n",
       "    .dataframe tbody tr th:only-of-type {\n",
       "        vertical-align: middle;\n",
       "    }\n",
       "\n",
       "    .dataframe tbody tr th {\n",
       "        vertical-align: top;\n",
       "    }\n",
       "\n",
       "    .dataframe thead th {\n",
       "        text-align: right;\n",
       "    }\n",
       "</style>\n",
       "<table border=\"1\" class=\"dataframe\">\n",
       "  <thead>\n",
       "    <tr style=\"text-align: right;\">\n",
       "      <th></th>\n",
       "      <th>id</th>\n",
       "      <th>Период</th>\n",
       "      <th>Выручка</th>\n",
       "    </tr>\n",
       "  </thead>\n",
       "  <tbody>\n",
       "    <tr>\n",
       "      <th>3</th>\n",
       "      <td>215349</td>\n",
       "      <td>препредыдущий_месяц</td>\n",
       "      <td>4472.0</td>\n",
       "    </tr>\n",
       "    <tr>\n",
       "      <th>4</th>\n",
       "      <td>215349</td>\n",
       "      <td>текущий_месяц</td>\n",
       "      <td>4971.6</td>\n",
       "    </tr>\n",
       "    <tr>\n",
       "      <th>5</th>\n",
       "      <td>215349</td>\n",
       "      <td>предыдущий_месяц</td>\n",
       "      <td>5216.0</td>\n",
       "    </tr>\n",
       "    <tr>\n",
       "      <th>6</th>\n",
       "      <td>215350</td>\n",
       "      <td>препредыдущий_месяц</td>\n",
       "      <td>4826.0</td>\n",
       "    </tr>\n",
       "    <tr>\n",
       "      <th>7</th>\n",
       "      <td>215350</td>\n",
       "      <td>текущий_месяц</td>\n",
       "      <td>5058.4</td>\n",
       "    </tr>\n",
       "    <tr>\n",
       "      <th>...</th>\n",
       "      <td>...</td>\n",
       "      <td>...</td>\n",
       "      <td>...</td>\n",
       "    </tr>\n",
       "    <tr>\n",
       "      <th>3895</th>\n",
       "      <td>216646</td>\n",
       "      <td>препредыдущий_месяц</td>\n",
       "      <td>4725.0</td>\n",
       "    </tr>\n",
       "    <tr>\n",
       "      <th>3896</th>\n",
       "      <td>216646</td>\n",
       "      <td>предыдущий_месяц</td>\n",
       "      <td>4923.0</td>\n",
       "    </tr>\n",
       "    <tr>\n",
       "      <th>3897</th>\n",
       "      <td>216647</td>\n",
       "      <td>предыдущий_месяц</td>\n",
       "      <td>4720.0</td>\n",
       "    </tr>\n",
       "    <tr>\n",
       "      <th>3898</th>\n",
       "      <td>216647</td>\n",
       "      <td>препредыдущий_месяц</td>\n",
       "      <td>5183.0</td>\n",
       "    </tr>\n",
       "    <tr>\n",
       "      <th>3899</th>\n",
       "      <td>216647</td>\n",
       "      <td>текущий_месяц</td>\n",
       "      <td>4448.3</td>\n",
       "    </tr>\n",
       "  </tbody>\n",
       "</table>\n",
       "<p>3891 rows × 3 columns</p>\n",
       "</div>"
      ],
      "text/plain": [
       "          id               Период  Выручка\n",
       "3     215349  препредыдущий_месяц   4472.0\n",
       "4     215349        текущий_месяц   4971.6\n",
       "5     215349     предыдущий_месяц   5216.0\n",
       "6     215350  препредыдущий_месяц   4826.0\n",
       "7     215350        текущий_месяц   5058.4\n",
       "...      ...                  ...      ...\n",
       "3895  216646  препредыдущий_месяц   4725.0\n",
       "3896  216646     предыдущий_месяц   4923.0\n",
       "3897  216647     предыдущий_месяц   4720.0\n",
       "3898  216647  препредыдущий_месяц   5183.0\n",
       "3899  216647        текущий_месяц   4448.3\n",
       "\n",
       "[3891 rows x 3 columns]"
      ]
     },
     "metadata": {},
     "output_type": "display_data"
    }
   ],
   "source": [
    "# Группируем данные по ID и фильтруем группы\n",
    "filtered_market_money = market_money.groupby('id').filter(lambda x:\n",
    "    (x['Выручка'] > 0).all()\n",
    ")\n",
    "\n",
    "\n",
    "display(filtered_market_money)\n"
   ]
  },
  {
   "cell_type": "markdown",
   "metadata": {},
   "source": [
    "<b>Промежуточные выводы раздела</b>  \n",
    "\n",
    "<a id=\"Промежуточные_выводы1\"></a>\n",
    "<div  style=\"border-radius: 10px; box-shadow: 2px 2px 2px; border: 1px solid; padding: 10px \">\n",
    "    \n",
    "    \n",
    "    \n",
    "В результате отобрали клиентов с покупательской активностью не менее трёх месяцев.\n",
    "    \n",
    "Переходим к разделу по обьединению таблиц."
   ]
  },
  {
   "cell_type": "markdown",
   "metadata": {},
   "source": [
    "<a id=\"объединение\"></a>\n",
    "# Шаг №4 Объединение таблиц"
   ]
  },
  {
   "cell_type": "markdown",
   "metadata": {},
   "source": [
    "<div  style=\"border-radius: 10px; box-shadow: 2px 2px 2px; border: 1px solid; padding: 10px \">\n",
    "    \n",
    "4.1 Объединим таблицы market_file.csv, market_money.csv, market_time.csv. Данные о прибыли из файла money.csv при моделировании вам не понадобятся.\n",
    "\n",
    "4.2 Учтем, что данные о выручке и времени на сайте находятся в одном столбце для всех периодов. В итоговой таблице сделайте отдельный столбец для каждого периода."
   ]
  },
  {
   "cell_type": "code",
   "execution_count": 12,
   "metadata": {},
   "outputs": [
    {
     "data": {
      "text/html": [
       "<div>\n",
       "<style scoped>\n",
       "    .dataframe tbody tr th:only-of-type {\n",
       "        vertical-align: middle;\n",
       "    }\n",
       "\n",
       "    .dataframe tbody tr th {\n",
       "        vertical-align: top;\n",
       "    }\n",
       "\n",
       "    .dataframe thead th {\n",
       "        text-align: right;\n",
       "    }\n",
       "</style>\n",
       "<table border=\"1\" class=\"dataframe\">\n",
       "  <thead>\n",
       "    <tr style=\"text-align: right;\">\n",
       "      <th></th>\n",
       "      <th>id</th>\n",
       "      <th>Покупательская активность</th>\n",
       "      <th>Тип сервиса</th>\n",
       "      <th>Разрешить сообщать</th>\n",
       "      <th>Маркет_актив_6_мес</th>\n",
       "      <th>Маркет_актив_тек_мес</th>\n",
       "      <th>Длительность</th>\n",
       "      <th>Акционные_покупки</th>\n",
       "      <th>Популярная_категория</th>\n",
       "      <th>Средний_просмотр_категорий_за_визит</th>\n",
       "      <th>Неоплаченные_продукты_штук_квартал</th>\n",
       "      <th>Ошибка_сервиса</th>\n",
       "      <th>Страниц_за_визит</th>\n",
       "      <th>Выручка_предыдущий_месяц</th>\n",
       "      <th>Выручка_препредыдущий_месяц</th>\n",
       "      <th>Выручка_текущий_месяц</th>\n",
       "      <th>Минуты_предыдущий_месяц</th>\n",
       "      <th>Минуты_текущий_месяц</th>\n",
       "    </tr>\n",
       "  </thead>\n",
       "  <tbody>\n",
       "    <tr>\n",
       "      <th>1</th>\n",
       "      <td>215349</td>\n",
       "      <td>Снизилась</td>\n",
       "      <td>премиум</td>\n",
       "      <td>да</td>\n",
       "      <td>4.4</td>\n",
       "      <td>4</td>\n",
       "      <td>819</td>\n",
       "      <td>0.75</td>\n",
       "      <td>Товары для детей</td>\n",
       "      <td>4</td>\n",
       "      <td>4</td>\n",
       "      <td>2</td>\n",
       "      <td>5</td>\n",
       "      <td>5216.0</td>\n",
       "      <td>4472.0</td>\n",
       "      <td>4971.6</td>\n",
       "      <td>12</td>\n",
       "      <td>10</td>\n",
       "    </tr>\n",
       "    <tr>\n",
       "      <th>2</th>\n",
       "      <td>215350</td>\n",
       "      <td>Снизилась</td>\n",
       "      <td>стандарт</td>\n",
       "      <td>нет</td>\n",
       "      <td>4.9</td>\n",
       "      <td>3</td>\n",
       "      <td>539</td>\n",
       "      <td>0.14</td>\n",
       "      <td>Домашний текстиль</td>\n",
       "      <td>5</td>\n",
       "      <td>2</td>\n",
       "      <td>1</td>\n",
       "      <td>5</td>\n",
       "      <td>5457.5</td>\n",
       "      <td>4826.0</td>\n",
       "      <td>5058.4</td>\n",
       "      <td>8</td>\n",
       "      <td>13</td>\n",
       "    </tr>\n",
       "    <tr>\n",
       "      <th>3</th>\n",
       "      <td>215351</td>\n",
       "      <td>Снизилась</td>\n",
       "      <td>стандарт</td>\n",
       "      <td>да</td>\n",
       "      <td>3.2</td>\n",
       "      <td>5</td>\n",
       "      <td>896</td>\n",
       "      <td>0.99</td>\n",
       "      <td>Товары для детей</td>\n",
       "      <td>5</td>\n",
       "      <td>0</td>\n",
       "      <td>6</td>\n",
       "      <td>4</td>\n",
       "      <td>6158.0</td>\n",
       "      <td>4793.0</td>\n",
       "      <td>6610.4</td>\n",
       "      <td>11</td>\n",
       "      <td>13</td>\n",
       "    </tr>\n",
       "    <tr>\n",
       "      <th>4</th>\n",
       "      <td>215352</td>\n",
       "      <td>Снизилась</td>\n",
       "      <td>стандарт</td>\n",
       "      <td>нет</td>\n",
       "      <td>5.1</td>\n",
       "      <td>3</td>\n",
       "      <td>1064</td>\n",
       "      <td>0.94</td>\n",
       "      <td>Товары для детей</td>\n",
       "      <td>3</td>\n",
       "      <td>2</td>\n",
       "      <td>3</td>\n",
       "      <td>2</td>\n",
       "      <td>5807.5</td>\n",
       "      <td>4594.0</td>\n",
       "      <td>5872.5</td>\n",
       "      <td>8</td>\n",
       "      <td>11</td>\n",
       "    </tr>\n",
       "    <tr>\n",
       "      <th>5</th>\n",
       "      <td>215353</td>\n",
       "      <td>Снизилась</td>\n",
       "      <td>стандарт</td>\n",
       "      <td>да</td>\n",
       "      <td>3.3</td>\n",
       "      <td>4</td>\n",
       "      <td>762</td>\n",
       "      <td>0.26</td>\n",
       "      <td>Домашний текстиль</td>\n",
       "      <td>4</td>\n",
       "      <td>1</td>\n",
       "      <td>1</td>\n",
       "      <td>4</td>\n",
       "      <td>4738.5</td>\n",
       "      <td>5124.0</td>\n",
       "      <td>5388.5</td>\n",
       "      <td>10</td>\n",
       "      <td>10</td>\n",
       "    </tr>\n",
       "    <tr>\n",
       "      <th>...</th>\n",
       "      <td>...</td>\n",
       "      <td>...</td>\n",
       "      <td>...</td>\n",
       "      <td>...</td>\n",
       "      <td>...</td>\n",
       "      <td>...</td>\n",
       "      <td>...</td>\n",
       "      <td>...</td>\n",
       "      <td>...</td>\n",
       "      <td>...</td>\n",
       "      <td>...</td>\n",
       "      <td>...</td>\n",
       "      <td>...</td>\n",
       "      <td>...</td>\n",
       "      <td>...</td>\n",
       "      <td>...</td>\n",
       "      <td>...</td>\n",
       "      <td>...</td>\n",
       "    </tr>\n",
       "    <tr>\n",
       "      <th>1295</th>\n",
       "      <td>216643</td>\n",
       "      <td>Прежний уровень</td>\n",
       "      <td>стандарт</td>\n",
       "      <td>да</td>\n",
       "      <td>6.6</td>\n",
       "      <td>3</td>\n",
       "      <td>318</td>\n",
       "      <td>0.24</td>\n",
       "      <td>Техника для красоты и здоровья</td>\n",
       "      <td>5</td>\n",
       "      <td>3</td>\n",
       "      <td>3</td>\n",
       "      <td>11</td>\n",
       "      <td>3664.0</td>\n",
       "      <td>4704.0</td>\n",
       "      <td>4741.7</td>\n",
       "      <td>14</td>\n",
       "      <td>7</td>\n",
       "    </tr>\n",
       "    <tr>\n",
       "      <th>1296</th>\n",
       "      <td>216644</td>\n",
       "      <td>Прежний уровень</td>\n",
       "      <td>стандарт</td>\n",
       "      <td>нет</td>\n",
       "      <td>5.1</td>\n",
       "      <td>4</td>\n",
       "      <td>454</td>\n",
       "      <td>0.21</td>\n",
       "      <td>Домашний текстиль</td>\n",
       "      <td>6</td>\n",
       "      <td>2</td>\n",
       "      <td>3</td>\n",
       "      <td>9</td>\n",
       "      <td>4729.0</td>\n",
       "      <td>5299.0</td>\n",
       "      <td>5353.0</td>\n",
       "      <td>12</td>\n",
       "      <td>11</td>\n",
       "    </tr>\n",
       "    <tr>\n",
       "      <th>1297</th>\n",
       "      <td>216645</td>\n",
       "      <td>Прежний уровень</td>\n",
       "      <td>стандарт</td>\n",
       "      <td>да</td>\n",
       "      <td>4.1</td>\n",
       "      <td>3</td>\n",
       "      <td>586</td>\n",
       "      <td>0.2</td>\n",
       "      <td>Домашний текстиль</td>\n",
       "      <td>3</td>\n",
       "      <td>2</td>\n",
       "      <td>5</td>\n",
       "      <td>7</td>\n",
       "      <td>5160.0</td>\n",
       "      <td>5334.0</td>\n",
       "      <td>5139.2</td>\n",
       "      <td>12</td>\n",
       "      <td>18</td>\n",
       "    </tr>\n",
       "    <tr>\n",
       "      <th>1298</th>\n",
       "      <td>216646</td>\n",
       "      <td>Прежний уровень</td>\n",
       "      <td>стандарт</td>\n",
       "      <td>да</td>\n",
       "      <td>6.3</td>\n",
       "      <td>5</td>\n",
       "      <td>645</td>\n",
       "      <td>0.12</td>\n",
       "      <td>Техника для красоты и здоровья</td>\n",
       "      <td>3</td>\n",
       "      <td>3</td>\n",
       "      <td>5</td>\n",
       "      <td>7</td>\n",
       "      <td>4923.0</td>\n",
       "      <td>4725.0</td>\n",
       "      <td>5224.6</td>\n",
       "      <td>18</td>\n",
       "      <td>7</td>\n",
       "    </tr>\n",
       "    <tr>\n",
       "      <th>1299</th>\n",
       "      <td>216647</td>\n",
       "      <td>Прежний уровень</td>\n",
       "      <td>премиум</td>\n",
       "      <td>да</td>\n",
       "      <td>4.0</td>\n",
       "      <td>5</td>\n",
       "      <td>906</td>\n",
       "      <td>0.94</td>\n",
       "      <td>Техника для красоты и здоровья</td>\n",
       "      <td>4</td>\n",
       "      <td>5</td>\n",
       "      <td>3</td>\n",
       "      <td>12</td>\n",
       "      <td>4720.0</td>\n",
       "      <td>5183.0</td>\n",
       "      <td>4448.3</td>\n",
       "      <td>15</td>\n",
       "      <td>10</td>\n",
       "    </tr>\n",
       "  </tbody>\n",
       "</table>\n",
       "<p>1297 rows × 18 columns</p>\n",
       "</div>"
      ],
      "text/plain": [
       "          id Покупательская активность Тип сервиса Разрешить сообщать  \\\n",
       "1     215349                 Снизилась     премиум                 да   \n",
       "2     215350                 Снизилась    стандарт                нет   \n",
       "3     215351                 Снизилась    стандарт                 да   \n",
       "4     215352                 Снизилась    стандарт                нет   \n",
       "5     215353                 Снизилась    стандарт                 да   \n",
       "...      ...                       ...         ...                ...   \n",
       "1295  216643           Прежний уровень    стандарт                 да   \n",
       "1296  216644           Прежний уровень    стандарт                нет   \n",
       "1297  216645           Прежний уровень    стандарт                 да   \n",
       "1298  216646           Прежний уровень    стандарт                 да   \n",
       "1299  216647           Прежний уровень     премиум                 да   \n",
       "\n",
       "     Маркет_актив_6_мес  Маркет_актив_тек_мес  Длительность Акционные_покупки  \\\n",
       "1                   4.4                     4           819              0.75   \n",
       "2                   4.9                     3           539              0.14   \n",
       "3                   3.2                     5           896              0.99   \n",
       "4                   5.1                     3          1064              0.94   \n",
       "5                   3.3                     4           762              0.26   \n",
       "...                 ...                   ...           ...               ...   \n",
       "1295                6.6                     3           318              0.24   \n",
       "1296                5.1                     4           454              0.21   \n",
       "1297                4.1                     3           586               0.2   \n",
       "1298                6.3                     5           645              0.12   \n",
       "1299                4.0                     5           906              0.94   \n",
       "\n",
       "                Популярная_категория  Средний_просмотр_категорий_за_визит  \\\n",
       "1                   Товары для детей                                    4   \n",
       "2                  Домашний текстиль                                    5   \n",
       "3                   Товары для детей                                    5   \n",
       "4                   Товары для детей                                    3   \n",
       "5                  Домашний текстиль                                    4   \n",
       "...                              ...                                  ...   \n",
       "1295  Техника для красоты и здоровья                                    5   \n",
       "1296               Домашний текстиль                                    6   \n",
       "1297               Домашний текстиль                                    3   \n",
       "1298  Техника для красоты и здоровья                                    3   \n",
       "1299  Техника для красоты и здоровья                                    4   \n",
       "\n",
       "      Неоплаченные_продукты_штук_квартал  Ошибка_сервиса  Страниц_за_визит  \\\n",
       "1                                      4               2                 5   \n",
       "2                                      2               1                 5   \n",
       "3                                      0               6                 4   \n",
       "4                                      2               3                 2   \n",
       "5                                      1               1                 4   \n",
       "...                                  ...             ...               ...   \n",
       "1295                                   3               3                11   \n",
       "1296                                   2               3                 9   \n",
       "1297                                   2               5                 7   \n",
       "1298                                   3               5                 7   \n",
       "1299                                   5               3                12   \n",
       "\n",
       "      Выручка_предыдущий_месяц  Выручка_препредыдущий_месяц  \\\n",
       "1                       5216.0                       4472.0   \n",
       "2                       5457.5                       4826.0   \n",
       "3                       6158.0                       4793.0   \n",
       "4                       5807.5                       4594.0   \n",
       "5                       4738.5                       5124.0   \n",
       "...                        ...                          ...   \n",
       "1295                    3664.0                       4704.0   \n",
       "1296                    4729.0                       5299.0   \n",
       "1297                    5160.0                       5334.0   \n",
       "1298                    4923.0                       4725.0   \n",
       "1299                    4720.0                       5183.0   \n",
       "\n",
       "      Выручка_текущий_месяц  Минуты_предыдущий_месяц  Минуты_текущий_месяц  \n",
       "1                    4971.6                       12                    10  \n",
       "2                    5058.4                        8                    13  \n",
       "3                    6610.4                       11                    13  \n",
       "4                    5872.5                        8                    11  \n",
       "5                    5388.5                       10                    10  \n",
       "...                     ...                      ...                   ...  \n",
       "1295                 4741.7                       14                     7  \n",
       "1296                 5353.0                       12                    11  \n",
       "1297                 5139.2                       12                    18  \n",
       "1298                 5224.6                       18                     7  \n",
       "1299                 4448.3                       15                    10  \n",
       "\n",
       "[1297 rows x 18 columns]"
      ]
     },
     "metadata": {},
     "output_type": "display_data"
    },
    {
     "name": "stdout",
     "output_type": "stream",
     "text": [
      "<class 'pandas.core.frame.DataFrame'>\n",
      "Int64Index: 1297 entries, 1 to 1299\n",
      "Data columns (total 18 columns):\n",
      " #   Column                               Non-Null Count  Dtype  \n",
      "---  ------                               --------------  -----  \n",
      " 0   id                                   1297 non-null   int64  \n",
      " 1   Покупательская активность            1297 non-null   object \n",
      " 2   Тип сервиса                          1297 non-null   object \n",
      " 3   Разрешить сообщать                   1297 non-null   object \n",
      " 4   Маркет_актив_6_мес                   1297 non-null   float64\n",
      " 5   Маркет_актив_тек_мес                 1297 non-null   int64  \n",
      " 6   Длительность                         1297 non-null   int64  \n",
      " 7   Акционные_покупки                    1297 non-null   float64\n",
      " 8   Популярная_категория                 1297 non-null   object \n",
      " 9   Средний_просмотр_категорий_за_визит  1297 non-null   int64  \n",
      " 10  Неоплаченные_продукты_штук_квартал   1297 non-null   int64  \n",
      " 11  Ошибка_сервиса                       1297 non-null   int64  \n",
      " 12  Страниц_за_визит                     1297 non-null   int64  \n",
      " 13  Выручка_предыдущий_месяц             1297 non-null   float64\n",
      " 14  Выручка_препредыдущий_месяц          1297 non-null   float64\n",
      " 15  Выручка_текущий_месяц                1297 non-null   float64\n",
      " 16  Минуты_предыдущий_месяц              1297 non-null   int64  \n",
      " 17  Минуты_текущий_месяц                 1297 non-null   int64  \n",
      "dtypes: float64(5), int64(9), object(4)\n",
      "memory usage: 192.5+ KB\n"
     ]
    }
   ],
   "source": [
    "# Преобразование market_money\n",
    "filtered_market_money_pivot = filtered_market_money.pivot_table(index='id', columns='Период', values='Выручка', aggfunc='first')\n",
    "\n",
    "# Переименовываем столбцы для ясности\n",
    "filtered_market_money_pivot.columns = ['Выручка_' + col for col in filtered_market_money_pivot.columns]\n",
    "\n",
    "# Преобразование market_time\n",
    "time_pivot = time.pivot_table(index='id', columns='Период', values='минут', aggfunc='first')\n",
    "\n",
    "\n",
    "# Переименовываем столбцы для ясности\n",
    "time_pivot.columns = ['Минуты_' + col for col in time_pivot.columns]\n",
    "\n",
    "# Объединение данных\n",
    "final_df = market.join(filtered_market_money_pivot, on='id')\n",
    "final_df = final_df.join(time_pivot, on='id')\n",
    "\n",
    "# Проверка на дубликаты и пропуски\n",
    "final_df = final_df.drop_duplicates()\n",
    "final_df = final_df.fillna(0)  # Замена пропусков нулями или другой подход в зависимости от задачи\n",
    "\n",
    "final_df.to_csv('final_data.csv', index=False)\n",
    "\n",
    "# Группируем данные по ID и фильтруем группы\n",
    "filtered_df = final_df.groupby('id').filter(lambda x: \n",
    "    (x['Выручка_препредыдущий_месяц'] > 0).all() and\n",
    "    (x['Выручка_предыдущий_месяц'] > 0).all() and\n",
    "    (x['Выручка_текущий_месяц'] > 0).all()\n",
    ")\n",
    "\n",
    "display(filtered_df)\n",
    "\n",
    "# Преобразуем столбец 'Маркет_актив_6_мес' в числовой формат\n",
    "filtered_df['Маркет_актив_6_мес'] = pd.to_numeric(filtered_df['Маркет_актив_6_мес'], errors='coerce')\n",
    "\n",
    "# Преобразуем столбец 'Маркет_актив_тек_мес' в числовой формат\n",
    "filtered_df['Маркет_актив_тек_мес'] = pd.to_numeric(filtered_df['Маркет_актив_тек_мес'], errors='coerce')\n",
    "\n",
    "# Преобразуем столбец 'Маркет_актив_тек_мес' в числовой формат\n",
    "filtered_df['Акционные_покупки'] = pd.to_numeric(filtered_df['Акционные_покупки'], errors='coerce')\n",
    "\n",
    "\n",
    "filtered_df.info()\n",
    "\n"
   ]
  },
  {
   "cell_type": "markdown",
   "metadata": {},
   "source": [
    "<b>Промежуточные выводы раздела</b>  \n",
    "\n",
    "<a id=\"Промежуточные_выводы2\"></a>\n",
    "\n",
    "<div  style=\"border-radius: 10px; box-shadow: 2px 2px 2px; border: 1px solid; padding: 10px \">\n",
    "\n",
    "Объединили таблицы market_file.csv, market_money.csv, market_time.csv и сделали отдельный столбец для каждого периода. В результате создания таблицы клиентов с покупательской активностью не менее трёх месяцев было отобрано 1297 записей.\n",
    "    \n",
    "Переходим к следующему разделу - Корреляционный анализ."
   ]
  },
  {
   "cell_type": "markdown",
   "metadata": {},
   "source": [
    "<a id=\"корреляция\"></a>\n",
    "# Шаг №5 Корреляционный анализ"
   ]
  },
  {
   "cell_type": "markdown",
   "metadata": {},
   "source": [
    "<div  style=\"border-radius: 10px; box-shadow: 2px 2px 2px; border: 1px solid; padding: 10px \">\n",
    "\n",
    "В данном разделе проведем корреляционный анализ признаков в количественной шкале в датасете получившегося после объединения датафреймов. "
   ]
  },
  {
   "cell_type": "code",
   "execution_count": 13,
   "metadata": {},
   "outputs": [
    {
     "data": {
      "text/html": [
       "<div>\n",
       "<style scoped>\n",
       "    .dataframe tbody tr th:only-of-type {\n",
       "        vertical-align: middle;\n",
       "    }\n",
       "\n",
       "    .dataframe tbody tr th {\n",
       "        vertical-align: top;\n",
       "    }\n",
       "\n",
       "    .dataframe thead th {\n",
       "        text-align: right;\n",
       "    }\n",
       "</style>\n",
       "<table border=\"1\" class=\"dataframe\">\n",
       "  <thead>\n",
       "    <tr style=\"text-align: right;\">\n",
       "      <th></th>\n",
       "      <th>id</th>\n",
       "      <th>Маркет_актив_6_мес</th>\n",
       "      <th>Маркет_актив_тек_мес</th>\n",
       "      <th>Длительность</th>\n",
       "      <th>Акционные_покупки</th>\n",
       "      <th>Средний_просмотр_категорий_за_визит</th>\n",
       "      <th>Неоплаченные_продукты_штук_квартал</th>\n",
       "      <th>Ошибка_сервиса</th>\n",
       "      <th>Страниц_за_визит</th>\n",
       "      <th>Выручка_предыдущий_месяц</th>\n",
       "      <th>Выручка_препредыдущий_месяц</th>\n",
       "      <th>Выручка_текущий_месяц</th>\n",
       "      <th>Минуты_предыдущий_месяц</th>\n",
       "      <th>Минуты_текущий_месяц</th>\n",
       "    </tr>\n",
       "  </thead>\n",
       "  <tbody>\n",
       "    <tr>\n",
       "      <th>1</th>\n",
       "      <td>215349</td>\n",
       "      <td>4.4</td>\n",
       "      <td>4</td>\n",
       "      <td>819</td>\n",
       "      <td>0.75</td>\n",
       "      <td>4</td>\n",
       "      <td>4</td>\n",
       "      <td>2</td>\n",
       "      <td>5</td>\n",
       "      <td>5216.0</td>\n",
       "      <td>4472.0</td>\n",
       "      <td>4971.6</td>\n",
       "      <td>12</td>\n",
       "      <td>10</td>\n",
       "    </tr>\n",
       "    <tr>\n",
       "      <th>2</th>\n",
       "      <td>215350</td>\n",
       "      <td>4.9</td>\n",
       "      <td>3</td>\n",
       "      <td>539</td>\n",
       "      <td>0.14</td>\n",
       "      <td>5</td>\n",
       "      <td>2</td>\n",
       "      <td>1</td>\n",
       "      <td>5</td>\n",
       "      <td>5457.5</td>\n",
       "      <td>4826.0</td>\n",
       "      <td>5058.4</td>\n",
       "      <td>8</td>\n",
       "      <td>13</td>\n",
       "    </tr>\n",
       "    <tr>\n",
       "      <th>3</th>\n",
       "      <td>215351</td>\n",
       "      <td>3.2</td>\n",
       "      <td>5</td>\n",
       "      <td>896</td>\n",
       "      <td>0.99</td>\n",
       "      <td>5</td>\n",
       "      <td>0</td>\n",
       "      <td>6</td>\n",
       "      <td>4</td>\n",
       "      <td>6158.0</td>\n",
       "      <td>4793.0</td>\n",
       "      <td>6610.4</td>\n",
       "      <td>11</td>\n",
       "      <td>13</td>\n",
       "    </tr>\n",
       "    <tr>\n",
       "      <th>4</th>\n",
       "      <td>215352</td>\n",
       "      <td>5.1</td>\n",
       "      <td>3</td>\n",
       "      <td>1064</td>\n",
       "      <td>0.94</td>\n",
       "      <td>3</td>\n",
       "      <td>2</td>\n",
       "      <td>3</td>\n",
       "      <td>2</td>\n",
       "      <td>5807.5</td>\n",
       "      <td>4594.0</td>\n",
       "      <td>5872.5</td>\n",
       "      <td>8</td>\n",
       "      <td>11</td>\n",
       "    </tr>\n",
       "    <tr>\n",
       "      <th>5</th>\n",
       "      <td>215353</td>\n",
       "      <td>3.3</td>\n",
       "      <td>4</td>\n",
       "      <td>762</td>\n",
       "      <td>0.26</td>\n",
       "      <td>4</td>\n",
       "      <td>1</td>\n",
       "      <td>1</td>\n",
       "      <td>4</td>\n",
       "      <td>4738.5</td>\n",
       "      <td>5124.0</td>\n",
       "      <td>5388.5</td>\n",
       "      <td>10</td>\n",
       "      <td>10</td>\n",
       "    </tr>\n",
       "    <tr>\n",
       "      <th>...</th>\n",
       "      <td>...</td>\n",
       "      <td>...</td>\n",
       "      <td>...</td>\n",
       "      <td>...</td>\n",
       "      <td>...</td>\n",
       "      <td>...</td>\n",
       "      <td>...</td>\n",
       "      <td>...</td>\n",
       "      <td>...</td>\n",
       "      <td>...</td>\n",
       "      <td>...</td>\n",
       "      <td>...</td>\n",
       "      <td>...</td>\n",
       "      <td>...</td>\n",
       "    </tr>\n",
       "    <tr>\n",
       "      <th>1295</th>\n",
       "      <td>216643</td>\n",
       "      <td>6.6</td>\n",
       "      <td>3</td>\n",
       "      <td>318</td>\n",
       "      <td>0.24</td>\n",
       "      <td>5</td>\n",
       "      <td>3</td>\n",
       "      <td>3</td>\n",
       "      <td>11</td>\n",
       "      <td>3664.0</td>\n",
       "      <td>4704.0</td>\n",
       "      <td>4741.7</td>\n",
       "      <td>14</td>\n",
       "      <td>7</td>\n",
       "    </tr>\n",
       "    <tr>\n",
       "      <th>1296</th>\n",
       "      <td>216644</td>\n",
       "      <td>5.1</td>\n",
       "      <td>4</td>\n",
       "      <td>454</td>\n",
       "      <td>0.21</td>\n",
       "      <td>6</td>\n",
       "      <td>2</td>\n",
       "      <td>3</td>\n",
       "      <td>9</td>\n",
       "      <td>4729.0</td>\n",
       "      <td>5299.0</td>\n",
       "      <td>5353.0</td>\n",
       "      <td>12</td>\n",
       "      <td>11</td>\n",
       "    </tr>\n",
       "    <tr>\n",
       "      <th>1297</th>\n",
       "      <td>216645</td>\n",
       "      <td>4.1</td>\n",
       "      <td>3</td>\n",
       "      <td>586</td>\n",
       "      <td>0.20</td>\n",
       "      <td>3</td>\n",
       "      <td>2</td>\n",
       "      <td>5</td>\n",
       "      <td>7</td>\n",
       "      <td>5160.0</td>\n",
       "      <td>5334.0</td>\n",
       "      <td>5139.2</td>\n",
       "      <td>12</td>\n",
       "      <td>18</td>\n",
       "    </tr>\n",
       "    <tr>\n",
       "      <th>1298</th>\n",
       "      <td>216646</td>\n",
       "      <td>6.3</td>\n",
       "      <td>5</td>\n",
       "      <td>645</td>\n",
       "      <td>0.12</td>\n",
       "      <td>3</td>\n",
       "      <td>3</td>\n",
       "      <td>5</td>\n",
       "      <td>7</td>\n",
       "      <td>4923.0</td>\n",
       "      <td>4725.0</td>\n",
       "      <td>5224.6</td>\n",
       "      <td>18</td>\n",
       "      <td>7</td>\n",
       "    </tr>\n",
       "    <tr>\n",
       "      <th>1299</th>\n",
       "      <td>216647</td>\n",
       "      <td>4.0</td>\n",
       "      <td>5</td>\n",
       "      <td>906</td>\n",
       "      <td>0.94</td>\n",
       "      <td>4</td>\n",
       "      <td>5</td>\n",
       "      <td>3</td>\n",
       "      <td>12</td>\n",
       "      <td>4720.0</td>\n",
       "      <td>5183.0</td>\n",
       "      <td>4448.3</td>\n",
       "      <td>15</td>\n",
       "      <td>10</td>\n",
       "    </tr>\n",
       "  </tbody>\n",
       "</table>\n",
       "<p>1297 rows × 14 columns</p>\n",
       "</div>"
      ],
      "text/plain": [
       "          id  Маркет_актив_6_мес  Маркет_актив_тек_мес  Длительность  \\\n",
       "1     215349                 4.4                     4           819   \n",
       "2     215350                 4.9                     3           539   \n",
       "3     215351                 3.2                     5           896   \n",
       "4     215352                 5.1                     3          1064   \n",
       "5     215353                 3.3                     4           762   \n",
       "...      ...                 ...                   ...           ...   \n",
       "1295  216643                 6.6                     3           318   \n",
       "1296  216644                 5.1                     4           454   \n",
       "1297  216645                 4.1                     3           586   \n",
       "1298  216646                 6.3                     5           645   \n",
       "1299  216647                 4.0                     5           906   \n",
       "\n",
       "      Акционные_покупки  Средний_просмотр_категорий_за_визит  \\\n",
       "1                  0.75                                    4   \n",
       "2                  0.14                                    5   \n",
       "3                  0.99                                    5   \n",
       "4                  0.94                                    3   \n",
       "5                  0.26                                    4   \n",
       "...                 ...                                  ...   \n",
       "1295               0.24                                    5   \n",
       "1296               0.21                                    6   \n",
       "1297               0.20                                    3   \n",
       "1298               0.12                                    3   \n",
       "1299               0.94                                    4   \n",
       "\n",
       "      Неоплаченные_продукты_штук_квартал  Ошибка_сервиса  Страниц_за_визит  \\\n",
       "1                                      4               2                 5   \n",
       "2                                      2               1                 5   \n",
       "3                                      0               6                 4   \n",
       "4                                      2               3                 2   \n",
       "5                                      1               1                 4   \n",
       "...                                  ...             ...               ...   \n",
       "1295                                   3               3                11   \n",
       "1296                                   2               3                 9   \n",
       "1297                                   2               5                 7   \n",
       "1298                                   3               5                 7   \n",
       "1299                                   5               3                12   \n",
       "\n",
       "      Выручка_предыдущий_месяц  Выручка_препредыдущий_месяц  \\\n",
       "1                       5216.0                       4472.0   \n",
       "2                       5457.5                       4826.0   \n",
       "3                       6158.0                       4793.0   \n",
       "4                       5807.5                       4594.0   \n",
       "5                       4738.5                       5124.0   \n",
       "...                        ...                          ...   \n",
       "1295                    3664.0                       4704.0   \n",
       "1296                    4729.0                       5299.0   \n",
       "1297                    5160.0                       5334.0   \n",
       "1298                    4923.0                       4725.0   \n",
       "1299                    4720.0                       5183.0   \n",
       "\n",
       "      Выручка_текущий_месяц  Минуты_предыдущий_месяц  Минуты_текущий_месяц  \n",
       "1                    4971.6                       12                    10  \n",
       "2                    5058.4                        8                    13  \n",
       "3                    6610.4                       11                    13  \n",
       "4                    5872.5                        8                    11  \n",
       "5                    5388.5                       10                    10  \n",
       "...                     ...                      ...                   ...  \n",
       "1295                 4741.7                       14                     7  \n",
       "1296                 5353.0                       12                    11  \n",
       "1297                 5139.2                       12                    18  \n",
       "1298                 5224.6                       18                     7  \n",
       "1299                 4448.3                       15                    10  \n",
       "\n",
       "[1297 rows x 14 columns]"
      ]
     },
     "execution_count": 13,
     "metadata": {},
     "output_type": "execute_result"
    }
   ],
   "source": [
    "# Выбор количественных признаков (пример)\n",
    "quantitative_columns = [col for col in filtered_df.columns if filtered_df[col].dtype in ['int64', 'float64']]\n",
    "quantitative_df = filtered_df[quantitative_columns]\n",
    "\n",
    "quantitative_df"
   ]
  },
  {
   "cell_type": "code",
   "execution_count": 14,
   "metadata": {},
   "outputs": [
    {
     "data": {
      "text/html": [
       "<div>\n",
       "<style scoped>\n",
       "    .dataframe tbody tr th:only-of-type {\n",
       "        vertical-align: middle;\n",
       "    }\n",
       "\n",
       "    .dataframe tbody tr th {\n",
       "        vertical-align: top;\n",
       "    }\n",
       "\n",
       "    .dataframe thead th {\n",
       "        text-align: right;\n",
       "    }\n",
       "</style>\n",
       "<table border=\"1\" class=\"dataframe\">\n",
       "  <thead>\n",
       "    <tr style=\"text-align: right;\">\n",
       "      <th></th>\n",
       "      <th>id</th>\n",
       "      <th>Маркет_актив_6_мес</th>\n",
       "      <th>Маркет_актив_тек_мес</th>\n",
       "      <th>Длительность</th>\n",
       "      <th>Акционные_покупки</th>\n",
       "      <th>Средний_просмотр_категорий_за_визит</th>\n",
       "      <th>Неоплаченные_продукты_штук_квартал</th>\n",
       "      <th>Ошибка_сервиса</th>\n",
       "      <th>Страниц_за_визит</th>\n",
       "      <th>Выручка_предыдущий_месяц</th>\n",
       "      <th>Выручка_препредыдущий_месяц</th>\n",
       "      <th>Выручка_текущий_месяц</th>\n",
       "      <th>Минуты_предыдущий_месяц</th>\n",
       "      <th>Минуты_текущий_месяц</th>\n",
       "    </tr>\n",
       "  </thead>\n",
       "  <tbody>\n",
       "    <tr>\n",
       "      <th>id</th>\n",
       "      <td>1.000000</td>\n",
       "      <td>0.355921</td>\n",
       "      <td>-0.006203</td>\n",
       "      <td>-0.060385</td>\n",
       "      <td>-0.326324</td>\n",
       "      <td>0.271406</td>\n",
       "      <td>-0.293157</td>\n",
       "      <td>0.085214</td>\n",
       "      <td>0.499057</td>\n",
       "      <td>-0.055704</td>\n",
       "      <td>0.347172</td>\n",
       "      <td>-0.068593</td>\n",
       "      <td>0.480114</td>\n",
       "      <td>0.418908</td>\n",
       "    </tr>\n",
       "    <tr>\n",
       "      <th>Маркет_актив_6_мес</th>\n",
       "      <td>0.355921</td>\n",
       "      <td>1.000000</td>\n",
       "      <td>0.058556</td>\n",
       "      <td>-0.039157</td>\n",
       "      <td>-0.242752</td>\n",
       "      <td>0.203090</td>\n",
       "      <td>-0.164073</td>\n",
       "      <td>0.034421</td>\n",
       "      <td>0.314881</td>\n",
       "      <td>0.016442</td>\n",
       "      <td>0.241783</td>\n",
       "      <td>-0.063322</td>\n",
       "      <td>0.288170</td>\n",
       "      <td>0.221858</td>\n",
       "    </tr>\n",
       "    <tr>\n",
       "      <th>Маркет_актив_тек_мес</th>\n",
       "      <td>-0.006203</td>\n",
       "      <td>0.058556</td>\n",
       "      <td>1.000000</td>\n",
       "      <td>-0.134009</td>\n",
       "      <td>-0.005580</td>\n",
       "      <td>-0.023904</td>\n",
       "      <td>0.054997</td>\n",
       "      <td>0.087952</td>\n",
       "      <td>0.005229</td>\n",
       "      <td>-0.033834</td>\n",
       "      <td>-0.042649</td>\n",
       "      <td>-0.005080</td>\n",
       "      <td>0.011086</td>\n",
       "      <td>-0.066598</td>\n",
       "    </tr>\n",
       "    <tr>\n",
       "      <th>Длительность</th>\n",
       "      <td>-0.060385</td>\n",
       "      <td>-0.039157</td>\n",
       "      <td>-0.134009</td>\n",
       "      <td>1.000000</td>\n",
       "      <td>0.012158</td>\n",
       "      <td>-0.054612</td>\n",
       "      <td>-0.092609</td>\n",
       "      <td>0.112254</td>\n",
       "      <td>-0.039542</td>\n",
       "      <td>0.010120</td>\n",
       "      <td>-0.050222</td>\n",
       "      <td>0.008177</td>\n",
       "      <td>-0.122151</td>\n",
       "      <td>0.092506</td>\n",
       "    </tr>\n",
       "    <tr>\n",
       "      <th>Акционные_покупки</th>\n",
       "      <td>-0.326324</td>\n",
       "      <td>-0.242752</td>\n",
       "      <td>-0.005580</td>\n",
       "      <td>0.012158</td>\n",
       "      <td>1.000000</td>\n",
       "      <td>-0.170592</td>\n",
       "      <td>0.190992</td>\n",
       "      <td>-0.024746</td>\n",
       "      <td>-0.307003</td>\n",
       "      <td>-0.001828</td>\n",
       "      <td>-0.200848</td>\n",
       "      <td>0.070330</td>\n",
       "      <td>-0.271253</td>\n",
       "      <td>-0.217316</td>\n",
       "    </tr>\n",
       "    <tr>\n",
       "      <th>Средний_просмотр_категорий_за_визит</th>\n",
       "      <td>0.271406</td>\n",
       "      <td>0.203090</td>\n",
       "      <td>-0.023904</td>\n",
       "      <td>-0.054612</td>\n",
       "      <td>-0.170592</td>\n",
       "      <td>1.000000</td>\n",
       "      <td>-0.274460</td>\n",
       "      <td>0.007024</td>\n",
       "      <td>0.240079</td>\n",
       "      <td>-0.039673</td>\n",
       "      <td>0.140738</td>\n",
       "      <td>-0.026270</td>\n",
       "      <td>0.135454</td>\n",
       "      <td>0.225631</td>\n",
       "    </tr>\n",
       "    <tr>\n",
       "      <th>Неоплаченные_продукты_штук_квартал</th>\n",
       "      <td>-0.293157</td>\n",
       "      <td>-0.164073</td>\n",
       "      <td>0.054997</td>\n",
       "      <td>-0.092609</td>\n",
       "      <td>0.190992</td>\n",
       "      <td>-0.274460</td>\n",
       "      <td>1.000000</td>\n",
       "      <td>-0.092196</td>\n",
       "      <td>-0.194615</td>\n",
       "      <td>-0.005893</td>\n",
       "      <td>-0.262823</td>\n",
       "      <td>-0.000524</td>\n",
       "      <td>-0.182694</td>\n",
       "      <td>-0.206926</td>\n",
       "    </tr>\n",
       "    <tr>\n",
       "      <th>Ошибка_сервиса</th>\n",
       "      <td>0.085214</td>\n",
       "      <td>0.034421</td>\n",
       "      <td>0.087952</td>\n",
       "      <td>0.112254</td>\n",
       "      <td>-0.024746</td>\n",
       "      <td>0.007024</td>\n",
       "      <td>-0.092196</td>\n",
       "      <td>1.000000</td>\n",
       "      <td>0.087651</td>\n",
       "      <td>0.039707</td>\n",
       "      <td>0.076182</td>\n",
       "      <td>0.006466</td>\n",
       "      <td>0.187261</td>\n",
       "      <td>0.074364</td>\n",
       "    </tr>\n",
       "    <tr>\n",
       "      <th>Страниц_за_визит</th>\n",
       "      <td>0.499057</td>\n",
       "      <td>0.314881</td>\n",
       "      <td>0.005229</td>\n",
       "      <td>-0.039542</td>\n",
       "      <td>-0.307003</td>\n",
       "      <td>0.240079</td>\n",
       "      <td>-0.194615</td>\n",
       "      <td>0.087651</td>\n",
       "      <td>1.000000</td>\n",
       "      <td>-0.040131</td>\n",
       "      <td>0.292719</td>\n",
       "      <td>-0.016243</td>\n",
       "      <td>0.425325</td>\n",
       "      <td>0.254452</td>\n",
       "    </tr>\n",
       "    <tr>\n",
       "      <th>Выручка_предыдущий_месяц</th>\n",
       "      <td>-0.055704</td>\n",
       "      <td>0.016442</td>\n",
       "      <td>-0.033834</td>\n",
       "      <td>0.010120</td>\n",
       "      <td>-0.001828</td>\n",
       "      <td>-0.039673</td>\n",
       "      <td>-0.005893</td>\n",
       "      <td>0.039707</td>\n",
       "      <td>-0.040131</td>\n",
       "      <td>1.000000</td>\n",
       "      <td>0.328247</td>\n",
       "      <td>0.280486</td>\n",
       "      <td>-0.065080</td>\n",
       "      <td>-0.052204</td>\n",
       "    </tr>\n",
       "    <tr>\n",
       "      <th>Выручка_препредыдущий_месяц</th>\n",
       "      <td>0.347172</td>\n",
       "      <td>0.241783</td>\n",
       "      <td>-0.042649</td>\n",
       "      <td>-0.050222</td>\n",
       "      <td>-0.200848</td>\n",
       "      <td>0.140738</td>\n",
       "      <td>-0.262823</td>\n",
       "      <td>0.076182</td>\n",
       "      <td>0.292719</td>\n",
       "      <td>0.328247</td>\n",
       "      <td>1.000000</td>\n",
       "      <td>0.051636</td>\n",
       "      <td>0.347279</td>\n",
       "      <td>0.299687</td>\n",
       "    </tr>\n",
       "    <tr>\n",
       "      <th>Выручка_текущий_месяц</th>\n",
       "      <td>-0.068593</td>\n",
       "      <td>-0.063322</td>\n",
       "      <td>-0.005080</td>\n",
       "      <td>0.008177</td>\n",
       "      <td>0.070330</td>\n",
       "      <td>-0.026270</td>\n",
       "      <td>-0.000524</td>\n",
       "      <td>0.006466</td>\n",
       "      <td>-0.016243</td>\n",
       "      <td>0.280486</td>\n",
       "      <td>0.051636</td>\n",
       "      <td>1.000000</td>\n",
       "      <td>-0.049373</td>\n",
       "      <td>-0.040940</td>\n",
       "    </tr>\n",
       "    <tr>\n",
       "      <th>Минуты_предыдущий_месяц</th>\n",
       "      <td>0.480114</td>\n",
       "      <td>0.288170</td>\n",
       "      <td>0.011086</td>\n",
       "      <td>-0.122151</td>\n",
       "      <td>-0.271253</td>\n",
       "      <td>0.135454</td>\n",
       "      <td>-0.182694</td>\n",
       "      <td>0.187261</td>\n",
       "      <td>0.425325</td>\n",
       "      <td>-0.065080</td>\n",
       "      <td>0.347279</td>\n",
       "      <td>-0.049373</td>\n",
       "      <td>1.000000</td>\n",
       "      <td>0.349399</td>\n",
       "    </tr>\n",
       "    <tr>\n",
       "      <th>Минуты_текущий_месяц</th>\n",
       "      <td>0.418908</td>\n",
       "      <td>0.221858</td>\n",
       "      <td>-0.066598</td>\n",
       "      <td>0.092506</td>\n",
       "      <td>-0.217316</td>\n",
       "      <td>0.225631</td>\n",
       "      <td>-0.206926</td>\n",
       "      <td>0.074364</td>\n",
       "      <td>0.254452</td>\n",
       "      <td>-0.052204</td>\n",
       "      <td>0.299687</td>\n",
       "      <td>-0.040940</td>\n",
       "      <td>0.349399</td>\n",
       "      <td>1.000000</td>\n",
       "    </tr>\n",
       "  </tbody>\n",
       "</table>\n",
       "</div>"
      ],
      "text/plain": [
       "                                           id  Маркет_актив_6_мес  \\\n",
       "id                                   1.000000            0.355921   \n",
       "Маркет_актив_6_мес                   0.355921            1.000000   \n",
       "Маркет_актив_тек_мес                -0.006203            0.058556   \n",
       "Длительность                        -0.060385           -0.039157   \n",
       "Акционные_покупки                   -0.326324           -0.242752   \n",
       "Средний_просмотр_категорий_за_визит  0.271406            0.203090   \n",
       "Неоплаченные_продукты_штук_квартал  -0.293157           -0.164073   \n",
       "Ошибка_сервиса                       0.085214            0.034421   \n",
       "Страниц_за_визит                     0.499057            0.314881   \n",
       "Выручка_предыдущий_месяц            -0.055704            0.016442   \n",
       "Выручка_препредыдущий_месяц          0.347172            0.241783   \n",
       "Выручка_текущий_месяц               -0.068593           -0.063322   \n",
       "Минуты_предыдущий_месяц              0.480114            0.288170   \n",
       "Минуты_текущий_месяц                 0.418908            0.221858   \n",
       "\n",
       "                                     Маркет_актив_тек_мес  Длительность  \\\n",
       "id                                              -0.006203     -0.060385   \n",
       "Маркет_актив_6_мес                               0.058556     -0.039157   \n",
       "Маркет_актив_тек_мес                             1.000000     -0.134009   \n",
       "Длительность                                    -0.134009      1.000000   \n",
       "Акционные_покупки                               -0.005580      0.012158   \n",
       "Средний_просмотр_категорий_за_визит             -0.023904     -0.054612   \n",
       "Неоплаченные_продукты_штук_квартал               0.054997     -0.092609   \n",
       "Ошибка_сервиса                                   0.087952      0.112254   \n",
       "Страниц_за_визит                                 0.005229     -0.039542   \n",
       "Выручка_предыдущий_месяц                        -0.033834      0.010120   \n",
       "Выручка_препредыдущий_месяц                     -0.042649     -0.050222   \n",
       "Выручка_текущий_месяц                           -0.005080      0.008177   \n",
       "Минуты_предыдущий_месяц                          0.011086     -0.122151   \n",
       "Минуты_текущий_месяц                            -0.066598      0.092506   \n",
       "\n",
       "                                     Акционные_покупки  \\\n",
       "id                                           -0.326324   \n",
       "Маркет_актив_6_мес                           -0.242752   \n",
       "Маркет_актив_тек_мес                         -0.005580   \n",
       "Длительность                                  0.012158   \n",
       "Акционные_покупки                             1.000000   \n",
       "Средний_просмотр_категорий_за_визит          -0.170592   \n",
       "Неоплаченные_продукты_штук_квартал            0.190992   \n",
       "Ошибка_сервиса                               -0.024746   \n",
       "Страниц_за_визит                             -0.307003   \n",
       "Выручка_предыдущий_месяц                     -0.001828   \n",
       "Выручка_препредыдущий_месяц                  -0.200848   \n",
       "Выручка_текущий_месяц                         0.070330   \n",
       "Минуты_предыдущий_месяц                      -0.271253   \n",
       "Минуты_текущий_месяц                         -0.217316   \n",
       "\n",
       "                                     Средний_просмотр_категорий_за_визит  \\\n",
       "id                                                              0.271406   \n",
       "Маркет_актив_6_мес                                              0.203090   \n",
       "Маркет_актив_тек_мес                                           -0.023904   \n",
       "Длительность                                                   -0.054612   \n",
       "Акционные_покупки                                              -0.170592   \n",
       "Средний_просмотр_категорий_за_визит                             1.000000   \n",
       "Неоплаченные_продукты_штук_квартал                             -0.274460   \n",
       "Ошибка_сервиса                                                  0.007024   \n",
       "Страниц_за_визит                                                0.240079   \n",
       "Выручка_предыдущий_месяц                                       -0.039673   \n",
       "Выручка_препредыдущий_месяц                                     0.140738   \n",
       "Выручка_текущий_месяц                                          -0.026270   \n",
       "Минуты_предыдущий_месяц                                         0.135454   \n",
       "Минуты_текущий_месяц                                            0.225631   \n",
       "\n",
       "                                     Неоплаченные_продукты_штук_квартал  \\\n",
       "id                                                            -0.293157   \n",
       "Маркет_актив_6_мес                                            -0.164073   \n",
       "Маркет_актив_тек_мес                                           0.054997   \n",
       "Длительность                                                  -0.092609   \n",
       "Акционные_покупки                                              0.190992   \n",
       "Средний_просмотр_категорий_за_визит                           -0.274460   \n",
       "Неоплаченные_продукты_штук_квартал                             1.000000   \n",
       "Ошибка_сервиса                                                -0.092196   \n",
       "Страниц_за_визит                                              -0.194615   \n",
       "Выручка_предыдущий_месяц                                      -0.005893   \n",
       "Выручка_препредыдущий_месяц                                   -0.262823   \n",
       "Выручка_текущий_месяц                                         -0.000524   \n",
       "Минуты_предыдущий_месяц                                       -0.182694   \n",
       "Минуты_текущий_месяц                                          -0.206926   \n",
       "\n",
       "                                     Ошибка_сервиса  Страниц_за_визит  \\\n",
       "id                                         0.085214          0.499057   \n",
       "Маркет_актив_6_мес                         0.034421          0.314881   \n",
       "Маркет_актив_тек_мес                       0.087952          0.005229   \n",
       "Длительность                               0.112254         -0.039542   \n",
       "Акционные_покупки                         -0.024746         -0.307003   \n",
       "Средний_просмотр_категорий_за_визит        0.007024          0.240079   \n",
       "Неоплаченные_продукты_штук_квартал        -0.092196         -0.194615   \n",
       "Ошибка_сервиса                             1.000000          0.087651   \n",
       "Страниц_за_визит                           0.087651          1.000000   \n",
       "Выручка_предыдущий_месяц                   0.039707         -0.040131   \n",
       "Выручка_препредыдущий_месяц                0.076182          0.292719   \n",
       "Выручка_текущий_месяц                      0.006466         -0.016243   \n",
       "Минуты_предыдущий_месяц                    0.187261          0.425325   \n",
       "Минуты_текущий_месяц                       0.074364          0.254452   \n",
       "\n",
       "                                     Выручка_предыдущий_месяц  \\\n",
       "id                                                  -0.055704   \n",
       "Маркет_актив_6_мес                                   0.016442   \n",
       "Маркет_актив_тек_мес                                -0.033834   \n",
       "Длительность                                         0.010120   \n",
       "Акционные_покупки                                   -0.001828   \n",
       "Средний_просмотр_категорий_за_визит                 -0.039673   \n",
       "Неоплаченные_продукты_штук_квартал                  -0.005893   \n",
       "Ошибка_сервиса                                       0.039707   \n",
       "Страниц_за_визит                                    -0.040131   \n",
       "Выручка_предыдущий_месяц                             1.000000   \n",
       "Выручка_препредыдущий_месяц                          0.328247   \n",
       "Выручка_текущий_месяц                                0.280486   \n",
       "Минуты_предыдущий_месяц                             -0.065080   \n",
       "Минуты_текущий_месяц                                -0.052204   \n",
       "\n",
       "                                     Выручка_препредыдущий_месяц  \\\n",
       "id                                                      0.347172   \n",
       "Маркет_актив_6_мес                                      0.241783   \n",
       "Маркет_актив_тек_мес                                   -0.042649   \n",
       "Длительность                                           -0.050222   \n",
       "Акционные_покупки                                      -0.200848   \n",
       "Средний_просмотр_категорий_за_визит                     0.140738   \n",
       "Неоплаченные_продукты_штук_квартал                     -0.262823   \n",
       "Ошибка_сервиса                                          0.076182   \n",
       "Страниц_за_визит                                        0.292719   \n",
       "Выручка_предыдущий_месяц                                0.328247   \n",
       "Выручка_препредыдущий_месяц                             1.000000   \n",
       "Выручка_текущий_месяц                                   0.051636   \n",
       "Минуты_предыдущий_месяц                                 0.347279   \n",
       "Минуты_текущий_месяц                                    0.299687   \n",
       "\n",
       "                                     Выручка_текущий_месяц  \\\n",
       "id                                               -0.068593   \n",
       "Маркет_актив_6_мес                               -0.063322   \n",
       "Маркет_актив_тек_мес                             -0.005080   \n",
       "Длительность                                      0.008177   \n",
       "Акционные_покупки                                 0.070330   \n",
       "Средний_просмотр_категорий_за_визит              -0.026270   \n",
       "Неоплаченные_продукты_штук_квартал               -0.000524   \n",
       "Ошибка_сервиса                                    0.006466   \n",
       "Страниц_за_визит                                 -0.016243   \n",
       "Выручка_предыдущий_месяц                          0.280486   \n",
       "Выручка_препредыдущий_месяц                       0.051636   \n",
       "Выручка_текущий_месяц                             1.000000   \n",
       "Минуты_предыдущий_месяц                          -0.049373   \n",
       "Минуты_текущий_месяц                             -0.040940   \n",
       "\n",
       "                                     Минуты_предыдущий_месяц  \\\n",
       "id                                                  0.480114   \n",
       "Маркет_актив_6_мес                                  0.288170   \n",
       "Маркет_актив_тек_мес                                0.011086   \n",
       "Длительность                                       -0.122151   \n",
       "Акционные_покупки                                  -0.271253   \n",
       "Средний_просмотр_категорий_за_визит                 0.135454   \n",
       "Неоплаченные_продукты_штук_квартал                 -0.182694   \n",
       "Ошибка_сервиса                                      0.187261   \n",
       "Страниц_за_визит                                    0.425325   \n",
       "Выручка_предыдущий_месяц                           -0.065080   \n",
       "Выручка_препредыдущий_месяц                         0.347279   \n",
       "Выручка_текущий_месяц                              -0.049373   \n",
       "Минуты_предыдущий_месяц                             1.000000   \n",
       "Минуты_текущий_месяц                                0.349399   \n",
       "\n",
       "                                     Минуты_текущий_месяц  \n",
       "id                                               0.418908  \n",
       "Маркет_актив_6_мес                               0.221858  \n",
       "Маркет_актив_тек_мес                            -0.066598  \n",
       "Длительность                                     0.092506  \n",
       "Акционные_покупки                               -0.217316  \n",
       "Средний_просмотр_категорий_за_визит              0.225631  \n",
       "Неоплаченные_продукты_штук_квартал              -0.206926  \n",
       "Ошибка_сервиса                                   0.074364  \n",
       "Страниц_за_визит                                 0.254452  \n",
       "Выручка_предыдущий_месяц                        -0.052204  \n",
       "Выручка_препредыдущий_месяц                      0.299687  \n",
       "Выручка_текущий_месяц                           -0.040940  \n",
       "Минуты_предыдущий_месяц                          0.349399  \n",
       "Минуты_текущий_месяц                             1.000000  "
      ]
     },
     "execution_count": 14,
     "metadata": {},
     "output_type": "execute_result"
    }
   ],
   "source": [
    "correlation_matrix = quantitative_df.corr(method='spearman')\n",
    "correlation_matrix"
   ]
  },
  {
   "cell_type": "code",
   "execution_count": 15,
   "metadata": {},
   "outputs": [
    {
     "data": {
      "image/png": "[encoded data removed]",
      "text/plain": [
       "<Figure size 720x576 with 2 Axes>"
      ]
     },
     "metadata": {
      "needs_background": "light"
     },
     "output_type": "display_data"
    }
   ],
   "source": [
    "plt.figure(figsize=(10, 8))\n",
    "sns.heatmap(correlation_matrix, annot=True, cmap='coolwarm', fmt=\".2f\")\n",
    "plt.title('Correlation Matrix')\n",
    "plt.show()"
   ]
  },
  {
   "cell_type": "markdown",
   "metadata": {},
   "source": [
    "<b>Промежуточные выводы раздела</b>  \n",
    "\n",
    "<a id=\"Промежуточные_выводы3\"></a>\n",
    "\n",
    "<div  style=\"border-radius: 10px; box-shadow: 2px 2px 2px; border: 1px solid; padding: 10px \">\n",
    "\n",
    "На основании проведенного анализа определили, что основываясь на матрице корреляций, мы не имеем признаков, которые имеют высокую корреляцию друг с другом (общепринятая граница |r| > 0.8)."
   ]
  },
  {
   "cell_type": "markdown",
   "metadata": {},
   "source": [
    "<a id=\"пайплайн\"></a>\n",
    "# Шаг №6 Использование пайплайнов"
   ]
  },
  {
   "cell_type": "markdown",
   "metadata": {},
   "source": [
    "<b>Шаг №6.1 Подготовка данных</b>  \n",
    "\n",
    "<a id=\"ColumnTransformer\"></a>\n",
    "\n",
    "\n",
    "\n",
    "<div  style=\"border-radius: 10px; box-shadow: 2px 2px 2px; border: 1px solid; padding: 10px \">\n",
    "\n",
    "\n",
    "Во время подготовки данных используем ColumnTransformer. Количественные и категориальные признаки обработаем в пайплайне раздельно. Для кодирования категориальных признаков используем два кодировщика, для масштабирования (количественные данные) — два скейлера. Для каждой модели можно подготовить данные с разным кодированием и масштабированием."
   ]
  },
  {
   "cell_type": "code",
   "execution_count": 16,
   "metadata": {},
   "outputs": [
    {
     "name": "stdout",
     "output_type": "stream",
     "text": [
      "Training accuracy: 1.0\n",
      "Testing accuracy: 0.8276923076923077\n"
     ]
    }
   ],
   "source": [
    "# Разделение данных\n",
    "X = filtered_df.drop(['Покупательская активность'], axis=1)\n",
    "y = filtered_df['Покупательская активность']\n",
    "X_train, X_test, y_train, y_test = train_test_split(\n",
    "    X, y, test_size=TEST_SIZE, random_state=RANDOM_STATE, stratify=y)\n",
    "\n",
    "# Конфигурация категориальных признаков\n",
    "categorical_features_onehot = ['Тип сервиса', 'Популярная_категория']\n",
    "categorical_features_ordinal = ['Разрешить сообщать']\n",
    "\n",
    "# Числовые признаки для StandardScaler\n",
    "numeric_features_standard = [\n",
    "    'Маркет_актив_6_мес', 'Длительность', \n",
    "    'Акционные_покупки', 'Ошибка_сервиса', 'Страниц_за_визит',\n",
    "    'Выручка_предыдущий_месяц', 'Выручка_препредыдущий_месяц'\n",
    "]\n",
    "\n",
    "# Числовые признаки для MinMaxScaler\n",
    "numeric_features_minmax = [\n",
    "    'Маркет_актив_тек_мес', 'Средний_просмотр_категорий_за_визит', \n",
    "    'Неоплаченные_продукты_штук_квартал', 'Выручка_текущий_месяц', \n",
    "    'Минуты_предыдущий_месяц', 'Минуты_текущий_месяц'\n",
    "]\n",
    "\n",
    "\n",
    "# Определение пайплайнов для предобработки\n",
    "categorical_pipeline_onehot = Pipeline([\n",
    "    ('onehot', OneHotEncoder(handle_unknown='ignore'))\n",
    "])\n",
    "\n",
    "categorical_pipeline_ordinal = Pipeline([\n",
    "    ('ordinal', OrdinalEncoder())\n",
    "])\n",
    "\n",
    "numeric_pipeline_standard = Pipeline([\n",
    "    ('scaler', StandardScaler())\n",
    "])\n",
    "\n",
    "numeric_pipeline_minmax = Pipeline([\n",
    "    ('minmax', MinMaxScaler())\n",
    "])\n",
    "\n",
    "# Объединение трансформаций в ColumnTransformer\n",
    "preprocessor = ColumnTransformer(\n",
    "    transformers=[\n",
    "        ('cat_onehot', categorical_pipeline_onehot, categorical_features_onehot),\n",
    "        ('cat_ordinal', categorical_pipeline_ordinal, categorical_features_ordinal),\n",
    "        ('num_standard', numeric_pipeline_standard, numeric_features_standard),\n",
    "        ('num_minmax', numeric_pipeline_minmax, numeric_features_minmax)\n",
    "    ])\n",
    "\n",
    "# Создание и обучение модели\n",
    "model_pipeline = Pipeline([\n",
    "    ('preprocessor', preprocessor),\n",
    "    ('classifier', DecisionTreeClassifier(random_state=RANDOM_STATE))\n",
    "])\n",
    "\n",
    "model_pipeline.fit(X_train, y_train)\n",
    "\n",
    "# Оценка модели\n",
    "print(\"Training accuracy:\", model_pipeline.score(X_train, y_train))\n",
    "print(\"Testing accuracy:\", model_pipeline.score(X_test, y_test))"
   ]
  },
  {
   "cell_type": "markdown",
   "metadata": {},
   "source": [
    "\n",
    "<div  style=\"border-radius: 10px; box-shadow: 2px 2px 2px; border: 1px solid; padding: 10px \">\n",
    "\n",
    "Во время подготовки данных использовали ColumnTransformer. Количественные и категориальные признаки обработали в пайплайне раздельно. Использовали два кодировщика, для масштабирования (количественные данные) — два скейлера. \n",
    "    \n",
    "Точность тренировочной и тестировочной модели составила 1.0 и 0.69 соответственно."
   ]
  },
  {
   "cell_type": "markdown",
   "metadata": {},
   "source": [
    "<b>Шаг №6.2 Обучение четырех моделей</b>  \n",
    "\n",
    "<a id=\"Четыре\"></a>\n",
    "\n",
    "\n",
    "\n",
    "<div  style=\"border-radius: 10px; box-shadow: 2px 2px 2px; border: 1px solid; padding: 10px \">\n",
    "\n",
    "\n",
    "Обучим четыре модели: KNeighborsClassifier(), DecisionTreeClassifier(), LogisticRegression() и SVC(). Для каждой из них подобрать как минимум один гиперпараметр. Выберим подходящую для задачи метрику, аргументировать свой выбор. Использовать эту метрику при подборе гиперпараметров."
   ]
  },
  {
   "cell_type": "code",
   "execution_count": 17,
   "metadata": {},
   "outputs": [
    {
     "name": "stdout",
     "output_type": "stream",
     "text": [
      "KNN best score: 0.8786833718015536\n",
      "KNN best params: {'classifier__n_neighbors': 10}\n",
      "KNN test score: 0.9147608730540844\n",
      "\n",
      "Decision Tree best score: 0.8534413905641178\n",
      "Decision Tree best params: {'classifier__max_depth': 5}\n",
      "Decision Tree test score: 0.8530131600064196\n",
      "\n",
      "Logistic Regression best score: 0.8958502841684659\n",
      "Logistic Regression best params: {'classifier__C': 10}\n",
      "Logistic Regression test score: 0.9235275236719627\n",
      "\n",
      "SVC best score: 0.9022369195641922\n",
      "SVC best params: {'classifier__kernel': 'rbf', 'classifier__C': 1}\n",
      "SVC test score: 0.9046153846153846\n",
      "\n"
     ]
    }
   ],
   "source": [
    "# Создание моделей с пайплайнами\n",
    "models = [\n",
    "    ('KNN', KNeighborsClassifier(), {'classifier__n_neighbors': [3, 5, 7, 10]}),\n",
    "    ('Decision Tree', DecisionTreeClassifier(random_state=RANDOM_STATE), {'classifier__max_depth': [None, 5, 10, 20]}),\n",
    "    ('Logistic Regression', LogisticRegression(random_state=RANDOM_STATE), {'classifier__C': [0.1, 1, 10]}),\n",
    "    ('SVC', SVC(random_state=RANDOM_STATE), {'classifier__C': [0.1, 1, 10], 'classifier__kernel': ['linear', 'rbf']})\n",
    "]\n",
    "\n",
    "for name, model, param_grid in models:\n",
    "    pipeline = Pipeline([\n",
    "        ('preprocessor', preprocessor),\n",
    "        ('classifier', model)\n",
    "    ])\n",
    "    search = RandomizedSearchCV(pipeline, param_grid, n_iter=10, cv=5, scoring='roc_auc', random_state=RANDOM_STATE, n_jobs=-1)\n",
    "    search.fit(X_train, y_train)\n",
    "    print(f\"{name} best score: {search.best_score_}\")\n",
    "    print(f\"{name} best params: {search.best_params_}\")\n",
    "    \n",
    "    # Использование вероятностей для расчета ROC AUC\n",
    "    if hasattr(search.best_estimator_['classifier'], \"predict_proba\"):\n",
    "        y_proba = search.predict_proba(X_test)[:, 1]  # Берем вероятности для класса 1\n",
    "        test_score = roc_auc_score(y_test, y_proba)\n",
    "    else:\n",
    "        y_pred = search.predict(X_test)\n",
    "        test_score = accuracy_score(y_test, y_pred)  # Или другая подходящая метрика\n",
    "    \n",
    "    print(f\"{name} test score: {test_score}\\n\")"
   ]
  },
  {
   "cell_type": "code",
   "execution_count": 18,
   "metadata": {},
   "outputs": [
    {
     "name": "stdout",
     "output_type": "stream",
     "text": [
      "Лучшая модель и её параметры:\n",
      " Pipeline(steps=[('preprocessor',\n",
      "                 ColumnTransformer(transformers=[('cat_onehot',\n",
      "                                                  Pipeline(steps=[('onehot',\n",
      "                                                                   OneHotEncoder(handle_unknown='ignore'))]),\n",
      "                                                  ['Тип сервиса',\n",
      "                                                   'Популярная_категория']),\n",
      "                                                 ('cat_ordinal',\n",
      "                                                  Pipeline(steps=[('ordinal',\n",
      "                                                                   OrdinalEncoder())]),\n",
      "                                                  ['Разрешить сообщать']),\n",
      "                                                 ('num_standard',\n",
      "                                                  Pipeline(steps=[('scaler',\n",
      "                                                                   StandardScaler())]),\n",
      "                                                  ['Маркет_актив_6_м...\n",
      "                                                   'Выручка_предыдущий_месяц',\n",
      "                                                   'Выручка_препредыдущий_месяц']),\n",
      "                                                 ('num_minmax',\n",
      "                                                  Pipeline(steps=[('minmax',\n",
      "                                                                   MinMaxScaler())]),\n",
      "                                                  ['Маркет_актив_тек_мес',\n",
      "                                                   'Средний_просмотр_категорий_за_визит',\n",
      "                                                   'Неоплаченные_продукты_штук_квартал',\n",
      "                                                   'Выручка_текущий_месяц',\n",
      "                                                   'Минуты_предыдущий_месяц',\n",
      "                                                   'Минуты_текущий_месяц'])])),\n",
      "                ('classifier', SVC(C=1, probability=True, random_state=42))])\n",
      "Метрика лучшей модели на тренировочной выборке: 0.9022369195641922\n"
     ]
    }
   ],
   "source": [
    "\n",
    "param_distributions = [\n",
    "    {\n",
    "        'classifier': [DecisionTreeClassifier(random_state=RANDOM_STATE)],\n",
    "        'classifier__max_depth': [None, 10, 20, 30],\n",
    "        'classifier__min_samples_split': [2, 5, 10],\n",
    "        'classifier__min_samples_leaf': [1, 2, 4]\n",
    "    },\n",
    "    {\n",
    "        'classifier': [KNeighborsClassifier()],\n",
    "        'classifier__n_neighbors': [3, 5, 7, 10],\n",
    "        'classifier__leaf_size': [20, 30, 40]\n",
    "    },\n",
    "    {\n",
    "        'classifier': [LogisticRegression(solver='liblinear', random_state=RANDOM_STATE)],\n",
    "        'classifier__C': [0.01, 0.1, 1, 10],\n",
    "        'classifier__penalty': ['l1', 'l2']\n",
    "    },\n",
    "    {\n",
    "        'classifier': [SVC(probability=True, random_state=RANDOM_STATE)],\n",
    "        'classifier__C': [0.1, 1, 10],\n",
    "        'classifier__kernel': ['linear', 'rbf']\n",
    "    }\n",
    "]\n",
    "\n",
    "# Обучение и оценка модели\n",
    "randomized_search = RandomizedSearchCV(\n",
    "    estimator=model_pipeline,\n",
    "    param_distributions=param_distributions,\n",
    "    n_iter=10,\n",
    "    cv=5,\n",
    "    scoring='roc_auc',\n",
    "    random_state=RANDOM_STATE,\n",
    "    n_jobs=-1\n",
    ")\n",
    "randomized_search.fit(X_train, y_train)\n",
    "\n",
    "print('Лучшая модель и её параметры:\\n', randomized_search.best_estimator_)\n",
    "print('Метрика лучшей модели на тренировочной выборке:', randomized_search.best_score_)\n"
   ]
  },
  {
   "cell_type": "markdown",
   "metadata": {},
   "source": [
    "<div  style=\"border-radius: 10px; box-shadow: 2px 2px 2px; border: 1px solid; padding: 10px \">\n",
    "\n",
    "Логистическая регрессия является лучшим выбором для текущей задачи с учетом метрики ROC AUC.\n",
    "Можно рассмотреть возможность дальнейшей настройки гиперпараметров с использованием более тонкой сетки значений для ещё большего улучшения результатов.\n",
    "Также стоит обратить внимание на то, как различные предобработки данных (разные скейлеры и кодировщики) могут влиять на результаты модели. Возможно, эксперименты с различными комбинациями предобработок помогут улучшить результаты других моделей.\n",
    "Эти шаги помогут максимально использовать потенциал моделей для предоставления наиболее точных предсказаний на новых данных."
   ]
  },
  {
   "cell_type": "markdown",
   "metadata": {},
   "source": [
    "<b>Шаг №6.3 Обучение четырех моделей</b>  \n",
    "\n",
    "<a id=\"Лучшая\"></a>\n",
    "\n",
    "\n",
    "\n",
    "<div  style=\"border-radius: 10px; box-shadow: 2px 2px 2px; border: 1px solid; padding: 10px \">\n",
    "\n",
    "\n",
    "Выберем лучшую модель, используя заданную метрику."
   ]
  },
  {
   "cell_type": "code",
   "execution_count": 19,
   "metadata": {},
   "outputs": [
    {
     "name": "stdout",
     "output_type": "stream",
     "text": [
      "ROC AUC score: 0.9297063071738084\n"
     ]
    }
   ],
   "source": [
    "# Предсказание вероятностей принадлежности к классам\n",
    "y_pred_proba = randomized_search.predict_proba(X_test)[:, 1]\n",
    "\n",
    "# Вычисление ROC AUC\n",
    "roc_auc = roc_auc_score(y_test, y_pred_proba)\n",
    "print(f\"ROC AUC score: {roc_auc}\")"
   ]
  },
  {
   "cell_type": "markdown",
   "metadata": {},
   "source": [
    "<div  style=\"border-radius: 10px; box-shadow: 2px 2px 2px; border: 1px solid; padding: 10px \">\n",
    "\n",
    "Наша модель (SVC(C=1, probability=True, random_state=42)) показывает лучший показатель ROC AUC, среди всех остальных моделей что свидетельствует о хорошей способности модели различать классы. Это означает, что модель хорошо справляется с задачей классификации на данных, которые мы использовали для тестирования."
   ]
  },
  {
   "cell_type": "markdown",
   "metadata": {},
   "source": [
    "<b>Промежуточные выводы раздела</b>  \n",
    "\n",
    "<a id=\"Промежуточные_выводы4\"></a>\n",
    "\n",
    "\n",
    "\n",
    "<div  style=\"border-radius: 10px; box-shadow: 2px 2px 2px; border: 1px solid; padding: 10px \">\n",
    "\n",
    "Наш проект построения модели классификации для интернет-магазина «В один клик» показал важность тщательной предобработки данных и выбора подходящих моделей для задачи. Использование ColumnTransformer для раздельной обработки количественных и категориальных признаков с помощью различных кодировщиков и скейлеров было ключевым в оптимизации входных данных для моделей.\n",
    "\n",
    "В ходе экспериментов с разными моделями машинного обучения модель SVC с параметром C=1 и включенной возможностью оценки вероятностей (probability=True) показала наилучшие результаты по метрике ROC AUC. Это указывает на её высокую способность к дискриминации между классами, что особенно ценно в задачах с несбалансированными классами или когда важно минимизировать число ложноположительных классификаций."
   ]
  },
  {
   "cell_type": "markdown",
   "metadata": {},
   "source": [
    "<a id=\"Анализ\"></a>\n",
    "# Шаг №7 Анализ важности признаков"
   ]
  },
  {
   "cell_type": "markdown",
   "metadata": {},
   "source": [
    "<b>Шаг №7.1 Оценить важность признаков для лучшей модели</b>  \n",
    "\n",
    "<a id=\"Оценка\"></a>\n",
    "\n",
    "\n",
    "\n",
    "<div  style=\"border-radius: 10px; box-shadow: 2px 2px 2px; border: 1px solid; padding: 10px \">\n",
    "\n",
    "\n",
    "Оценить важность признаков для лучшей модели и построить график важности с помощью метода SHAP."
   ]
  },
  {
   "cell_type": "code",
   "execution_count": null,
   "metadata": {},
   "outputs": [
    {
     "data": {
      "application/vnd.jupyter.widget-view+json": {
       "model_id": "10b0a21cdfe54688bc3b6128ce739b28",
       "version_major": 2,
       "version_minor": 0
      },
      "text/plain": [
       "  0%|          | 0/325 [00:00<?, ?it/s]"
      ]
     },
     "metadata": {},
     "output_type": "display_data"
    }
   ],
   "source": [
    "# Получение компонентов из лучшего результата RandomizedSearchCV\n",
    "best_pipeline = randomized_search.best_estimator_\n",
    "best_model = best_pipeline.named_steps['classifier']\n",
    "preprocessor = best_pipeline.named_steps['preprocessor']\n",
    "\n",
    "# Преобразование данных\n",
    "X_test_transformed = preprocessor.transform(X_test)\n",
    "\n",
    "# Создание SHAP Explainer\n",
    "explainer = shap.KernelExplainer(best_model.predict_proba, shap.sample(X_test_transformed, 100))\n",
    "\n",
    "# Вычисление SHAP значений\n",
    "shap_values = explainer.shap_values(X_test_transformed)\n",
    "\n",
    "# Визуализация важности признаков\n",
    "shap.summary_plot(shap_values, X_test_transformed, plot_type=\"bar\", feature_names=preprocessor.get_feature_names_out())"
   ]
  },
  {
   "cell_type": "markdown",
   "metadata": {},
   "source": [
    "<b>Выводы раздела</b>  \n",
    "\n",
    "<a id=\"Промежуточные_выводы5\"></a>\n",
    "\n",
    "\n",
    "<div  style=\"border-radius: 10px; box-shadow: 2px 2px 2px; border: 1px solid; padding: 10px \">\n",
    "\n",
    "\n",
    "На графике SHAP (SHapley Additive exPlanations), который мы загрузили, представлены взаимодействия между признаками для нашей модели. Он визуализирует, как влияние признаков изменяется при различных комбинациях их значений.\n",
    "\n",
    "На графике два основных признака:\n",
    "\n",
    "Тип сервиса (премиум) - когда сервис является 'премиум', это сильно влияет на поведение модели, смещая предсказания в одном направлении (означенном синим цветом). \n",
    "    \n",
    "Тип сервиса (стандарт) - стандартный тип сервиса также важен, но его влияние на прогнозы отличается и означено красным цветом. Визуально видно, что 'премиум' сервисы имеют более сильное и положительное воздействие на предсказания модели, в то время как стандартные сервисы имеют меньшее влияние. Цвета на графике показывают направление воздействия (синий - положительное, красный - отрицательное), и распределение точек демонстрирует, как изменения в этих признаках влияют на выводы модели в различных сценариях."
   ]
  },
  {
   "cell_type": "markdown",
   "metadata": {},
   "source": [
    "<a id=\"Сегментация\"></a>\n",
    "# Шаг №8 Сегментация покупателей"
   ]
  },
  {
   "cell_type": "markdown",
   "metadata": {},
   "source": [
    "<b>Шаг №8.1 Выполнить сегментацию покупателей</b>  \n",
    "\n",
    "<a id=\"Оценка\"></a>\n",
    "\n",
    "\n",
    "\n",
    "<div  style=\"border-radius: 10px; box-shadow: 2px 2px 2px; border: 1px solid; padding: 10px \">\n",
    "\n",
    "Выполнить сегментацию покупателей. Использовать результаты моделирования и данные о прибыльности покупателей."
   ]
  },
  {
   "cell_type": "code",
   "execution_count": null,
   "metadata": {},
   "outputs": [],
   "source": [
    "# Кластеризация\n",
    "kmeans = KMeans(n_clusters=3, random_state=0)\n",
    "\n",
    "# Пайплайн\n",
    "pipeline = Pipeline(steps=[('preprocessor', preprocessor),\n",
    "                           ('clusterer', kmeans)])\n",
    "\n",
    "# Обучение модели\n",
    "pipeline.fit(filtered_df)\n",
    "\n",
    "# Результаты кластеризации\n",
    "filtered_df['Cluster'] = pipeline.predict(filtered_df)\n",
    "\n",
    "filtered_df\n"
   ]
  },
  {
   "cell_type": "markdown",
   "metadata": {},
   "source": [
    "<div  style=\"border-radius: 10px; box-shadow: 2px 2px 2px; border: 1px solid; padding: 10px \">\n",
    "\n",
    "\n",
    "Сегментация покупателей с помощью K-Means на три различные группы позволяет более эффективно настраивать маркетинговые и сервисные стратегии, улучшая взаимодействие с клиентами и оптимизируя доходы."
   ]
  },
  {
   "cell_type": "markdown",
   "metadata": {},
   "source": [
    "<b>Шаг №8.2 Выбрать группу покупателей и предложение, как увеличить её покупательскую активность</b>  \n",
    "\n",
    "<a id=\"Группа\"></a>\n",
    "\n",
    "\n",
    "\n",
    "<div  style=\"border-radius: 10px; box-shadow: 2px 2px 2px; border: 1px solid; padding: 10px \">\n",
    "\n",
    "\n",
    "Провести графическое и аналитическое исследование группы покупателей.\n",
    "\n",
    "Сделайте предложения по работе с сегментом для увеличения покупательской активности."
   ]
  },
  {
   "cell_type": "code",
   "execution_count": null,
   "metadata": {},
   "outputs": [],
   "source": [
    "# Предположим, df - это DataFrame с вашими данными\n",
    "Q1 = filtered_df['Выручка_текущий_месяц'].quantile(0.25)\n",
    "Q3 = filtered_df['Выручка_текущий_месяц'].quantile(0.75)\n",
    "IQR = Q3 - Q1\n",
    "\n",
    "# Границы для определения выбросов\n",
    "lower_bound = Q1 - 1.5 * IQR\n",
    "upper_bound = Q3 + 1.5 * IQR\n",
    "\n",
    "# Фильтрация данных, исключая выбросы\n",
    "filtered_df1 = filtered_df[(filtered_df['Выручка_текущий_месяц'] >= lower_bound) & (filtered_df['Выручка_текущий_месяц'] <= upper_bound)]\n",
    "\n",
    "print(\"Количество выбросов:\", filtered_df.shape[0] - filtered_df1.shape[0])\n",
    "print(\"Очищенный DataFrame:\", filtered_df1.head())"
   ]
  },
  {
   "cell_type": "code",
   "execution_count": null,
   "metadata": {},
   "outputs": [],
   "source": [
    "# Визуализация распределения выручки по кластерам\n",
    "plt.figure(figsize=(12, 6))\n",
    "sns.boxplot(x='Cluster', y='Выручка_текущий_месяц', data=filtered_df1)\n",
    "plt.title('Распределение выручки по кластерам')\n",
    "plt.xlabel('Кластер')\n",
    "plt.ylabel('Выручка текущего месяца')\n",
    "plt.grid(True)\n",
    "plt.show()\n",
    "\n",
    "# Анализ зависимости между акционными покупками и выручкой в каждом кластере\n",
    "g = sns.FacetGrid(filtered_df1, col='Cluster', col_wrap=3, height=4)\n",
    "g.map_dataframe(sns.scatterplot, x='Акционные_покупки', y='Выручка_текущий_месяц')\n",
    "g.set_titles(col_template='Кластер {col_name}')\n",
    "g.set_axis_labels('Акционные покупки', 'Выручка текущего месяца')\n",
    "plt.subplots_adjust(top=0.9)\n",
    "g.fig.suptitle('Зависимость между акционными покупками и выручкой по кластерам')\n",
    "plt.show()"
   ]
  },
  {
   "cell_type": "markdown",
   "metadata": {},
   "source": [
    "<div  style=\"border-radius: 10px; box-shadow: 2px 2px 2px; border: 1px solid; padding: 10px \">\n",
    "\n",
    "\n",
    "Кластер 0 выделяется самой высокой средней выручкой и наибольшей вариабельностью. Это может быть сегмент премиальных клиентов или клиентов, совершающих крупные покупки. Специальные предложения, нацеленные на повышение частоты покупок, в том числе через эксклюзивные товары или услуги, могут стимулировать дополнительные траты в этой группе.\n",
    "\n",
    "Кластер 1 показывает меньшую вариабельность в выручке, но также низкую среднюю выручку. Этот кластер может включать менее активных покупателей или тех, кто реже вовлечен в акции. Рекомендуется увеличить активность покупателей в этом кластере через персонализированные акции и специальные предложения.\n",
    "\n",
    "Кластер 2 демонстрирует более высокую выручку, что может указывать на наличие более лояльных или часто покупающих клиентов. Для этой группы могут быть эффективны программы лояльности, которые дополнительно увеличат частоту покупок и средний чек.\n",
    "\n",
    "Графический анализ акционных покупок показывает, что увеличение доли акционных покупок может способствовать росту выручки. Следовательно, расширение акционных предложений и адаптация их под интересы и потребности каждого кластера позволят максимизировать общую выручку. Это также поможет повысить покупательскую активность, особенно в кластерах с низкой средней выручкой."
   ]
  },
  {
   "cell_type": "markdown",
   "metadata": {},
   "source": [
    "<b>Шаг №8.3 Выводы о сегментах</b>  \n",
    "\n",
    "<a id=\"Промежуточные_выводы6\"></a>\n",
    "\n",
    "\n",
    "\n",
    "<div  style=\"border-radius: 10px; box-shadow: 2px 2px 2px; border: 1px solid; padding: 10px \">\n",
    "\n",
    "Для дополнительного исследования был выбран Кластер 0, поскольку он показывает наибольшую медианную выручку среди всех кластеров, а также обладает наибольшим разбросом значений выручки. Это указывает на наличие как очень высоких, так и относительно низких значений выручки в рамках этого кластера, что делает его потенциально интересным для анализа вариабельности покупательской активности и определения факторов, влияющих на выручку.\n",
    "\n",
    "Предложения по работе с Кластером 0:\n",
    "\n",
    "Анализ причин разброса выручки. Понимание, почему некоторые клиенты приносят гораздо больше выручки, может помочь в разработке стратегий для увеличения прибыли от клиентов с низкими показателями.\n",
    "\n",
    "Персонализированные маркетинговые кампании. Разработать целевые предложения и акции, основанные на покупательском поведении и предпочтениях клиентов из этого кластера.\n",
    "\n",
    "Улучшение клиентского опыта. Внедрение улучшений в обслуживание клиентов, особенно для тех, кто приносит максимальную выручку, для повышения их лояльности и удержания.\n",
    "\n",
    "Исследование потенциала увеличения частоты покупок. Анализ возможности увеличения частоты покупок у клиентов с высокой выручкой через персонализированные предложения и программы лояльности.\n",
    "    \n",
    "Эти предложения могут помочь не только увеличить выручку от текущих высокодоходных клиентов, но и оптимизировать стратегии взаимодействия с теми клиентами этого кластера, чья выручка сейчас находится на среднем и низком уровне."
   ]
  },
  {
   "cell_type": "markdown",
   "metadata": {},
   "source": [
    "<a id=\"Вывод\"></a>\n",
    "# Шаг №9 Общие выводы"
   ]
  },
  {
   "cell_type": "markdown",
   "metadata": {},
   "source": [
    "<div  style=\"border-radius: 10px; box-shadow: 2px 2px 2px; border: 1px solid; padding: 10px \">\n",
    "    \n",
    "На основе проведённого анализа данных и результатов моделирования для интернет-магазина «В один клик», можно сформулировать следующий общий вывод, объединяющий в себе технические аспекты моделирования, анализ данных и стратегические рекомендации для улучшения бизнес-процессов.\n",
    "\n",
    "Обзор задачи и подходов:\n",
    "Интернет-магазин «В один клик» обладает широким ассортиментом товаров и предоставляет услуги различного уровня. Наблюдаемое снижение покупательской активности подтолкнуло к переосмыслению текущих стратегий привлечения и удержания клиентов. Главной задачей стало исследование поведенческих паттернов покупателей для формирования целевых предложений, способных максимально удовлетворить их потребности и увеличить их лояльность.\n",
    "\n",
    "Анализ и сегментация данных:\n",
    "Данные о клиентах были подвергнуты тщательному анализу, который включал оценку покупательской активности, предпочтений в сервисах, участия в акционных предложениях, а также анализ выручки. С использованием методов машинного обучения клиенты были разделены на кластеры, что позволило выявить группы с различным потенциалом и поведением. Это сегментирование стало основой для разработки персонализированных маркетинговых стратегий.\n",
    "\n",
    "Моделирование и выбор модели\n",
    "В рамках проекта были опробованы различные алгоритмы машинного обучения, включая логистическую регрессию, деревья решений и SVC. Модель SVC с гиперпараметром C=1 и включенной опцией вероятностной оценки (probability=True) показала лучшее значение ROC AUC, что говорит о её высокой способности к классификации и дискриминации между классами покупателей. Это особенно ценно для определения вероятности оттока клиентов или их перехода в более активные сегменты.\n",
    "\n",
    "Выводы из анализа SHAP и важность признаков\n",
    "Использование SHAP значений для интерпретации модели SVC позволило выявить ключевые факторы, влияющие на покупательскую активность. Особенно значительное влияние оказывают тип сервиса и уровень участия в акциях. Эти данные могут быть использованы для адаптации маркетинговых кампаний и улучшения пользовательского опыта.\n",
    "\n",
    "Рекомендации для бизнеса.\n",
    "На основе анализа предложено ряд стратегий для улучшения взаимодействия с клиентами:\n",
    "\n",
    "Персонализация предложений: использование данных о предпочтениях и поведении клиентов для создания индивидуальных предложений.\n",
    "Улучшение клиентского опыта: внедрение улучшений в обслуживание и поддержку клиентов, особенно в премиальном сегменте.\n",
    "Развитие программ лояльности: создание и продвижение программ лояльности, нацеленных на увеличение частоты и объемов покупок.\n",
    "Оптимизация маркетинговых кампаний: адаптация маркетинговых акций под нужды различных кластеров покупателей для максимизации их эффективности.\n",
    "\n",
    "Заключение\n",
    "    \n",
    "Интеграция данных о клиентах, анализ их поведения и предпочтений, а также разработка основанной на данных модели предсказания позволяют \"В один клик\" не только адаптироваться к изменяющимся условиям рынка, но и активно формировать потребности и интересы своей аудитории, стимулируя рост покупательской активности и укрепляя свои позиции на рынке."
   ]
  }
 ],
 "metadata": {
  "ExecuteTimeLog": [
   {
    "duration": 1908,
    "start_time": "2024-07-04T18:31:44.758Z"
   },
   {
    "duration": 74,
    "start_time": "2024-07-04T18:33:22.481Z"
   },
   {
    "duration": 7830,
    "start_time": "2024-07-04T18:34:40.889Z"
   },
   {
    "duration": 26,
    "start_time": "2024-07-04T18:35:14.239Z"
   },
   {
    "duration": 2658,
    "start_time": "2024-07-04T18:36:19.348Z"
   },
   {
    "duration": 31,
    "start_time": "2024-07-04T18:36:22.008Z"
   },
   {
    "duration": 0,
    "start_time": "2024-07-04T18:36:22.041Z"
   },
   {
    "duration": 3173,
    "start_time": "2024-07-04T18:36:42.344Z"
   },
   {
    "duration": 2694,
    "start_time": "2024-07-04T18:36:51.538Z"
   },
   {
    "duration": 3127,
    "start_time": "2024-07-04T18:36:54.234Z"
   },
   {
    "duration": 23,
    "start_time": "2024-07-04T18:36:57.363Z"
   },
   {
    "duration": 0,
    "start_time": "2024-07-04T18:36:57.388Z"
   },
   {
    "duration": 15,
    "start_time": "2024-07-04T18:38:48.753Z"
   },
   {
    "duration": 62,
    "start_time": "2024-07-04T18:39:29.431Z"
   },
   {
    "duration": 59,
    "start_time": "2024-07-04T18:40:16.100Z"
   },
   {
    "duration": 2636,
    "start_time": "2024-07-04T18:40:18.767Z"
   },
   {
    "duration": 3135,
    "start_time": "2024-07-04T18:40:22.920Z"
   },
   {
    "duration": 3,
    "start_time": "2024-07-04T18:44:52.754Z"
   },
   {
    "duration": 56,
    "start_time": "2024-07-04T18:44:52.759Z"
   },
   {
    "duration": 0,
    "start_time": "2024-07-04T18:44:52.817Z"
   },
   {
    "duration": 0,
    "start_time": "2024-07-04T18:44:52.818Z"
   },
   {
    "duration": 0,
    "start_time": "2024-07-04T18:44:52.820Z"
   },
   {
    "duration": 0,
    "start_time": "2024-07-04T18:44:52.821Z"
   },
   {
    "duration": 4,
    "start_time": "2024-07-04T18:45:07.952Z"
   },
   {
    "duration": 3,
    "start_time": "2024-07-04T18:46:49.182Z"
   },
   {
    "duration": 50,
    "start_time": "2024-07-04T18:46:49.187Z"
   },
   {
    "duration": 0,
    "start_time": "2024-07-04T18:46:49.239Z"
   },
   {
    "duration": 0,
    "start_time": "2024-07-04T18:46:49.240Z"
   },
   {
    "duration": 0,
    "start_time": "2024-07-04T18:46:49.242Z"
   },
   {
    "duration": 0,
    "start_time": "2024-07-04T18:46:49.243Z"
   },
   {
    "duration": 2610,
    "start_time": "2024-07-04T18:47:15.730Z"
   },
   {
    "duration": 3,
    "start_time": "2024-07-04T18:47:46.863Z"
   },
   {
    "duration": 3,
    "start_time": "2024-07-04T18:47:46.869Z"
   },
   {
    "duration": 2566,
    "start_time": "2024-07-04T18:47:46.873Z"
   },
   {
    "duration": 1384,
    "start_time": "2024-07-04T18:47:49.441Z"
   },
   {
    "duration": 419,
    "start_time": "2024-07-04T18:47:50.827Z"
   },
   {
    "duration": 2,
    "start_time": "2024-07-04T18:48:30.284Z"
   },
   {
    "duration": 56,
    "start_time": "2024-07-04T18:48:30.288Z"
   },
   {
    "duration": 53,
    "start_time": "2024-07-04T18:48:30.345Z"
   },
   {
    "duration": 41,
    "start_time": "2024-07-04T18:48:30.399Z"
   },
   {
    "duration": 177,
    "start_time": "2024-07-04T18:48:30.443Z"
   },
   {
    "duration": 155,
    "start_time": "2024-07-04T18:51:39.496Z"
   },
   {
    "duration": 141,
    "start_time": "2024-07-04T18:52:15.243Z"
   },
   {
    "duration": 143,
    "start_time": "2024-07-04T18:52:40.462Z"
   },
   {
    "duration": 23,
    "start_time": "2024-07-04T21:36:57.387Z"
   },
   {
    "duration": 23,
    "start_time": "2024-07-04T21:37:36.760Z"
   },
   {
    "duration": 67,
    "start_time": "2024-07-04T21:38:00.732Z"
   },
   {
    "duration": 18,
    "start_time": "2024-07-04T21:38:24.793Z"
   },
   {
    "duration": 20,
    "start_time": "2024-07-04T21:39:46.638Z"
   },
   {
    "duration": 22,
    "start_time": "2024-07-04T21:41:57.003Z"
   },
   {
    "duration": 23,
    "start_time": "2024-07-04T21:42:26.351Z"
   },
   {
    "duration": 21,
    "start_time": "2024-07-04T21:42:45.361Z"
   },
   {
    "duration": 35,
    "start_time": "2024-07-04T21:44:08.703Z"
   },
   {
    "duration": 31,
    "start_time": "2024-07-04T21:44:45.200Z"
   },
   {
    "duration": 34,
    "start_time": "2024-07-04T21:45:18.836Z"
   },
   {
    "duration": 36,
    "start_time": "2024-07-04T21:45:56.782Z"
   },
   {
    "duration": 32,
    "start_time": "2024-07-04T21:46:48.651Z"
   },
   {
    "duration": 46,
    "start_time": "2024-07-04T21:50:06.649Z"
   },
   {
    "duration": 52,
    "start_time": "2024-07-04T21:52:08.014Z"
   },
   {
    "duration": 44,
    "start_time": "2024-07-04T21:53:07.077Z"
   },
   {
    "duration": 47,
    "start_time": "2024-07-04T21:53:42.065Z"
   },
   {
    "duration": 42,
    "start_time": "2024-07-04T21:54:09.404Z"
   },
   {
    "duration": 52,
    "start_time": "2024-07-04T21:55:31.708Z"
   },
   {
    "duration": 50,
    "start_time": "2024-07-04T21:55:59.063Z"
   },
   {
    "duration": 56,
    "start_time": "2024-07-04T22:01:24.464Z"
   },
   {
    "duration": 44,
    "start_time": "2024-07-04T22:01:44.751Z"
   },
   {
    "duration": 52,
    "start_time": "2024-07-04T22:02:15.131Z"
   },
   {
    "duration": 49,
    "start_time": "2024-07-04T22:02:40.533Z"
   },
   {
    "duration": 57,
    "start_time": "2024-07-04T22:03:38.324Z"
   },
   {
    "duration": 44,
    "start_time": "2024-07-04T22:56:05.625Z"
   },
   {
    "duration": 47,
    "start_time": "2024-07-04T22:57:27.381Z"
   },
   {
    "duration": 67,
    "start_time": "2024-07-04T22:59:31.257Z"
   },
   {
    "duration": 44,
    "start_time": "2024-07-04T22:59:40.968Z"
   },
   {
    "duration": 44,
    "start_time": "2024-07-04T23:00:03.666Z"
   },
   {
    "duration": 63,
    "start_time": "2024-07-04T23:02:40.684Z"
   },
   {
    "duration": 50,
    "start_time": "2024-07-04T23:02:52.675Z"
   },
   {
    "duration": 1053,
    "start_time": "2024-07-04T23:15:11.990Z"
   },
   {
    "duration": 6,
    "start_time": "2024-07-04T23:15:42.129Z"
   },
   {
    "duration": 7,
    "start_time": "2024-07-04T23:26:27.883Z"
   },
   {
    "duration": 5,
    "start_time": "2024-07-04T23:43:42.493Z"
   },
   {
    "duration": 24,
    "start_time": "2024-07-04T23:45:25.041Z"
   },
   {
    "duration": 1539,
    "start_time": "2024-07-04T23:46:40.803Z"
   },
   {
    "duration": 1568,
    "start_time": "2024-07-04T23:47:31.710Z"
   },
   {
    "duration": 383,
    "start_time": "2024-07-04T23:51:15.123Z"
   },
   {
    "duration": 78,
    "start_time": "2024-07-05T00:00:17.727Z"
   },
   {
    "duration": 3477,
    "start_time": "2024-07-05T00:05:12.368Z"
   },
   {
    "duration": 139,
    "start_time": "2024-07-05T00:06:04.933Z"
   },
   {
    "duration": 67,
    "start_time": "2024-07-05T06:12:54.888Z"
   },
   {
    "duration": 3,
    "start_time": "2024-07-05T06:13:25.871Z"
   },
   {
    "duration": 23,
    "start_time": "2024-07-05T06:13:25.876Z"
   },
   {
    "duration": 4,
    "start_time": "2024-07-05T06:13:25.900Z"
   },
   {
    "duration": 1691,
    "start_time": "2024-07-05T06:13:25.905Z"
   },
   {
    "duration": 0,
    "start_time": "2024-07-05T06:13:27.599Z"
   },
   {
    "duration": 0,
    "start_time": "2024-07-05T06:13:27.600Z"
   },
   {
    "duration": 0,
    "start_time": "2024-07-05T06:13:27.601Z"
   },
   {
    "duration": 0,
    "start_time": "2024-07-05T06:13:27.602Z"
   },
   {
    "duration": 1,
    "start_time": "2024-07-05T06:13:27.603Z"
   },
   {
    "duration": 0,
    "start_time": "2024-07-05T06:13:27.605Z"
   },
   {
    "duration": 0,
    "start_time": "2024-07-05T06:13:27.606Z"
   },
   {
    "duration": 2,
    "start_time": "2024-07-05T06:13:38.836Z"
   },
   {
    "duration": 9,
    "start_time": "2024-07-05T06:13:38.840Z"
   },
   {
    "duration": 9,
    "start_time": "2024-07-05T06:13:38.850Z"
   },
   {
    "duration": 11,
    "start_time": "2024-07-05T06:13:38.860Z"
   },
   {
    "duration": 0,
    "start_time": "2024-07-05T06:13:38.872Z"
   },
   {
    "duration": 16,
    "start_time": "2024-07-05T06:13:38.892Z"
   },
   {
    "duration": 0,
    "start_time": "2024-07-05T06:13:38.910Z"
   },
   {
    "duration": 0,
    "start_time": "2024-07-05T06:13:38.911Z"
   },
   {
    "duration": 0,
    "start_time": "2024-07-05T06:13:38.912Z"
   },
   {
    "duration": 9,
    "start_time": "2024-07-05T06:13:38.946Z"
   },
   {
    "duration": 0,
    "start_time": "2024-07-05T06:13:38.957Z"
   },
   {
    "duration": 4,
    "start_time": "2024-07-05T06:14:07.802Z"
   },
   {
    "duration": 8,
    "start_time": "2024-07-05T06:14:07.808Z"
   },
   {
    "duration": 3,
    "start_time": "2024-07-05T06:14:07.817Z"
   },
   {
    "duration": 1494,
    "start_time": "2024-07-05T06:14:07.822Z"
   },
   {
    "duration": 0,
    "start_time": "2024-07-05T06:14:09.317Z"
   },
   {
    "duration": 0,
    "start_time": "2024-07-05T06:14:09.318Z"
   },
   {
    "duration": 0,
    "start_time": "2024-07-05T06:14:09.319Z"
   },
   {
    "duration": 0,
    "start_time": "2024-07-05T06:14:09.320Z"
   },
   {
    "duration": 0,
    "start_time": "2024-07-05T06:14:09.321Z"
   },
   {
    "duration": 0,
    "start_time": "2024-07-05T06:14:09.323Z"
   },
   {
    "duration": 0,
    "start_time": "2024-07-05T06:14:09.324Z"
   },
   {
    "duration": 3,
    "start_time": "2024-07-05T06:14:37.762Z"
   },
   {
    "duration": 7840,
    "start_time": "2024-07-05T06:14:37.767Z"
   },
   {
    "duration": 3,
    "start_time": "2024-07-05T06:14:45.610Z"
   },
   {
    "duration": 1268,
    "start_time": "2024-07-05T06:14:45.615Z"
   },
   {
    "duration": 436,
    "start_time": "2024-07-05T06:14:46.885Z"
   },
   {
    "duration": 52,
    "start_time": "2024-07-05T06:14:47.323Z"
   },
   {
    "duration": 47,
    "start_time": "2024-07-05T06:14:47.377Z"
   },
   {
    "duration": 8,
    "start_time": "2024-07-05T06:14:47.425Z"
   },
   {
    "duration": 6,
    "start_time": "2024-07-05T06:14:47.434Z"
   },
   {
    "duration": 333,
    "start_time": "2024-07-05T06:14:47.442Z"
   },
   {
    "duration": 138,
    "start_time": "2024-07-05T06:14:47.776Z"
   },
   {
    "duration": 28,
    "start_time": "2024-07-05T06:15:33.795Z"
   },
   {
    "duration": 131,
    "start_time": "2024-07-05T06:15:50.217Z"
   },
   {
    "duration": 183,
    "start_time": "2024-07-05T06:16:53.111Z"
   },
   {
    "duration": 371,
    "start_time": "2024-07-05T06:17:49.430Z"
   },
   {
    "duration": 303,
    "start_time": "2024-07-05T06:18:13.731Z"
   },
   {
    "duration": 3,
    "start_time": "2024-07-05T06:18:35.793Z"
   },
   {
    "duration": 2946,
    "start_time": "2024-07-05T06:18:35.798Z"
   },
   {
    "duration": 2,
    "start_time": "2024-07-05T06:18:38.746Z"
   },
   {
    "duration": 1246,
    "start_time": "2024-07-05T06:18:38.750Z"
   },
   {
    "duration": 168,
    "start_time": "2024-07-05T06:18:39.998Z"
   },
   {
    "duration": 89,
    "start_time": "2024-07-05T06:18:40.168Z"
   },
   {
    "duration": 6,
    "start_time": "2024-07-05T06:18:40.258Z"
   },
   {
    "duration": 6,
    "start_time": "2024-07-05T06:18:40.265Z"
   },
   {
    "duration": 16,
    "start_time": "2024-07-05T06:18:40.272Z"
   },
   {
    "duration": 380,
    "start_time": "2024-07-05T06:18:40.290Z"
   },
   {
    "duration": 147,
    "start_time": "2024-07-05T06:18:40.672Z"
   },
   {
    "duration": 147,
    "start_time": "2024-07-05T06:24:54.708Z"
   },
   {
    "duration": 4,
    "start_time": "2024-07-05T06:35:57.820Z"
   },
   {
    "duration": 2762,
    "start_time": "2024-07-05T06:35:57.826Z"
   },
   {
    "duration": 3,
    "start_time": "2024-07-05T06:36:00.591Z"
   },
   {
    "duration": 1284,
    "start_time": "2024-07-05T06:36:00.595Z"
   },
   {
    "duration": 146,
    "start_time": "2024-07-05T06:36:01.881Z"
   },
   {
    "duration": 58,
    "start_time": "2024-07-05T06:36:02.029Z"
   },
   {
    "duration": 9,
    "start_time": "2024-07-05T06:36:02.120Z"
   },
   {
    "duration": 39,
    "start_time": "2024-07-05T06:36:02.130Z"
   },
   {
    "duration": 159,
    "start_time": "2024-07-05T06:36:02.171Z"
   },
   {
    "duration": 421,
    "start_time": "2024-07-05T06:36:02.331Z"
   },
   {
    "duration": 141,
    "start_time": "2024-07-05T06:36:02.753Z"
   },
   {
    "duration": 176,
    "start_time": "2024-07-05T06:37:26.112Z"
   },
   {
    "duration": 237,
    "start_time": "2024-07-05T06:39:26.473Z"
   },
   {
    "duration": 137,
    "start_time": "2024-07-05T06:39:55.825Z"
   },
   {
    "duration": 833,
    "start_time": "2024-07-05T06:52:18.864Z"
   },
   {
    "duration": 872,
    "start_time": "2024-07-05T06:53:12.990Z"
   },
   {
    "duration": 895,
    "start_time": "2024-07-05T06:53:43.310Z"
   },
   {
    "duration": 869,
    "start_time": "2024-07-05T06:54:05.330Z"
   },
   {
    "duration": 870,
    "start_time": "2024-07-05T06:55:03.424Z"
   },
   {
    "duration": 4,
    "start_time": "2024-07-05T09:30:13.658Z"
   },
   {
    "duration": 2831,
    "start_time": "2024-07-05T09:30:13.663Z"
   },
   {
    "duration": 2,
    "start_time": "2024-07-05T09:30:16.497Z"
   },
   {
    "duration": 1299,
    "start_time": "2024-07-05T09:30:16.501Z"
   },
   {
    "duration": 152,
    "start_time": "2024-07-05T09:30:17.802Z"
   },
   {
    "duration": 85,
    "start_time": "2024-07-05T09:30:17.956Z"
   },
   {
    "duration": 5,
    "start_time": "2024-07-05T09:30:18.043Z"
   },
   {
    "duration": 23,
    "start_time": "2024-07-05T09:30:18.049Z"
   },
   {
    "duration": 12,
    "start_time": "2024-07-05T09:30:18.073Z"
   },
   {
    "duration": 349,
    "start_time": "2024-07-05T09:30:18.086Z"
   },
   {
    "duration": 864,
    "start_time": "2024-07-05T09:30:18.437Z"
   },
   {
    "duration": 4,
    "start_time": "2024-07-05T09:30:19.303Z"
   },
   {
    "duration": 1006,
    "start_time": "2024-07-05T09:31:14.256Z"
   },
   {
    "duration": 859,
    "start_time": "2024-07-05T09:31:54.578Z"
   },
   {
    "duration": 879,
    "start_time": "2024-07-05T09:34:27.606Z"
   },
   {
    "duration": 933,
    "start_time": "2024-07-05T09:35:00.919Z"
   },
   {
    "duration": 898,
    "start_time": "2024-07-05T09:35:46.934Z"
   },
   {
    "duration": 849,
    "start_time": "2024-07-05T09:36:41.034Z"
   },
   {
    "duration": 4,
    "start_time": "2024-07-05T09:37:21.238Z"
   },
   {
    "duration": 22,
    "start_time": "2024-07-05T09:37:33.300Z"
   },
   {
    "duration": 18,
    "start_time": "2024-07-05T09:38:18.652Z"
   },
   {
    "duration": 16,
    "start_time": "2024-07-05T09:38:37.462Z"
   },
   {
    "duration": 18,
    "start_time": "2024-07-05T09:38:54.392Z"
   },
   {
    "duration": 1521,
    "start_time": "2024-07-05T09:39:22.714Z"
   },
   {
    "duration": 145,
    "start_time": "2024-07-05T11:10:28.504Z"
   },
   {
    "duration": 22,
    "start_time": "2024-07-05T11:11:13.874Z"
   },
   {
    "duration": 4,
    "start_time": "2024-07-05T11:12:25.804Z"
   },
   {
    "duration": 2953,
    "start_time": "2024-07-05T11:12:25.810Z"
   },
   {
    "duration": 4,
    "start_time": "2024-07-05T11:12:28.765Z"
   },
   {
    "duration": 1453,
    "start_time": "2024-07-05T11:12:28.772Z"
   },
   {
    "duration": 163,
    "start_time": "2024-07-05T11:12:30.227Z"
   },
   {
    "duration": 78,
    "start_time": "2024-07-05T11:12:30.391Z"
   },
   {
    "duration": 6,
    "start_time": "2024-07-05T11:12:30.471Z"
   },
   {
    "duration": 112,
    "start_time": "2024-07-05T11:12:30.479Z"
   },
   {
    "duration": 78,
    "start_time": "2024-07-05T11:12:30.593Z"
   },
   {
    "duration": 369,
    "start_time": "2024-07-05T11:12:30.673Z"
   },
   {
    "duration": 1149,
    "start_time": "2024-07-05T11:12:31.044Z"
   },
   {
    "duration": 31,
    "start_time": "2024-07-05T11:12:32.195Z"
   },
   {
    "duration": 65,
    "start_time": "2024-07-05T11:12:32.229Z"
   },
   {
    "duration": 1551,
    "start_time": "2024-07-05T11:12:32.297Z"
   },
   {
    "duration": 132,
    "start_time": "2024-07-05T11:12:33.850Z"
   },
   {
    "duration": 821,
    "start_time": "2024-07-05T11:18:24.427Z"
   },
   {
    "duration": 4,
    "start_time": "2024-07-05T11:18:35.610Z"
   },
   {
    "duration": 3614,
    "start_time": "2024-07-05T11:18:35.616Z"
   },
   {
    "duration": 3,
    "start_time": "2024-07-05T11:18:39.232Z"
   },
   {
    "duration": 1613,
    "start_time": "2024-07-05T11:18:39.237Z"
   },
   {
    "duration": 214,
    "start_time": "2024-07-05T11:18:40.868Z"
   },
   {
    "duration": 80,
    "start_time": "2024-07-05T11:18:41.084Z"
   },
   {
    "duration": 1040,
    "start_time": "2024-07-05T11:18:41.165Z"
   },
   {
    "duration": 0,
    "start_time": "2024-07-05T11:18:42.207Z"
   },
   {
    "duration": 0,
    "start_time": "2024-07-05T11:18:42.208Z"
   },
   {
    "duration": 0,
    "start_time": "2024-07-05T11:18:42.209Z"
   },
   {
    "duration": 0,
    "start_time": "2024-07-05T11:18:42.211Z"
   },
   {
    "duration": 0,
    "start_time": "2024-07-05T11:18:42.213Z"
   },
   {
    "duration": 0,
    "start_time": "2024-07-05T11:18:42.214Z"
   },
   {
    "duration": 0,
    "start_time": "2024-07-05T11:18:42.215Z"
   },
   {
    "duration": 0,
    "start_time": "2024-07-05T11:18:42.217Z"
   },
   {
    "duration": 12,
    "start_time": "2024-07-05T11:20:43.269Z"
   },
   {
    "duration": 3349,
    "start_time": "2024-07-05T11:20:43.285Z"
   },
   {
    "duration": 3,
    "start_time": "2024-07-05T11:20:46.636Z"
   },
   {
    "duration": 1564,
    "start_time": "2024-07-05T11:20:46.641Z"
   },
   {
    "duration": 187,
    "start_time": "2024-07-05T11:20:48.207Z"
   },
   {
    "duration": 103,
    "start_time": "2024-07-05T11:20:48.396Z"
   },
   {
    "duration": 24,
    "start_time": "2024-07-05T11:20:48.502Z"
   },
   {
    "duration": 16,
    "start_time": "2024-07-05T11:20:48.530Z"
   },
   {
    "duration": 6,
    "start_time": "2024-07-05T11:20:48.551Z"
   },
   {
    "duration": 516,
    "start_time": "2024-07-05T11:20:48.560Z"
   },
   {
    "duration": 1110,
    "start_time": "2024-07-05T11:20:49.078Z"
   },
   {
    "duration": 41,
    "start_time": "2024-07-05T11:20:50.190Z"
   },
   {
    "duration": 31,
    "start_time": "2024-07-05T11:20:50.239Z"
   },
   {
    "duration": 1943,
    "start_time": "2024-07-05T11:20:50.273Z"
   },
   {
    "duration": 215,
    "start_time": "2024-07-05T11:20:52.218Z"
   },
   {
    "duration": 58,
    "start_time": "2024-07-05T11:26:18.831Z"
   },
   {
    "duration": 3,
    "start_time": "2024-07-05T11:27:54.571Z"
   },
   {
    "duration": 2986,
    "start_time": "2024-07-05T11:27:54.576Z"
   },
   {
    "duration": 3,
    "start_time": "2024-07-05T11:27:57.564Z"
   },
   {
    "duration": 1522,
    "start_time": "2024-07-05T11:27:57.570Z"
   },
   {
    "duration": 154,
    "start_time": "2024-07-05T11:27:59.094Z"
   },
   {
    "duration": 2562,
    "start_time": "2024-07-05T11:27:59.250Z"
   },
   {
    "duration": 469,
    "start_time": "2024-07-05T11:28:01.813Z"
   },
   {
    "duration": 55,
    "start_time": "2024-07-05T11:28:02.284Z"
   },
   {
    "duration": 6,
    "start_time": "2024-07-05T11:28:02.342Z"
   },
   {
    "duration": 375,
    "start_time": "2024-07-05T11:28:02.350Z"
   },
   {
    "duration": 919,
    "start_time": "2024-07-05T11:28:02.727Z"
   },
   {
    "duration": 22,
    "start_time": "2024-07-05T11:28:03.648Z"
   },
   {
    "duration": 62,
    "start_time": "2024-07-05T11:28:03.672Z"
   },
   {
    "duration": 1648,
    "start_time": "2024-07-05T11:28:03.736Z"
   },
   {
    "duration": 47,
    "start_time": "2024-07-05T11:28:05.385Z"
   },
   {
    "duration": 56,
    "start_time": "2024-07-05T11:33:05.052Z"
   },
   {
    "duration": 4,
    "start_time": "2024-07-05T12:19:59.214Z"
   },
   {
    "duration": 2820,
    "start_time": "2024-07-05T12:19:59.221Z"
   },
   {
    "duration": 3,
    "start_time": "2024-07-05T12:20:02.043Z"
   },
   {
    "duration": 1375,
    "start_time": "2024-07-05T12:20:02.048Z"
   },
   {
    "duration": 152,
    "start_time": "2024-07-05T12:20:03.425Z"
   },
   {
    "duration": 77,
    "start_time": "2024-07-05T12:20:03.579Z"
   },
   {
    "duration": 10,
    "start_time": "2024-07-05T12:20:03.657Z"
   },
   {
    "duration": 33,
    "start_time": "2024-07-05T12:20:03.668Z"
   },
   {
    "duration": 18,
    "start_time": "2024-07-05T12:20:03.702Z"
   },
   {
    "duration": 332,
    "start_time": "2024-07-05T12:20:03.722Z"
   },
   {
    "duration": 879,
    "start_time": "2024-07-05T12:20:04.056Z"
   },
   {
    "duration": 20,
    "start_time": "2024-07-05T12:20:04.937Z"
   },
   {
    "duration": 57,
    "start_time": "2024-07-05T12:20:04.959Z"
   },
   {
    "duration": 1504,
    "start_time": "2024-07-05T12:20:05.019Z"
   },
   {
    "duration": 69,
    "start_time": "2024-07-05T12:20:06.525Z"
   },
   {
    "duration": 82,
    "start_time": "2024-07-05T12:20:06.596Z"
   },
   {
    "duration": 58,
    "start_time": "2024-07-05T12:21:20.617Z"
   },
   {
    "duration": 162,
    "start_time": "2024-07-05T12:22:26.444Z"
   },
   {
    "duration": 4,
    "start_time": "2024-07-05T12:24:11.093Z"
   },
   {
    "duration": 2821,
    "start_time": "2024-07-05T12:24:11.100Z"
   },
   {
    "duration": 2,
    "start_time": "2024-07-05T12:24:13.923Z"
   },
   {
    "duration": 1315,
    "start_time": "2024-07-05T12:24:13.926Z"
   },
   {
    "duration": 144,
    "start_time": "2024-07-05T12:24:15.243Z"
   },
   {
    "duration": 64,
    "start_time": "2024-07-05T12:24:15.388Z"
   },
   {
    "duration": 7,
    "start_time": "2024-07-05T12:24:15.453Z"
   },
   {
    "duration": 15,
    "start_time": "2024-07-05T12:24:15.461Z"
   },
   {
    "duration": 12,
    "start_time": "2024-07-05T12:24:15.477Z"
   },
   {
    "duration": 354,
    "start_time": "2024-07-05T12:24:15.496Z"
   },
   {
    "duration": 852,
    "start_time": "2024-07-05T12:24:15.852Z"
   },
   {
    "duration": 29,
    "start_time": "2024-07-05T12:24:16.707Z"
   },
   {
    "duration": 18,
    "start_time": "2024-07-05T12:24:16.737Z"
   },
   {
    "duration": 1611,
    "start_time": "2024-07-05T12:24:16.757Z"
   },
   {
    "duration": 64,
    "start_time": "2024-07-05T12:24:18.370Z"
   },
   {
    "duration": 143,
    "start_time": "2024-07-05T12:24:18.436Z"
   },
   {
    "duration": 5,
    "start_time": "2024-07-05T12:26:29.541Z"
   },
   {
    "duration": 2806,
    "start_time": "2024-07-05T12:26:29.548Z"
   },
   {
    "duration": 2,
    "start_time": "2024-07-05T12:26:32.356Z"
   },
   {
    "duration": 1348,
    "start_time": "2024-07-05T12:26:32.360Z"
   },
   {
    "duration": 143,
    "start_time": "2024-07-05T12:26:33.711Z"
   },
   {
    "duration": 96,
    "start_time": "2024-07-05T12:26:33.856Z"
   },
   {
    "duration": 9,
    "start_time": "2024-07-05T12:26:33.954Z"
   },
   {
    "duration": 8,
    "start_time": "2024-07-05T12:26:33.965Z"
   },
   {
    "duration": 20,
    "start_time": "2024-07-05T12:26:33.975Z"
   },
   {
    "duration": 350,
    "start_time": "2024-07-05T12:26:33.997Z"
   },
   {
    "duration": 830,
    "start_time": "2024-07-05T12:26:34.349Z"
   },
   {
    "duration": 20,
    "start_time": "2024-07-05T12:26:35.181Z"
   },
   {
    "duration": 62,
    "start_time": "2024-07-05T12:26:35.202Z"
   },
   {
    "duration": 1497,
    "start_time": "2024-07-05T12:26:35.267Z"
   },
   {
    "duration": 55,
    "start_time": "2024-07-05T12:26:36.766Z"
   },
   {
    "duration": 138,
    "start_time": "2024-07-05T12:26:36.822Z"
   },
   {
    "duration": 3,
    "start_time": "2024-07-05T12:28:32.928Z"
   },
   {
    "duration": 2753,
    "start_time": "2024-07-05T12:28:32.933Z"
   },
   {
    "duration": 5,
    "start_time": "2024-07-05T12:28:35.689Z"
   },
   {
    "duration": 1312,
    "start_time": "2024-07-05T12:28:35.697Z"
   },
   {
    "duration": 147,
    "start_time": "2024-07-05T12:28:37.010Z"
   },
   {
    "duration": 86,
    "start_time": "2024-07-05T12:28:37.158Z"
   },
   {
    "duration": 7,
    "start_time": "2024-07-05T12:28:37.245Z"
   },
   {
    "duration": 14,
    "start_time": "2024-07-05T12:28:37.254Z"
   },
   {
    "duration": 10,
    "start_time": "2024-07-05T12:28:37.270Z"
   },
   {
    "duration": 356,
    "start_time": "2024-07-05T12:28:37.282Z"
   },
   {
    "duration": 851,
    "start_time": "2024-07-05T12:28:37.639Z"
   },
   {
    "duration": 35,
    "start_time": "2024-07-05T12:28:38.493Z"
   },
   {
    "duration": 22,
    "start_time": "2024-07-05T12:28:38.529Z"
   },
   {
    "duration": 1471,
    "start_time": "2024-07-05T12:28:38.553Z"
   },
   {
    "duration": 51,
    "start_time": "2024-07-05T12:28:40.026Z"
   },
   {
    "duration": 184,
    "start_time": "2024-07-05T12:28:40.078Z"
   },
   {
    "duration": 78,
    "start_time": "2024-07-05T12:40:11.617Z"
   },
   {
    "duration": 4,
    "start_time": "2024-07-05T12:40:50.805Z"
   },
   {
    "duration": 2838,
    "start_time": "2024-07-05T12:40:50.811Z"
   },
   {
    "duration": 3,
    "start_time": "2024-07-05T12:40:53.650Z"
   },
   {
    "duration": 1411,
    "start_time": "2024-07-05T12:40:53.656Z"
   },
   {
    "duration": 168,
    "start_time": "2024-07-05T12:40:55.069Z"
   },
   {
    "duration": 104,
    "start_time": "2024-07-05T12:40:55.239Z"
   },
   {
    "duration": 9,
    "start_time": "2024-07-05T12:40:55.345Z"
   },
   {
    "duration": 8,
    "start_time": "2024-07-05T12:40:55.356Z"
   },
   {
    "duration": 14,
    "start_time": "2024-07-05T12:40:55.366Z"
   },
   {
    "duration": 351,
    "start_time": "2024-07-05T12:40:55.382Z"
   },
   {
    "duration": 868,
    "start_time": "2024-07-05T12:40:55.735Z"
   },
   {
    "duration": 39,
    "start_time": "2024-07-05T12:40:56.604Z"
   },
   {
    "duration": 25,
    "start_time": "2024-07-05T12:40:56.645Z"
   },
   {
    "duration": 1603,
    "start_time": "2024-07-05T12:40:56.672Z"
   },
   {
    "duration": 52,
    "start_time": "2024-07-05T12:40:58.278Z"
   },
   {
    "duration": 62,
    "start_time": "2024-07-05T12:40:58.332Z"
   },
   {
    "duration": 161,
    "start_time": "2024-07-05T12:42:59.104Z"
   },
   {
    "duration": 4,
    "start_time": "2024-07-05T12:43:10.879Z"
   },
   {
    "duration": 3017,
    "start_time": "2024-07-05T12:43:10.886Z"
   },
   {
    "duration": 3,
    "start_time": "2024-07-05T12:43:13.905Z"
   },
   {
    "duration": 1401,
    "start_time": "2024-07-05T12:43:13.909Z"
   },
   {
    "duration": 162,
    "start_time": "2024-07-05T12:43:15.312Z"
   },
   {
    "duration": 78,
    "start_time": "2024-07-05T12:43:15.476Z"
   },
   {
    "duration": 8,
    "start_time": "2024-07-05T12:43:15.555Z"
   },
   {
    "duration": 16,
    "start_time": "2024-07-05T12:43:15.564Z"
   },
   {
    "duration": 52,
    "start_time": "2024-07-05T12:43:15.581Z"
   },
   {
    "duration": 395,
    "start_time": "2024-07-05T12:43:15.635Z"
   },
   {
    "duration": 896,
    "start_time": "2024-07-05T12:43:16.033Z"
   },
   {
    "duration": 32,
    "start_time": "2024-07-05T12:43:16.931Z"
   },
   {
    "duration": 19,
    "start_time": "2024-07-05T12:43:16.964Z"
   },
   {
    "duration": 1564,
    "start_time": "2024-07-05T12:43:16.984Z"
   },
   {
    "duration": 50,
    "start_time": "2024-07-05T12:43:18.550Z"
   },
   {
    "duration": 170,
    "start_time": "2024-07-05T12:43:18.602Z"
   },
   {
    "duration": 45,
    "start_time": "2024-07-05T12:44:53.986Z"
   },
   {
    "duration": 3,
    "start_time": "2024-07-05T12:45:03.067Z"
   },
   {
    "duration": 2801,
    "start_time": "2024-07-05T12:45:03.072Z"
   },
   {
    "duration": 2,
    "start_time": "2024-07-05T12:45:05.875Z"
   },
   {
    "duration": 1346,
    "start_time": "2024-07-05T12:45:05.879Z"
   },
   {
    "duration": 143,
    "start_time": "2024-07-05T12:45:07.227Z"
   },
   {
    "duration": 78,
    "start_time": "2024-07-05T12:45:07.372Z"
   },
   {
    "duration": 6,
    "start_time": "2024-07-05T12:45:07.451Z"
   },
   {
    "duration": 28,
    "start_time": "2024-07-05T12:45:07.458Z"
   },
   {
    "duration": 15,
    "start_time": "2024-07-05T12:45:07.488Z"
   },
   {
    "duration": 330,
    "start_time": "2024-07-05T12:45:07.504Z"
   },
   {
    "duration": 886,
    "start_time": "2024-07-05T12:45:07.835Z"
   },
   {
    "duration": 28,
    "start_time": "2024-07-05T12:45:08.722Z"
   },
   {
    "duration": 19,
    "start_time": "2024-07-05T12:45:08.752Z"
   },
   {
    "duration": 1496,
    "start_time": "2024-07-05T12:45:08.772Z"
   },
   {
    "duration": 57,
    "start_time": "2024-07-05T12:45:10.269Z"
   },
   {
    "duration": 160,
    "start_time": "2024-07-05T12:45:10.328Z"
   },
   {
    "duration": 52,
    "start_time": "2024-07-05T12:52:00.365Z"
   },
   {
    "duration": 48,
    "start_time": "2024-07-05T12:53:32.272Z"
   },
   {
    "duration": 57,
    "start_time": "2024-07-05T12:53:46.376Z"
   },
   {
    "duration": 62,
    "start_time": "2024-07-05T12:54:20.346Z"
   },
   {
    "duration": 4,
    "start_time": "2024-07-05T12:56:12.157Z"
   },
   {
    "duration": 4,
    "start_time": "2024-07-05T12:56:22.261Z"
   },
   {
    "duration": 2795,
    "start_time": "2024-07-05T12:56:22.266Z"
   },
   {
    "duration": 3,
    "start_time": "2024-07-05T12:56:25.063Z"
   },
   {
    "duration": 1384,
    "start_time": "2024-07-05T12:56:25.068Z"
   },
   {
    "duration": 145,
    "start_time": "2024-07-05T12:56:26.453Z"
   },
   {
    "duration": 47,
    "start_time": "2024-07-05T12:56:26.599Z"
   },
   {
    "duration": 6,
    "start_time": "2024-07-05T12:56:26.647Z"
   },
   {
    "duration": 18,
    "start_time": "2024-07-05T12:56:26.654Z"
   },
   {
    "duration": 6,
    "start_time": "2024-07-05T12:56:26.674Z"
   },
   {
    "duration": 355,
    "start_time": "2024-07-05T12:56:26.682Z"
   },
   {
    "duration": 829,
    "start_time": "2024-07-05T12:56:27.039Z"
   },
   {
    "duration": 19,
    "start_time": "2024-07-05T12:56:27.869Z"
   },
   {
    "duration": 32,
    "start_time": "2024-07-05T12:56:27.889Z"
   },
   {
    "duration": 1485,
    "start_time": "2024-07-05T12:56:27.922Z"
   },
   {
    "duration": 5,
    "start_time": "2024-07-05T12:56:29.409Z"
   },
   {
    "duration": 0,
    "start_time": "2024-07-05T12:56:29.415Z"
   },
   {
    "duration": 53,
    "start_time": "2024-07-05T12:56:58.622Z"
   },
   {
    "duration": 163,
    "start_time": "2024-07-05T12:57:05.607Z"
   },
   {
    "duration": 79,
    "start_time": "2024-07-05T13:41:04.024Z"
   },
   {
    "duration": 4,
    "start_time": "2024-07-05T13:41:24.482Z"
   },
   {
    "duration": 2818,
    "start_time": "2024-07-05T13:41:24.489Z"
   },
   {
    "duration": 3,
    "start_time": "2024-07-05T13:41:27.309Z"
   },
   {
    "duration": 1304,
    "start_time": "2024-07-05T13:41:27.313Z"
   },
   {
    "duration": 170,
    "start_time": "2024-07-05T13:41:28.622Z"
   },
   {
    "duration": 73,
    "start_time": "2024-07-05T13:41:28.794Z"
   },
   {
    "duration": 8,
    "start_time": "2024-07-05T13:41:28.869Z"
   },
   {
    "duration": 45,
    "start_time": "2024-07-05T13:41:28.879Z"
   },
   {
    "duration": 23,
    "start_time": "2024-07-05T13:41:28.926Z"
   },
   {
    "duration": 317,
    "start_time": "2024-07-05T13:41:28.951Z"
   },
   {
    "duration": 892,
    "start_time": "2024-07-05T13:41:29.269Z"
   },
   {
    "duration": 21,
    "start_time": "2024-07-05T13:41:30.163Z"
   },
   {
    "duration": 77,
    "start_time": "2024-07-05T13:41:30.187Z"
   },
   {
    "duration": 1614,
    "start_time": "2024-07-05T13:41:30.266Z"
   },
   {
    "duration": 71,
    "start_time": "2024-07-05T13:41:31.882Z"
   },
   {
    "duration": 0,
    "start_time": "2024-07-05T13:41:31.955Z"
   },
   {
    "duration": 68,
    "start_time": "2024-07-05T13:41:59.841Z"
   },
   {
    "duration": 59,
    "start_time": "2024-07-05T13:42:07.462Z"
   },
   {
    "duration": 132,
    "start_time": "2024-07-05T13:42:36.637Z"
   },
   {
    "duration": 63,
    "start_time": "2024-07-05T13:43:21.150Z"
   },
   {
    "duration": 56,
    "start_time": "2024-07-05T13:44:08.828Z"
   },
   {
    "duration": 41,
    "start_time": "2024-07-05T13:44:19.295Z"
   },
   {
    "duration": 11,
    "start_time": "2024-07-05T13:44:32.186Z"
   },
   {
    "duration": 4,
    "start_time": "2024-07-05T13:45:21.215Z"
   },
   {
    "duration": 2849,
    "start_time": "2024-07-05T13:45:21.221Z"
   },
   {
    "duration": 3,
    "start_time": "2024-07-05T13:45:24.071Z"
   },
   {
    "duration": 1328,
    "start_time": "2024-07-05T13:45:24.076Z"
   },
   {
    "duration": 145,
    "start_time": "2024-07-05T13:45:25.406Z"
   },
   {
    "duration": 92,
    "start_time": "2024-07-05T13:45:25.552Z"
   },
   {
    "duration": 7,
    "start_time": "2024-07-05T13:45:25.646Z"
   },
   {
    "duration": 28,
    "start_time": "2024-07-05T13:45:25.655Z"
   },
   {
    "duration": 12,
    "start_time": "2024-07-05T13:45:25.685Z"
   },
   {
    "duration": 329,
    "start_time": "2024-07-05T13:45:25.698Z"
   },
   {
    "duration": 992,
    "start_time": "2024-07-05T13:45:26.028Z"
   },
   {
    "duration": 22,
    "start_time": "2024-07-05T13:45:27.021Z"
   },
   {
    "duration": 23,
    "start_time": "2024-07-05T13:45:27.044Z"
   },
   {
    "duration": 1519,
    "start_time": "2024-07-05T13:45:27.069Z"
   },
   {
    "duration": 64,
    "start_time": "2024-07-05T13:45:28.589Z"
   },
   {
    "duration": 159,
    "start_time": "2024-07-05T13:45:28.655Z"
   },
   {
    "duration": 48,
    "start_time": "2024-07-05T14:24:45.492Z"
   },
   {
    "duration": 46,
    "start_time": "2024-07-05T14:27:52.451Z"
   },
   {
    "duration": 12,
    "start_time": "2024-07-05T14:31:43.256Z"
   },
   {
    "duration": 41,
    "start_time": "2024-07-05T14:32:13.653Z"
   },
   {
    "duration": 27,
    "start_time": "2024-07-05T14:38:06.213Z"
   },
   {
    "duration": 15,
    "start_time": "2024-07-05T14:43:26.640Z"
   },
   {
    "duration": 3,
    "start_time": "2024-07-05T14:44:05.863Z"
   },
   {
    "duration": 2902,
    "start_time": "2024-07-05T14:44:05.868Z"
   },
   {
    "duration": 3,
    "start_time": "2024-07-05T14:44:08.772Z"
   },
   {
    "duration": 1345,
    "start_time": "2024-07-05T14:44:08.777Z"
   },
   {
    "duration": 147,
    "start_time": "2024-07-05T14:44:10.124Z"
   },
   {
    "duration": 84,
    "start_time": "2024-07-05T14:44:10.272Z"
   },
   {
    "duration": 7,
    "start_time": "2024-07-05T14:44:10.358Z"
   },
   {
    "duration": 7,
    "start_time": "2024-07-05T14:44:10.367Z"
   },
   {
    "duration": 45,
    "start_time": "2024-07-05T14:44:10.377Z"
   },
   {
    "duration": 330,
    "start_time": "2024-07-05T14:44:10.424Z"
   },
   {
    "duration": 865,
    "start_time": "2024-07-05T14:44:10.756Z"
   },
   {
    "duration": 28,
    "start_time": "2024-07-05T14:44:11.623Z"
   },
   {
    "duration": 24,
    "start_time": "2024-07-05T14:44:11.653Z"
   },
   {
    "duration": 1594,
    "start_time": "2024-07-05T14:44:11.678Z"
   },
   {
    "duration": 48,
    "start_time": "2024-07-05T14:44:13.273Z"
   },
   {
    "duration": 131,
    "start_time": "2024-07-05T14:44:13.322Z"
   },
   {
    "duration": 10,
    "start_time": "2024-07-05T14:51:39.898Z"
   },
   {
    "duration": 27,
    "start_time": "2024-07-05T14:52:05.432Z"
   },
   {
    "duration": 13,
    "start_time": "2024-07-05T14:54:59.787Z"
   },
   {
    "duration": 34,
    "start_time": "2024-07-05T14:56:13.314Z"
   },
   {
    "duration": 27,
    "start_time": "2024-07-05T14:56:30.904Z"
   },
   {
    "duration": 3,
    "start_time": "2024-07-05T14:56:38.754Z"
   },
   {
    "duration": 2713,
    "start_time": "2024-07-05T14:56:38.759Z"
   },
   {
    "duration": 2,
    "start_time": "2024-07-05T14:56:41.474Z"
   },
   {
    "duration": 1399,
    "start_time": "2024-07-05T14:56:41.478Z"
   },
   {
    "duration": 144,
    "start_time": "2024-07-05T14:56:42.879Z"
   },
   {
    "duration": 60,
    "start_time": "2024-07-05T14:56:43.025Z"
   },
   {
    "duration": 39,
    "start_time": "2024-07-05T14:56:43.086Z"
   },
   {
    "duration": 6,
    "start_time": "2024-07-05T14:56:43.127Z"
   },
   {
    "duration": 8,
    "start_time": "2024-07-05T14:56:43.135Z"
   },
   {
    "duration": 336,
    "start_time": "2024-07-05T14:56:43.145Z"
   },
   {
    "duration": 884,
    "start_time": "2024-07-05T14:56:43.483Z"
   },
   {
    "duration": 21,
    "start_time": "2024-07-05T14:56:44.369Z"
   },
   {
    "duration": 36,
    "start_time": "2024-07-05T14:56:44.393Z"
   },
   {
    "duration": 1446,
    "start_time": "2024-07-05T14:56:44.430Z"
   },
   {
    "duration": 64,
    "start_time": "2024-07-05T14:56:45.878Z"
   },
   {
    "duration": 140,
    "start_time": "2024-07-05T14:56:45.944Z"
   },
   {
    "duration": 55,
    "start_time": "2024-07-05T14:57:16.369Z"
   },
   {
    "duration": 65,
    "start_time": "2024-07-05T14:57:59.669Z"
   },
   {
    "duration": 72,
    "start_time": "2024-07-05T14:58:10.980Z"
   },
   {
    "duration": 58,
    "start_time": "2024-07-05T14:58:19.657Z"
   },
   {
    "duration": 3,
    "start_time": "2024-07-05T14:58:25.534Z"
   },
   {
    "duration": 2767,
    "start_time": "2024-07-05T14:58:25.539Z"
   },
   {
    "duration": 2,
    "start_time": "2024-07-05T14:58:28.308Z"
   },
   {
    "duration": 1270,
    "start_time": "2024-07-05T14:58:28.312Z"
   },
   {
    "duration": 151,
    "start_time": "2024-07-05T14:58:29.584Z"
   },
   {
    "duration": 90,
    "start_time": "2024-07-05T14:58:29.737Z"
   },
   {
    "duration": 7,
    "start_time": "2024-07-05T14:58:29.828Z"
   },
   {
    "duration": 24,
    "start_time": "2024-07-05T14:58:29.837Z"
   },
   {
    "duration": 29,
    "start_time": "2024-07-05T14:58:29.863Z"
   },
   {
    "duration": 345,
    "start_time": "2024-07-05T14:58:29.893Z"
   },
   {
    "duration": 870,
    "start_time": "2024-07-05T14:58:30.240Z"
   },
   {
    "duration": 25,
    "start_time": "2024-07-05T14:58:31.112Z"
   },
   {
    "duration": 71,
    "start_time": "2024-07-05T14:58:31.139Z"
   },
   {
    "duration": 1615,
    "start_time": "2024-07-05T14:58:31.212Z"
   },
   {
    "duration": 47,
    "start_time": "2024-07-05T14:58:32.829Z"
   },
   {
    "duration": 62,
    "start_time": "2024-07-05T14:58:32.878Z"
   },
   {
    "duration": 150,
    "start_time": "2024-07-05T15:01:36.806Z"
   },
   {
    "duration": 3,
    "start_time": "2024-07-05T15:01:50.959Z"
   },
   {
    "duration": 2842,
    "start_time": "2024-07-05T15:01:50.964Z"
   },
   {
    "duration": 2,
    "start_time": "2024-07-05T15:01:53.808Z"
   },
   {
    "duration": 1371,
    "start_time": "2024-07-05T15:01:53.812Z"
   },
   {
    "duration": 141,
    "start_time": "2024-07-05T15:01:55.184Z"
   },
   {
    "duration": 59,
    "start_time": "2024-07-05T15:01:55.326Z"
   },
   {
    "duration": 7,
    "start_time": "2024-07-05T15:01:55.420Z"
   },
   {
    "duration": 22,
    "start_time": "2024-07-05T15:01:55.428Z"
   },
   {
    "duration": 11,
    "start_time": "2024-07-05T15:01:55.453Z"
   },
   {
    "duration": 356,
    "start_time": "2024-07-05T15:01:55.466Z"
   },
   {
    "duration": 855,
    "start_time": "2024-07-05T15:01:55.824Z"
   },
   {
    "duration": 21,
    "start_time": "2024-07-05T15:01:56.681Z"
   },
   {
    "duration": 33,
    "start_time": "2024-07-05T15:01:56.703Z"
   },
   {
    "duration": 1491,
    "start_time": "2024-07-05T15:01:56.737Z"
   },
   {
    "duration": 47,
    "start_time": "2024-07-05T15:01:58.230Z"
   },
   {
    "duration": 163,
    "start_time": "2024-07-05T15:01:58.279Z"
   },
   {
    "duration": 25,
    "start_time": "2024-07-05T15:05:14.241Z"
   },
   {
    "duration": 4,
    "start_time": "2024-07-05T15:06:12.050Z"
   },
   {
    "duration": 2864,
    "start_time": "2024-07-05T15:06:12.056Z"
   },
   {
    "duration": 2,
    "start_time": "2024-07-05T15:06:14.922Z"
   },
   {
    "duration": 1433,
    "start_time": "2024-07-05T15:06:14.926Z"
   },
   {
    "duration": 172,
    "start_time": "2024-07-05T15:06:16.365Z"
   },
   {
    "duration": 116,
    "start_time": "2024-07-05T15:06:16.539Z"
   },
   {
    "duration": 9,
    "start_time": "2024-07-05T15:06:16.657Z"
   },
   {
    "duration": 7,
    "start_time": "2024-07-05T15:06:16.668Z"
   },
   {
    "duration": 12,
    "start_time": "2024-07-05T15:06:16.677Z"
   },
   {
    "duration": 418,
    "start_time": "2024-07-05T15:06:16.691Z"
   },
   {
    "duration": 844,
    "start_time": "2024-07-05T15:06:17.111Z"
   },
   {
    "duration": 27,
    "start_time": "2024-07-05T15:06:17.957Z"
   },
   {
    "duration": 47,
    "start_time": "2024-07-05T15:06:17.985Z"
   },
   {
    "duration": 1529,
    "start_time": "2024-07-05T15:06:18.035Z"
   },
   {
    "duration": 64,
    "start_time": "2024-07-05T15:06:19.566Z"
   },
   {
    "duration": 196,
    "start_time": "2024-07-05T15:06:19.632Z"
   },
   {
    "duration": 4,
    "start_time": "2024-07-05T15:07:46.647Z"
   },
   {
    "duration": 2909,
    "start_time": "2024-07-05T15:07:46.653Z"
   },
   {
    "duration": 3,
    "start_time": "2024-07-05T15:07:49.564Z"
   },
   {
    "duration": 1338,
    "start_time": "2024-07-05T15:07:49.569Z"
   },
   {
    "duration": 153,
    "start_time": "2024-07-05T15:07:50.910Z"
   },
   {
    "duration": 101,
    "start_time": "2024-07-05T15:07:51.065Z"
   },
   {
    "duration": 8,
    "start_time": "2024-07-05T15:07:51.168Z"
   },
   {
    "duration": 9,
    "start_time": "2024-07-05T15:07:51.178Z"
   },
   {
    "duration": 31,
    "start_time": "2024-07-05T15:07:51.189Z"
   },
   {
    "duration": 358,
    "start_time": "2024-07-05T15:07:51.222Z"
   },
   {
    "duration": 1004,
    "start_time": "2024-07-05T15:07:51.583Z"
   },
   {
    "duration": 34,
    "start_time": "2024-07-05T15:07:52.589Z"
   },
   {
    "duration": 23,
    "start_time": "2024-07-05T15:07:52.625Z"
   },
   {
    "duration": 1581,
    "start_time": "2024-07-05T15:07:52.650Z"
   },
   {
    "duration": 65,
    "start_time": "2024-07-05T15:07:54.233Z"
   },
   {
    "duration": 1586,
    "start_time": "2024-07-05T15:07:54.300Z"
   },
   {
    "duration": 5,
    "start_time": "2024-07-05T15:09:58.644Z"
   },
   {
    "duration": 3006,
    "start_time": "2024-07-05T15:09:58.651Z"
   },
   {
    "duration": 3,
    "start_time": "2024-07-05T15:10:01.660Z"
   },
   {
    "duration": 1499,
    "start_time": "2024-07-05T15:10:01.665Z"
   },
   {
    "duration": 170,
    "start_time": "2024-07-05T15:10:03.166Z"
   },
   {
    "duration": 107,
    "start_time": "2024-07-05T15:10:03.338Z"
   },
   {
    "duration": 9,
    "start_time": "2024-07-05T15:10:03.447Z"
   },
   {
    "duration": 11,
    "start_time": "2024-07-05T15:10:03.458Z"
   },
   {
    "duration": 8,
    "start_time": "2024-07-05T15:10:03.474Z"
   },
   {
    "duration": 550,
    "start_time": "2024-07-05T15:10:03.484Z"
   },
   {
    "duration": 903,
    "start_time": "2024-07-05T15:10:04.036Z"
   },
   {
    "duration": 25,
    "start_time": "2024-07-05T15:10:04.941Z"
   },
   {
    "duration": 19,
    "start_time": "2024-07-05T15:10:04.968Z"
   },
   {
    "duration": 1755,
    "start_time": "2024-07-05T15:10:04.989Z"
   },
   {
    "duration": 70,
    "start_time": "2024-07-05T15:10:06.746Z"
   },
   {
    "duration": 1846,
    "start_time": "2024-07-05T15:10:06.818Z"
   },
   {
    "duration": 1512,
    "start_time": "2024-07-05T15:11:09.813Z"
   },
   {
    "duration": 51,
    "start_time": "2024-07-05T15:22:46.198Z"
   },
   {
    "duration": 70,
    "start_time": "2024-07-05T15:30:03.910Z"
   },
   {
    "duration": 1038,
    "start_time": "2024-07-05T15:31:16.922Z"
   },
   {
    "duration": 9132,
    "start_time": "2024-07-05T15:34:53.227Z"
   },
   {
    "duration": 4,
    "start_time": "2024-07-05T15:35:07.643Z"
   },
   {
    "duration": 2922,
    "start_time": "2024-07-05T15:35:07.649Z"
   },
   {
    "duration": 3,
    "start_time": "2024-07-05T15:35:10.573Z"
   },
   {
    "duration": 1422,
    "start_time": "2024-07-05T15:35:10.578Z"
   },
   {
    "duration": 184,
    "start_time": "2024-07-05T15:35:12.002Z"
   },
   {
    "duration": 91,
    "start_time": "2024-07-05T15:35:12.188Z"
   },
   {
    "duration": 47,
    "start_time": "2024-07-05T15:35:12.281Z"
   },
   {
    "duration": 12,
    "start_time": "2024-07-05T15:35:12.331Z"
   },
   {
    "duration": 14,
    "start_time": "2024-07-05T15:35:12.345Z"
   },
   {
    "duration": 377,
    "start_time": "2024-07-05T15:35:12.360Z"
   },
   {
    "duration": 1044,
    "start_time": "2024-07-05T15:35:12.739Z"
   },
   {
    "duration": 21,
    "start_time": "2024-07-05T15:35:13.785Z"
   },
   {
    "duration": 19,
    "start_time": "2024-07-05T15:35:13.822Z"
   },
   {
    "duration": 1560,
    "start_time": "2024-07-05T15:35:13.843Z"
   },
   {
    "duration": 81,
    "start_time": "2024-07-05T15:35:15.405Z"
   },
   {
    "duration": 8424,
    "start_time": "2024-07-05T15:35:15.488Z"
   },
   {
    "duration": 723,
    "start_time": "2024-07-05T15:35:23.914Z"
   },
   {
    "duration": 0,
    "start_time": "2024-07-05T15:35:24.639Z"
   },
   {
    "duration": 1938,
    "start_time": "2024-07-05T15:36:01.901Z"
   },
   {
    "duration": 1822,
    "start_time": "2024-07-05T15:37:40.088Z"
   },
   {
    "duration": 39,
    "start_time": "2024-07-05T15:48:01.703Z"
   },
   {
    "duration": 24,
    "start_time": "2024-07-05T15:49:01.693Z"
   },
   {
    "duration": 3,
    "start_time": "2024-07-05T15:50:28.765Z"
   },
   {
    "duration": 2929,
    "start_time": "2024-07-05T15:50:28.770Z"
   },
   {
    "duration": 3,
    "start_time": "2024-07-05T15:50:31.701Z"
   },
   {
    "duration": 1499,
    "start_time": "2024-07-05T15:50:31.706Z"
   },
   {
    "duration": 155,
    "start_time": "2024-07-05T15:50:33.206Z"
   },
   {
    "duration": 91,
    "start_time": "2024-07-05T15:50:33.362Z"
   },
   {
    "duration": 7,
    "start_time": "2024-07-05T15:50:33.454Z"
   },
   {
    "duration": 11,
    "start_time": "2024-07-05T15:50:33.462Z"
   },
   {
    "duration": 8,
    "start_time": "2024-07-05T15:50:33.475Z"
   },
   {
    "duration": 367,
    "start_time": "2024-07-05T15:50:33.485Z"
   },
   {
    "duration": 918,
    "start_time": "2024-07-05T15:50:33.854Z"
   },
   {
    "duration": 26,
    "start_time": "2024-07-05T15:50:34.774Z"
   },
   {
    "duration": 38,
    "start_time": "2024-07-05T15:50:34.802Z"
   },
   {
    "duration": 1578,
    "start_time": "2024-07-05T15:50:34.842Z"
   },
   {
    "duration": 59,
    "start_time": "2024-07-05T15:50:36.422Z"
   },
   {
    "duration": 6664,
    "start_time": "2024-07-05T15:50:36.483Z"
   },
   {
    "duration": 2974,
    "start_time": "2024-07-05T15:50:43.149Z"
   },
   {
    "duration": 33,
    "start_time": "2024-07-05T15:50:46.125Z"
   },
   {
    "duration": 3,
    "start_time": "2024-07-05T19:59:03.609Z"
   },
   {
    "duration": 7461,
    "start_time": "2024-07-05T19:59:03.615Z"
   },
   {
    "duration": 3,
    "start_time": "2024-07-05T19:59:11.078Z"
   },
   {
    "duration": 53,
    "start_time": "2024-07-05T19:59:11.082Z"
   },
   {
    "duration": 0,
    "start_time": "2024-07-05T19:59:11.137Z"
   },
   {
    "duration": 0,
    "start_time": "2024-07-05T19:59:11.139Z"
   },
   {
    "duration": 0,
    "start_time": "2024-07-05T19:59:11.140Z"
   },
   {
    "duration": 0,
    "start_time": "2024-07-05T19:59:11.141Z"
   },
   {
    "duration": 0,
    "start_time": "2024-07-05T19:59:11.142Z"
   },
   {
    "duration": 0,
    "start_time": "2024-07-05T19:59:11.144Z"
   },
   {
    "duration": 0,
    "start_time": "2024-07-05T19:59:11.145Z"
   },
   {
    "duration": 0,
    "start_time": "2024-07-05T19:59:11.147Z"
   },
   {
    "duration": 0,
    "start_time": "2024-07-05T19:59:11.148Z"
   },
   {
    "duration": 0,
    "start_time": "2024-07-05T19:59:11.149Z"
   },
   {
    "duration": 0,
    "start_time": "2024-07-05T19:59:11.152Z"
   },
   {
    "duration": 0,
    "start_time": "2024-07-05T19:59:11.153Z"
   },
   {
    "duration": 0,
    "start_time": "2024-07-05T19:59:11.154Z"
   },
   {
    "duration": 0,
    "start_time": "2024-07-05T19:59:11.156Z"
   },
   {
    "duration": 0,
    "start_time": "2024-07-05T19:59:11.158Z"
   },
   {
    "duration": 3,
    "start_time": "2024-07-05T19:59:27.915Z"
   },
   {
    "duration": 2575,
    "start_time": "2024-07-05T19:59:27.933Z"
   },
   {
    "duration": 3,
    "start_time": "2024-07-05T19:59:30.511Z"
   },
   {
    "duration": 165,
    "start_time": "2024-07-05T19:59:30.516Z"
   },
   {
    "duration": 0,
    "start_time": "2024-07-05T19:59:30.683Z"
   },
   {
    "duration": 0,
    "start_time": "2024-07-05T19:59:30.685Z"
   },
   {
    "duration": 0,
    "start_time": "2024-07-05T19:59:30.686Z"
   },
   {
    "duration": 0,
    "start_time": "2024-07-05T19:59:30.687Z"
   },
   {
    "duration": 0,
    "start_time": "2024-07-05T19:59:30.688Z"
   },
   {
    "duration": 0,
    "start_time": "2024-07-05T19:59:30.689Z"
   },
   {
    "duration": 0,
    "start_time": "2024-07-05T19:59:30.690Z"
   },
   {
    "duration": 0,
    "start_time": "2024-07-05T19:59:30.691Z"
   },
   {
    "duration": 0,
    "start_time": "2024-07-05T19:59:30.693Z"
   },
   {
    "duration": 0,
    "start_time": "2024-07-05T19:59:30.694Z"
   },
   {
    "duration": 0,
    "start_time": "2024-07-05T19:59:30.695Z"
   },
   {
    "duration": 0,
    "start_time": "2024-07-05T19:59:30.695Z"
   },
   {
    "duration": 0,
    "start_time": "2024-07-05T19:59:30.697Z"
   },
   {
    "duration": 0,
    "start_time": "2024-07-05T19:59:30.698Z"
   },
   {
    "duration": 0,
    "start_time": "2024-07-05T19:59:30.698Z"
   },
   {
    "duration": 2,
    "start_time": "2024-07-05T19:59:46.353Z"
   },
   {
    "duration": 2610,
    "start_time": "2024-07-05T19:59:48.163Z"
   },
   {
    "duration": 3,
    "start_time": "2024-07-05T19:59:50.775Z"
   },
   {
    "duration": 4391,
    "start_time": "2024-07-05T20:02:04.273Z"
   },
   {
    "duration": 4,
    "start_time": "2024-07-05T20:02:23.050Z"
   },
   {
    "duration": 2785,
    "start_time": "2024-07-05T20:02:23.056Z"
   },
   {
    "duration": 2785,
    "start_time": "2024-07-05T20:02:25.843Z"
   },
   {
    "duration": 3,
    "start_time": "2024-07-05T20:02:28.629Z"
   },
   {
    "duration": 2141,
    "start_time": "2024-07-05T20:02:28.634Z"
   },
   {
    "duration": 338,
    "start_time": "2024-07-05T20:02:30.776Z"
   },
   {
    "duration": 81,
    "start_time": "2024-07-05T20:02:31.116Z"
   },
   {
    "duration": 48,
    "start_time": "2024-07-05T20:02:31.199Z"
   },
   {
    "duration": 67,
    "start_time": "2024-07-05T20:02:31.249Z"
   },
   {
    "duration": 176,
    "start_time": "2024-07-05T20:02:31.318Z"
   },
   {
    "duration": 530,
    "start_time": "2024-07-05T20:02:31.495Z"
   },
   {
    "duration": 1096,
    "start_time": "2024-07-05T20:02:32.027Z"
   },
   {
    "duration": 32,
    "start_time": "2024-07-05T20:02:33.125Z"
   },
   {
    "duration": 27,
    "start_time": "2024-07-05T20:02:33.160Z"
   },
   {
    "duration": 1719,
    "start_time": "2024-07-05T20:02:33.189Z"
   },
   {
    "duration": 65,
    "start_time": "2024-07-05T20:02:34.911Z"
   },
   {
    "duration": 7666,
    "start_time": "2024-07-05T20:02:34.978Z"
   },
   {
    "duration": 3086,
    "start_time": "2024-07-05T20:02:42.647Z"
   },
   {
    "duration": 31,
    "start_time": "2024-07-05T20:02:45.735Z"
   },
   {
    "duration": 203,
    "start_time": "2024-07-05T20:02:45.767Z"
   },
   {
    "duration": 14,
    "start_time": "2024-07-05T20:04:15.217Z"
   },
   {
    "duration": 26,
    "start_time": "2024-07-05T20:05:09.599Z"
   },
   {
    "duration": 196496,
    "start_time": "2024-07-05T20:07:12.003Z"
   },
   {
    "duration": 2198311,
    "start_time": "2024-07-05T20:15:29.280Z"
   },
   {
    "duration": 33,
    "start_time": "2024-07-05T21:00:24.793Z"
   },
   {
    "duration": 32,
    "start_time": "2024-07-05T21:02:09.205Z"
   },
   {
    "duration": 25,
    "start_time": "2024-07-05T21:03:17.007Z"
   },
   {
    "duration": 3231,
    "start_time": "2024-07-05T21:04:30.696Z"
   },
   {
    "duration": 13,
    "start_time": "2024-07-05T21:05:39.685Z"
   },
   {
    "duration": 40,
    "start_time": "2024-07-05T21:06:34.037Z"
   },
   {
    "duration": 73,
    "start_time": "2024-07-05T21:08:13.708Z"
   },
   {
    "duration": 45,
    "start_time": "2024-07-05T21:09:23.590Z"
   },
   {
    "duration": 32,
    "start_time": "2024-07-05T21:09:41.943Z"
   },
   {
    "duration": 41,
    "start_time": "2024-07-05T21:10:04.195Z"
   },
   {
    "duration": 17,
    "start_time": "2024-07-05T21:18:36.511Z"
   },
   {
    "duration": 30,
    "start_time": "2024-07-05T21:19:34.152Z"
   },
   {
    "duration": 3,
    "start_time": "2024-07-05T21:21:30.361Z"
   },
   {
    "duration": 2663,
    "start_time": "2024-07-05T21:21:30.366Z"
   },
   {
    "duration": 2642,
    "start_time": "2024-07-05T21:21:33.031Z"
   },
   {
    "duration": 2,
    "start_time": "2024-07-05T21:21:35.675Z"
   },
   {
    "duration": 1787,
    "start_time": "2024-07-05T21:21:35.679Z"
   },
   {
    "duration": 145,
    "start_time": "2024-07-05T21:21:37.467Z"
   },
   {
    "duration": 65,
    "start_time": "2024-07-05T21:21:37.614Z"
   },
   {
    "duration": 7,
    "start_time": "2024-07-05T21:21:37.681Z"
   },
   {
    "duration": 31,
    "start_time": "2024-07-05T21:21:37.689Z"
   },
   {
    "duration": 29,
    "start_time": "2024-07-05T21:21:37.722Z"
   },
   {
    "duration": 409,
    "start_time": "2024-07-05T21:21:37.752Z"
   },
   {
    "duration": 986,
    "start_time": "2024-07-05T21:21:38.164Z"
   },
   {
    "duration": 20,
    "start_time": "2024-07-05T21:21:39.152Z"
   },
   {
    "duration": 19,
    "start_time": "2024-07-05T21:21:39.174Z"
   },
   {
    "duration": 1618,
    "start_time": "2024-07-05T21:21:39.195Z"
   },
   {
    "duration": 59,
    "start_time": "2024-07-05T21:21:40.814Z"
   },
   {
    "duration": 7658,
    "start_time": "2024-07-05T21:21:40.874Z"
   },
   {
    "duration": 2878,
    "start_time": "2024-07-05T21:21:48.534Z"
   },
   {
    "duration": 24,
    "start_time": "2024-07-05T21:21:51.414Z"
   },
   {
    "duration": 2126172,
    "start_time": "2024-07-05T21:21:51.446Z"
   },
   {
    "duration": 849991,
    "start_time": "2024-07-05T21:57:17.620Z"
   },
   {
    "duration": 4,
    "start_time": "2024-07-06T14:04:47.590Z"
   },
   {
    "duration": 3949,
    "start_time": "2024-07-06T14:04:47.595Z"
   },
   {
    "duration": 7049,
    "start_time": "2024-07-06T14:04:51.546Z"
   },
   {
    "duration": 2,
    "start_time": "2024-07-06T14:04:58.597Z"
   },
   {
    "duration": 1952,
    "start_time": "2024-07-06T14:04:58.601Z"
   },
   {
    "duration": 324,
    "start_time": "2024-07-06T14:05:00.555Z"
   },
   {
    "duration": 97,
    "start_time": "2024-07-06T14:05:00.881Z"
   },
   {
    "duration": 7,
    "start_time": "2024-07-06T14:05:00.979Z"
   },
   {
    "duration": 35,
    "start_time": "2024-07-06T14:05:00.987Z"
   },
   {
    "duration": 78,
    "start_time": "2024-07-06T14:05:01.024Z"
   },
   {
    "duration": 424,
    "start_time": "2024-07-06T14:05:01.103Z"
   },
   {
    "duration": 944,
    "start_time": "2024-07-06T14:05:01.528Z"
   },
   {
    "duration": 20,
    "start_time": "2024-07-06T14:05:02.474Z"
   },
   {
    "duration": 19,
    "start_time": "2024-07-06T14:05:02.497Z"
   },
   {
    "duration": 1513,
    "start_time": "2024-07-06T14:05:02.538Z"
   },
   {
    "duration": 58,
    "start_time": "2024-07-06T14:05:04.052Z"
   },
   {
    "duration": 7020,
    "start_time": "2024-07-06T14:05:04.112Z"
   },
   {
    "duration": 2716,
    "start_time": "2024-07-06T14:05:11.134Z"
   },
   {
    "duration": 24,
    "start_time": "2024-07-06T14:05:13.852Z"
   },
   {
    "duration": 2006998,
    "start_time": "2024-07-06T14:05:13.877Z"
   },
   {
    "duration": 146,
    "start_time": "2024-07-06T14:38:40.876Z"
   },
   {
    "duration": 3,
    "start_time": "2024-07-06T15:09:30.362Z"
   },
   {
    "duration": 2521,
    "start_time": "2024-07-06T15:09:30.367Z"
   },
   {
    "duration": 2391,
    "start_time": "2024-07-06T15:09:32.891Z"
   },
   {
    "duration": 2,
    "start_time": "2024-07-06T15:09:35.285Z"
   },
   {
    "duration": 1726,
    "start_time": "2024-07-06T15:09:35.288Z"
   },
   {
    "duration": 138,
    "start_time": "2024-07-06T15:09:37.015Z"
   },
   {
    "duration": 91,
    "start_time": "2024-07-06T15:09:37.154Z"
   },
   {
    "duration": 10,
    "start_time": "2024-07-06T15:09:37.247Z"
   },
   {
    "duration": 8,
    "start_time": "2024-07-06T15:09:37.260Z"
   },
   {
    "duration": 9,
    "start_time": "2024-07-06T15:09:37.270Z"
   },
   {
    "duration": 417,
    "start_time": "2024-07-06T15:09:37.280Z"
   },
   {
    "duration": 913,
    "start_time": "2024-07-06T15:09:37.699Z"
   },
   {
    "duration": 35,
    "start_time": "2024-07-06T15:09:38.614Z"
   },
   {
    "duration": 18,
    "start_time": "2024-07-06T15:09:38.650Z"
   },
   {
    "duration": 1454,
    "start_time": "2024-07-06T15:09:38.669Z"
   },
   {
    "duration": 55,
    "start_time": "2024-07-06T15:09:40.124Z"
   },
   {
    "duration": 6646,
    "start_time": "2024-07-06T15:09:40.181Z"
   },
   {
    "duration": 2804,
    "start_time": "2024-07-06T15:09:46.829Z"
   },
   {
    "duration": 22,
    "start_time": "2024-07-06T15:09:49.637Z"
   },
   {
    "duration": 3,
    "start_time": "2024-07-07T22:10:24.278Z"
   },
   {
    "duration": 4782,
    "start_time": "2024-07-07T22:10:24.283Z"
   },
   {
    "duration": 7316,
    "start_time": "2024-07-07T22:10:29.067Z"
   },
   {
    "duration": 3,
    "start_time": "2024-07-07T22:10:36.385Z"
   },
   {
    "duration": 1834,
    "start_time": "2024-07-07T22:10:36.391Z"
   },
   {
    "duration": 392,
    "start_time": "2024-07-07T22:10:38.226Z"
   },
   {
    "duration": 79,
    "start_time": "2024-07-07T22:10:38.619Z"
   },
   {
    "duration": 7,
    "start_time": "2024-07-07T22:10:38.699Z"
   },
   {
    "duration": 10,
    "start_time": "2024-07-07T22:10:38.707Z"
   },
   {
    "duration": 8,
    "start_time": "2024-07-07T22:10:38.719Z"
   },
   {
    "duration": 320,
    "start_time": "2024-07-07T22:10:38.729Z"
   },
   {
    "duration": 810,
    "start_time": "2024-07-07T22:10:39.050Z"
   },
   {
    "duration": 19,
    "start_time": "2024-07-07T22:10:39.862Z"
   },
   {
    "duration": 16,
    "start_time": "2024-07-07T22:10:39.890Z"
   },
   {
    "duration": 1410,
    "start_time": "2024-07-07T22:10:39.908Z"
   },
   {
    "duration": 51,
    "start_time": "2024-07-07T22:10:41.319Z"
   },
   {
    "duration": 6862,
    "start_time": "2024-07-07T22:10:41.371Z"
   },
   {
    "duration": 2609,
    "start_time": "2024-07-07T22:10:48.234Z"
   },
   {
    "duration": 21,
    "start_time": "2024-07-07T22:10:50.845Z"
   },
   {
    "duration": 3,
    "start_time": "2024-07-07T22:11:27.917Z"
   },
   {
    "duration": 2796,
    "start_time": "2024-07-07T22:11:27.943Z"
   },
   {
    "duration": 2733,
    "start_time": "2024-07-07T22:11:30.741Z"
   },
   {
    "duration": 3,
    "start_time": "2024-07-07T22:11:33.475Z"
   },
   {
    "duration": 1648,
    "start_time": "2024-07-07T22:11:33.479Z"
   },
   {
    "duration": 144,
    "start_time": "2024-07-07T22:11:35.130Z"
   },
   {
    "duration": 47,
    "start_time": "2024-07-07T22:11:35.275Z"
   },
   {
    "duration": 6,
    "start_time": "2024-07-07T22:11:35.323Z"
   },
   {
    "duration": 7,
    "start_time": "2024-07-07T22:11:35.330Z"
   },
   {
    "duration": 15,
    "start_time": "2024-07-07T22:11:35.338Z"
   },
   {
    "duration": 331,
    "start_time": "2024-07-07T22:11:35.354Z"
   },
   {
    "duration": 796,
    "start_time": "2024-07-07T22:11:35.690Z"
   },
   {
    "duration": 21,
    "start_time": "2024-07-07T22:11:36.489Z"
   },
   {
    "duration": 27,
    "start_time": "2024-07-07T22:11:36.512Z"
   },
   {
    "duration": 1357,
    "start_time": "2024-07-07T22:11:36.541Z"
   },
   {
    "duration": 50,
    "start_time": "2024-07-07T22:11:37.899Z"
   },
   {
    "duration": 5989,
    "start_time": "2024-07-07T22:11:37.951Z"
   },
   {
    "duration": 2549,
    "start_time": "2024-07-07T22:11:43.942Z"
   },
   {
    "duration": 21,
    "start_time": "2024-07-07T22:11:46.493Z"
   },
   {
    "duration": 152,
    "start_time": "2024-07-07T22:11:46.515Z"
   },
   {
    "duration": 241,
    "start_time": "2024-07-07T22:14:34.570Z"
   },
   {
    "duration": 4,
    "start_time": "2024-07-07T22:14:48.103Z"
   },
   {
    "duration": 2875,
    "start_time": "2024-07-07T22:14:48.126Z"
   },
   {
    "duration": 2756,
    "start_time": "2024-07-07T22:14:51.004Z"
   },
   {
    "duration": 3,
    "start_time": "2024-07-07T22:14:53.762Z"
   },
   {
    "duration": 1679,
    "start_time": "2024-07-07T22:14:53.767Z"
   },
   {
    "duration": 127,
    "start_time": "2024-07-07T22:14:55.448Z"
   },
   {
    "duration": 46,
    "start_time": "2024-07-07T22:14:55.576Z"
   },
   {
    "duration": 12,
    "start_time": "2024-07-07T22:14:55.624Z"
   },
   {
    "duration": 46,
    "start_time": "2024-07-07T22:14:55.637Z"
   },
   {
    "duration": 38,
    "start_time": "2024-07-07T22:14:55.684Z"
   },
   {
    "duration": 314,
    "start_time": "2024-07-07T22:14:55.723Z"
   },
   {
    "duration": 829,
    "start_time": "2024-07-07T22:14:56.038Z"
   },
   {
    "duration": 22,
    "start_time": "2024-07-07T22:14:56.868Z"
   },
   {
    "duration": 60,
    "start_time": "2024-07-07T22:14:56.891Z"
   },
   {
    "duration": 1373,
    "start_time": "2024-07-07T22:14:56.953Z"
   },
   {
    "duration": 54,
    "start_time": "2024-07-07T22:14:58.328Z"
   },
   {
    "duration": 6026,
    "start_time": "2024-07-07T22:14:58.384Z"
   },
   {
    "duration": 2560,
    "start_time": "2024-07-07T22:15:04.412Z"
   },
   {
    "duration": 22,
    "start_time": "2024-07-07T22:15:06.974Z"
   },
   {
    "duration": 342,
    "start_time": "2024-07-07T22:15:06.998Z"
   },
   {
    "duration": 42,
    "start_time": "2024-07-07T22:15:19.452Z"
   },
   {
    "duration": 117,
    "start_time": "2024-07-07T22:15:42.274Z"
   },
   {
    "duration": 165,
    "start_time": "2024-07-07T22:16:01.539Z"
   },
   {
    "duration": 148,
    "start_time": "2024-07-07T22:18:40.543Z"
   },
   {
    "duration": 52,
    "start_time": "2024-07-07T22:24:50.108Z"
   },
   {
    "duration": 909,
    "start_time": "2024-07-07T22:30:29.166Z"
   },
   {
    "duration": 112,
    "start_time": "2024-07-07T22:36:41.606Z"
   },
   {
    "duration": 129,
    "start_time": "2024-07-07T22:37:56.481Z"
   },
   {
    "duration": 246,
    "start_time": "2024-07-07T22:38:33.089Z"
   },
   {
    "duration": 199,
    "start_time": "2024-07-07T22:39:11.601Z"
   },
   {
    "duration": 798,
    "start_time": "2024-07-07T22:39:15.414Z"
   },
   {
    "duration": 311,
    "start_time": "2024-07-07T22:39:16.214Z"
   },
   {
    "duration": 203,
    "start_time": "2024-07-07T22:39:53.599Z"
   },
   {
    "duration": 973,
    "start_time": "2024-07-07T22:39:54.370Z"
   },
   {
    "duration": 260,
    "start_time": "2024-07-07T22:39:55.345Z"
   },
   {
    "duration": 890,
    "start_time": "2024-07-07T22:42:38.276Z"
   },
   {
    "duration": 839,
    "start_time": "2024-07-07T22:47:40.115Z"
   },
   {
    "duration": 989,
    "start_time": "2024-07-07T22:47:47.864Z"
   },
   {
    "duration": 9,
    "start_time": "2024-07-07T22:52:10.883Z"
   },
   {
    "duration": 17,
    "start_time": "2024-07-07T22:53:26.240Z"
   },
   {
    "duration": 839,
    "start_time": "2024-07-07T22:54:06.513Z"
   },
   {
    "duration": 242,
    "start_time": "2024-07-07T22:55:01.089Z"
   },
   {
    "duration": 150,
    "start_time": "2024-07-07T23:13:40.236Z"
   },
   {
    "duration": 738,
    "start_time": "2024-07-07T23:16:02.904Z"
   },
   {
    "duration": 12,
    "start_time": "2024-07-07T23:43:46.750Z"
   },
   {
    "duration": 635,
    "start_time": "2024-07-07T23:43:48.330Z"
   },
   {
    "duration": 2255200,
    "start_time": "2024-07-07T23:58:03.183Z"
   },
   {
    "duration": 2283274,
    "start_time": "2024-07-08T00:38:02.093Z"
   },
   {
    "duration": 4255,
    "start_time": "2024-07-08T19:04:50.546Z"
   },
   {
    "duration": 4,
    "start_time": "2024-07-08T22:30:10.848Z"
   },
   {
    "duration": 2517,
    "start_time": "2024-07-08T22:30:10.854Z"
   },
   {
    "duration": 6684,
    "start_time": "2024-07-08T22:30:13.373Z"
   },
   {
    "duration": 3,
    "start_time": "2024-07-08T22:30:20.059Z"
   },
   {
    "duration": 1952,
    "start_time": "2024-07-08T22:30:20.064Z"
   },
   {
    "duration": 328,
    "start_time": "2024-07-08T22:30:22.017Z"
   },
   {
    "duration": 53,
    "start_time": "2024-07-08T22:30:22.347Z"
   },
   {
    "duration": 6,
    "start_time": "2024-07-08T22:30:22.402Z"
   },
   {
    "duration": 30,
    "start_time": "2024-07-08T22:30:22.409Z"
   },
   {
    "duration": 44,
    "start_time": "2024-07-08T22:30:22.441Z"
   },
   {
    "duration": 346,
    "start_time": "2024-07-08T22:30:22.487Z"
   },
   {
    "duration": 941,
    "start_time": "2024-07-08T22:30:22.835Z"
   },
   {
    "duration": 22,
    "start_time": "2024-07-08T22:30:23.778Z"
   },
   {
    "duration": 82,
    "start_time": "2024-07-08T22:30:23.803Z"
   },
   {
    "duration": 1529,
    "start_time": "2024-07-08T22:30:23.887Z"
   },
   {
    "duration": 54,
    "start_time": "2024-07-08T22:30:25.417Z"
   },
   {
    "duration": 7195,
    "start_time": "2024-07-08T22:30:25.473Z"
   },
   {
    "duration": 2771,
    "start_time": "2024-07-08T22:30:32.670Z"
   },
   {
    "duration": 29,
    "start_time": "2024-07-08T22:30:35.443Z"
   }
  ],
  "colab": {
   "provenance": []
  },
  "kernelspec": {
   "display_name": "Python 3 (ipykernel)",
   "language": "python",
   "name": "python3"
  },
  "language_info": {
   "codemirror_mode": {
    "name": "ipython",
    "version": 3
   },
   "file_extension": ".py",
   "mimetype": "text/x-python",
   "name": "python",
   "nbconvert_exporter": "python",
   "pygments_lexer": "ipython3",
   "version": "3.11.5"
  },
  "toc": {
   "base_numbering": 1,
   "nav_menu": {},
   "number_sections": true,
   "sideBar": true,
   "skip_h1_title": true,
   "title_cell": "Table of Contents",
   "title_sidebar": "Contents",
   "toc_cell": false,
   "toc_position": {},
   "toc_section_display": true,
   "toc_window_display": true
  }
 },
 "nbformat": 4,
 "nbformat_minor": 4
}
